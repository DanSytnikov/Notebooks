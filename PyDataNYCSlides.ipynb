{
 "cells": [
  {
   "cell_type": "markdown",
   "metadata": {
    "slideshow": {
     "slide_type": "slide"
    }
   },
   "source": [
    "# The Art and Science of Data Matching"
   ]
  },
  {
   "cell_type": "markdown",
   "metadata": {
    "slideshow": {
     "slide_type": "-"
    }
   },
   "source": [
    "## Mike Mull (@kwikstep)"
   ]
  },
  {
   "cell_type": "markdown",
   "metadata": {
    "collapsed": false,
    "slideshow": {
     "slide_type": "slide"
    }
   },
   "source": [
    "<img src=\"Integrate.png\">"
   ]
  },
  {
   "cell_type": "markdown",
   "metadata": {
    "slideshow": {
     "slide_type": "slide"
    }
   },
   "source": [
    "<img src=\"Enrich.png\">"
   ]
  },
  {
   "cell_type": "markdown",
   "metadata": {
    "slideshow": {
     "slide_type": "slide"
    }
   },
   "source": [
    "<img src='Merge.png'>"
   ]
  },
  {
   "cell_type": "markdown",
   "metadata": {
    "slideshow": {
     "slide_type": "slide"
    }
   },
   "source": [
    "\n",
    "If you have two sets of data items, A and B, each with no duplicates then \n",
    "\n",
    "\n",
    "$$\n",
    "\\boxed {\n",
    "\\begin{aligned}\n",
    "M=\\{ (a,b)| a \\in A, b \\in B, a = b \\} \\\\\n",
    "U=\\{ (a,b)| a \\in A, b \\in B, a \\ne b \\} \\\\\n",
    "\\end{aligned}\n",
    "}\n",
    "$$\n",
    "\n",
    "\n",
    "By definition the union of the two sets M and U is the set of all pairs A and B, or:\n",
    "\n",
    "$$\n",
    "\\boxed {\n",
    "A \\times B = M \\cup U\n",
    "}\n",
    "$$\n"
   ]
  },
  {
   "cell_type": "markdown",
   "metadata": {
    "slideshow": {
     "slide_type": "slide"
    }
   },
   "source": [
    "## Test Case"
   ]
  },
  {
   "cell_type": "markdown",
   "metadata": {},
   "source": [
    "- From [On Wages and Hygiene: Surfacing Bad Management in Public Data](http://blog.enigma.io/bad-management-radiates-a-look-at-hygiene-and-wages/)\n",
    "  - Florida restaurant inspection data\n",
    "  - Federal wage compliance data (from DOL)"
   ]
  },
  {
   "cell_type": "code",
   "execution_count": 77,
   "metadata": {
    "collapsed": true
   },
   "outputs": [],
   "source": [
    "import pandas as pd\n",
    "# Wage data, drop everything but unique name and addresses, and filter to only Florida.\n",
    "df_oge = pd.read_csv('./data/ogesdw.whd.whisard.fl.csv')\n",
    "df_oge_a_fl = df_oge[['trade_nm', \n",
    "                      'legal_name', \n",
    "                      'street_addr_1_txt', \n",
    "                      'cty_nm', \n",
    "                      'st_cd', \n",
    "                      'zip_cd']].drop_duplicates()\n",
    "\n",
    "# Florida restaurant inspection data.  Drop everything but unique name and addresses\n",
    "df_fl = pd.read_csv('./data/fl.restaurant-inspections.csv')\n",
    "df_fl_a = df_fl[['dba', \n",
    "                 'location_address', \n",
    "                 'location_city', \n",
    "                 'location_zip_code']].drop_duplicates()"
   ]
  },
  {
   "cell_type": "markdown",
   "metadata": {
    "slideshow": {
     "slide_type": "slide"
    }
   },
   "source": [
    "## Data Exploration and Profiling"
   ]
  },
  {
   "cell_type": "code",
   "execution_count": 78,
   "metadata": {
    "collapsed": false,
    "slideshow": {
     "slide_type": "-"
    }
   },
   "outputs": [
    {
     "name": "stdout",
     "output_type": "stream",
     "text": [
      "<class 'pandas.core.frame.DataFrame'>\n",
      "Int64Index: 16655 entries, 0 to 16702\n",
      "Data columns (total 6 columns):\n",
      "trade_nm             16655 non-null object\n",
      "legal_name           16565 non-null object\n",
      "street_addr_1_txt    16655 non-null object\n",
      "cty_nm               16655 non-null object\n",
      "st_cd                16655 non-null object\n",
      "zip_cd               16655 non-null float64\n",
      "dtypes: float64(1), object(5)\n",
      "memory usage: 910.8+ KB\n"
     ]
    }
   ],
   "source": [
    "df_oge_a_fl.info()"
   ]
  },
  {
   "cell_type": "code",
   "execution_count": 79,
   "metadata": {
    "collapsed": false,
    "slideshow": {
     "slide_type": "slide"
    }
   },
   "outputs": [
    {
     "name": "stdout",
     "output_type": "stream",
     "text": [
      "<class 'pandas.core.frame.DataFrame'>\n",
      "Int64Index: 53576 entries, 0 to 130642\n",
      "Data columns (total 4 columns):\n",
      "dba                  53556 non-null object\n",
      "location_address     53576 non-null object\n",
      "location_city        53575 non-null object\n",
      "location_zip_code    53568 non-null object\n",
      "dtypes: object(4)\n",
      "memory usage: 2.0+ MB\n"
     ]
    }
   ],
   "source": [
    "df_fl_a.info()"
   ]
  },
  {
   "cell_type": "markdown",
   "metadata": {
    "slideshow": {
     "slide_type": "slide"
    }
   },
   "source": [
    "### Use `apply()` To Check Field Patterns"
   ]
  },
  {
   "cell_type": "code",
   "execution_count": 80,
   "metadata": {
    "collapsed": false,
    "slideshow": {
     "slide_type": "-"
    }
   },
   "outputs": [
    {
     "name": "stdout",
     "output_type": "stream",
     "text": [
      "pzip\n",
      "99999         47778\n",
      "99999-9999     1611\n",
      "999999999      4179\n",
      "dtype: int64\n",
      "pzip\n",
      "99999    16655\n",
      "dtype: int64\n"
     ]
    }
   ],
   "source": [
    "t={ord(x): y for (x, y) in zip('0123456789', '9999999999')}\n",
    "\n",
    "def zip_trans(z): return z.translate(t) if pd.notnull(z) else z\n",
    "\n",
    "df_fl_a['pzip'] =  df_fl_a.location_zip_code.apply(zip_trans)\n",
    "print(df_fl_a.groupby('pzip').size())\n",
    "\n",
    "df_oge_a_fl['pzip'] =  df_oge_a_fl.zip_cd.apply(lambda x: zip_trans(str(int(x))))\n",
    "print(df_oge_a_fl.groupby('pzip').size())"
   ]
  },
  {
   "cell_type": "markdown",
   "metadata": {
    "slideshow": {
     "slide_type": "slide"
    }
   },
   "source": [
    "### Use `apply()` With Regex"
   ]
  },
  {
   "cell_type": "code",
   "execution_count": 81,
   "metadata": {
    "collapsed": false,
    "slideshow": {
     "slide_type": "-"
    }
   },
   "outputs": [
    {
     "data": {
      "text/plain": [
       "patt\n",
       "99          37\n",
       "AA        1133\n",
       "Aa       14690\n",
       "OTHER      795\n",
       "dtype: int64"
      ]
     },
     "execution_count": 81,
     "metadata": {},
     "output_type": "execute_result"
    }
   ],
   "source": [
    "import re\n",
    "def leading_patt(s):\n",
    "    p = (('^[A-Z][a-z]', 'Aa'), ('^[A-Z][A-Z]', 'AA'), ('^[0-9][0-9]', '99'))\n",
    "    for rx, patt in p:\n",
    "        if re.search(rx, s):\n",
    "            return patt\n",
    "    return 'OTHER'\n",
    "\n",
    "df_oge_a_fl['patt'] = df_oge_a_fl.trade_nm.apply(leading_patt)\n",
    "df_oge_a_fl.groupby('patt').size()"
   ]
  },
  {
   "cell_type": "markdown",
   "metadata": {
    "slideshow": {
     "slide_type": "slide"
    }
   },
   "source": [
    "### Look for Duplicates"
   ]
  },
  {
   "cell_type": "code",
   "execution_count": 95,
   "metadata": {
    "collapsed": false,
    "slideshow": {
     "slide_type": "-"
    }
   },
   "outputs": [
    {
     "data": {
      "text/html": [
       "<div style=\"max-height:1000px;max-width:1500px;overflow:auto;\">\n",
       "<table border=\"1\" class=\"dataframe\">\n",
       "  <thead>\n",
       "    <tr style=\"text-align: right;\">\n",
       "      <th></th>\n",
       "      <th>dba</th>\n",
       "      <th>location_address</th>\n",
       "      <th>location_city</th>\n",
       "      <th>location_zip_code</th>\n",
       "    </tr>\n",
       "  </thead>\n",
       "  <tbody>\n",
       "    <tr>\n",
       "      <th>87993</th>\n",
       "      <td>ATLANTIC VENDORS INC</td>\n",
       "      <td>3111 S ATLANTIC AVE</td>\n",
       "      <td>DAYTONA BEACH SHORES</td>\n",
       "      <td>32118</td>\n",
       "    </tr>\n",
       "    <tr>\n",
       "      <th>87994</th>\n",
       "      <td>ATLANTIC VENDORS INC</td>\n",
       "      <td>2225 S ATLANTIC AVE</td>\n",
       "      <td>DAYTONA BCH SHORES</td>\n",
       "      <td>32118</td>\n",
       "    </tr>\n",
       "    <tr>\n",
       "      <th>87996</th>\n",
       "      <td>ATLANTIC VENDORS INC</td>\n",
       "      <td>2411 S ATLANTIC AVE</td>\n",
       "      <td>DAYTONA BCH SHORES</td>\n",
       "      <td>32118</td>\n",
       "    </tr>\n",
       "    <tr>\n",
       "      <th>87997</th>\n",
       "      <td>ATLANTIC VENDORS INC</td>\n",
       "      <td>3125 S ATLANTIC AVE</td>\n",
       "      <td>DAYTONA BCH SHORES</td>\n",
       "      <td>32118</td>\n",
       "    </tr>\n",
       "    <tr>\n",
       "      <th>87999</th>\n",
       "      <td>ATLANTIC VENDORS INC</td>\n",
       "      <td>400 N ATLANTIC AVE</td>\n",
       "      <td>DAYTONA BCH</td>\n",
       "      <td>32118</td>\n",
       "    </tr>\n",
       "    <tr>\n",
       "      <th>88045</th>\n",
       "      <td>ATLANTIC VENDORS INC</td>\n",
       "      <td>2209 S ATLANTIC AVE</td>\n",
       "      <td>DAYTONA BCH SHORES</td>\n",
       "      <td>32118</td>\n",
       "    </tr>\n",
       "    <tr>\n",
       "      <th>88061</th>\n",
       "      <td>ATLANTIC VENDORS INC</td>\n",
       "      <td>2125 S ATLANTIC AVE</td>\n",
       "      <td>DAYTONA BCH</td>\n",
       "      <td>32118</td>\n",
       "    </tr>\n",
       "    <tr>\n",
       "      <th>88291</th>\n",
       "      <td>ATLANTIC VENDORS INC</td>\n",
       "      <td>2209 S ATLANTIC AVE</td>\n",
       "      <td>DAYTONA BEACH SHORES</td>\n",
       "      <td>32118</td>\n",
       "    </tr>\n",
       "  </tbody>\n",
       "</table>\n",
       "</div>"
      ],
      "text/plain": [
       "                        dba     location_address         location_city  \\\n",
       "87993  ATLANTIC VENDORS INC  3111 S ATLANTIC AVE  DAYTONA BEACH SHORES   \n",
       "87994  ATLANTIC VENDORS INC  2225 S ATLANTIC AVE    DAYTONA BCH SHORES   \n",
       "87996  ATLANTIC VENDORS INC  2411 S ATLANTIC AVE    DAYTONA BCH SHORES   \n",
       "87997  ATLANTIC VENDORS INC  3125 S ATLANTIC AVE    DAYTONA BCH SHORES   \n",
       "87999  ATLANTIC VENDORS INC   400 N ATLANTIC AVE           DAYTONA BCH   \n",
       "88045  ATLANTIC VENDORS INC  2209 S ATLANTIC AVE    DAYTONA BCH SHORES   \n",
       "88061  ATLANTIC VENDORS INC  2125 S ATLANTIC AVE           DAYTONA BCH   \n",
       "88291  ATLANTIC VENDORS INC  2209 S ATLANTIC AVE  DAYTONA BEACH SHORES   \n",
       "\n",
       "      location_zip_code  \n",
       "87993             32118  \n",
       "87994             32118  \n",
       "87996             32118  \n",
       "87997             32118  \n",
       "87999             32118  \n",
       "88045             32118  \n",
       "88061             32118  \n",
       "88291             32118  "
      ]
     },
     "execution_count": 95,
     "metadata": {},
     "output_type": "execute_result"
    }
   ],
   "source": [
    "df_fl_a.groupby(['dba','location_zip_code'])\\\n",
    "       .filter(lambda x: len(x['dba']) > 2)\\\n",
    "       .sort('dba')[['dba',\n",
    "                     'location_address',\n",
    "                     'location_city',\n",
    "                     'location_zip_code']].head(8)"
   ]
  },
  {
   "cell_type": "markdown",
   "metadata": {
    "slideshow": {
     "slide_type": "slide"
    }
   },
   "source": [
    "### Make a Histogram of String Length"
   ]
  },
  {
   "cell_type": "code",
   "execution_count": 83,
   "metadata": {
    "collapsed": false
   },
   "outputs": [
    {
     "data": {
      "image/png": "[encoded data removed]",
      "text/plain": [
       "<matplotlib.figure.Figure at 0x7f6703afd4e0>"
      ]
     },
     "metadata": {},
     "output_type": "display_data"
    }
   ],
   "source": [
    "%matplotlib inline\n",
    "import matplotlib.pyplot as plt\n",
    "\n",
    "_ = plt.hist(df_fl_a.dba.apply(lambda x: len(x) if pd.notnull(x) else 0))"
   ]
  },
  {
   "cell_type": "markdown",
   "metadata": {
    "slideshow": {
     "slide_type": "slide"
    }
   },
   "source": [
    "## Comparing Fields"
   ]
  },
  {
   "cell_type": "markdown",
   "metadata": {},
   "source": [
    "In practice we compare against attributes of rA or rB\n",
    "\n",
    "$$\n",
    "Sim(r_{A}, r_{B}) = Sim(a_{1}, a_{2}..., a_{n}; b_{1}, b_{2}, ..., b_{n}) \\\\\n",
    "= [s_{1}(a_{1}, b_{1}), ..., s_{n}(a_{n}, b_{n})]\n",
    "$$\n",
    "\n",
    "where the _si_ are comparison functions for each field.  So we end up with a comparison vector for each record."
   ]
  },
  {
   "cell_type": "markdown",
   "metadata": {
    "slideshow": {
     "slide_type": "slide"
    }
   },
   "source": [
    "### Preprocessing and Transformation"
   ]
  },
  {
   "cell_type": "markdown",
   "metadata": {},
   "source": [
    "- Simple text transformations: lowerize, remove punctuation\n",
    "- More complex:\n",
    "  - Replace patterns ('&' -> 'and')\n",
    "  - Standardize abbreviations, roman numerals, ordinals\n",
    "  - In some situations, remove stop words, use stemming\n",
    "- Standard length or format (eg, with zip codes)\n",
    "- Parsing or tokenization\n",
    "- Imputation\n"
   ]
  },
  {
   "cell_type": "code",
   "execution_count": 84,
   "metadata": {
    "collapsed": true
   },
   "outputs": [],
   "source": [
    "# Process name and zip code fields\n",
    "name_prep = lambda x:x.lower().translate({None:\"'.,\"}) if pd.notnull(x) else ''\n",
    "df_fl_a['nname'] = df_fl_a.dba.apply(name_prep)\n",
    "df_oge_a_fl['nname'] = df_oge_a_fl.trade_nm.apply(name_prep)\n",
    "\n",
    "df_fl_a['nzip'] = df_fl_a.location_zip_code.apply(lambda x:x[0:5] if pd.notnull(x) else x)\n",
    "df_oge_a_fl['nzip'] = df_oge_a_fl.zip_cd.apply(lambda x: str(int(x)))\n",
    "\n",
    "# Split out street number into separate field\n",
    "df_fl_a['snum'] = df_fl_a.location_address.str.split(' ',1).apply(lambda x:x[0])\n",
    "df_oge_a_fl['snum'] = df_oge_a_fl.street_addr_1_txt.str.split(' ',1).apply(lambda x:x[0])"
   ]
  },
  {
   "cell_type": "markdown",
   "metadata": {
    "slideshow": {
     "slide_type": "slide"
    }
   },
   "source": [
    "### Approximate String Comparison"
   ]
  },
  {
   "cell_type": "markdown",
   "metadata": {},
   "source": [
    "- NLTK\n",
    "  - Edit distance\n",
    "  - Jaccard distance\n",
    "- Difflib\n",
    "  - SequenceMatcher\n",
    "- Jellyfish\n",
    "  - __Levenshtein__ \n",
    "  - Jaro and __Jaro-Winkler__\n",
    "  - Soundex\n",
    "- FuzzyWuzzy\n",
    "\n",
    "- Token-Based\n",
    "  - __Jaccard similarity__\n",
    "  - __SoftTf-Idf__\n"
   ]
  },
  {
   "cell_type": "markdown",
   "metadata": {
    "slideshow": {
     "slide_type": "slide"
    }
   },
   "source": [
    "### Levenshtein/Edit Distance"
   ]
  },
  {
   "cell_type": "code",
   "execution_count": 85,
   "metadata": {
    "collapsed": false
   },
   "outputs": [
    {
     "name": "stdout",
     "output_type": "stream",
     "text": [
      "1\n",
      "2\n",
      "3\n",
      "4\n"
     ]
    }
   ],
   "source": [
    "from jellyfish import levenshtein_distance\n",
    "print(levenshtein_distance('pydata', 'padata'))    # 1-character change\n",
    "print(levenshtein_distance('pydata', 'pandata'))   # Insert character\n",
    "print(levenshtein_distance('pydata', 'pandasa'))   # 1-character change\n",
    "print(levenshtein_distance('pydata', 'pandas'))    # Character deletion"
   ]
  },
  {
   "cell_type": "markdown",
   "metadata": {
    "slideshow": {
     "slide_type": "slide"
    }
   },
   "source": [
    "### Jaro/Jaro-Winkler"
   ]
  },
  {
   "cell_type": "markdown",
   "metadata": {},
   "source": [
    "$$\n",
    "Jaro(s_{1}, s_{2}) = w_{1}\\frac{c}{L_{1}} + w_{2}\\frac{c}{L_{2}} + w_{t}\\frac{c-\\tau}{c}\n",
    "$$\n",
    "where:\n",
    "$$\n",
    "L_{1} \\mbox{ is length of }s_{1} \\\\\n",
    "L_{2} \\mbox{ is length of }s_{2} \\\\\n",
    "c \\mbox{ is number of characters in common } \\\\\n",
    "\\tau \\mbox{ is number of transpositions } \\\\\n",
    "$$\n",
    "\n",
    "$$\n",
    "JaroWinkler(s_{1}, s_{2}) = Jaro(s_{1}, s_{2}) + 0.1 i(1 - Jaro(s_{1}, s_{2}))\n",
    "$$\n",
    "where:\n",
    "__i__ is min(4, number of initial characters that match)"
   ]
  },
  {
   "cell_type": "markdown",
   "metadata": {
    "slideshow": {
     "slide_type": "slide"
    }
   },
   "source": [
    "### Jaccard"
   ]
  },
  {
   "cell_type": "code",
   "execution_count": 86,
   "metadata": {
    "collapsed": false
   },
   "outputs": [
    {
     "name": "stdout",
     "output_type": "stream",
     "text": [
      "0.42857142857142855\n",
      "0.6666666666666666\n"
     ]
    }
   ],
   "source": [
    "def jaccard(s1, s2):\n",
    "    ''' Jaccard similarity score.  (1 - jaccard) is a valid distance metric '''\n",
    "    a = set(s1)\n",
    "    b = set(s2)\n",
    "    if len(a) == 0 and len(b) == 0:\n",
    "        return 0\n",
    "    return len(a & b) / len(a | b)\n",
    "\n",
    "print(jaccard('pydata', 'pandas'))\n",
    "print(jaccard(['bag', 'of', 'words'], ['words', 'bag']))"
   ]
  },
  {
   "cell_type": "code",
   "execution_count": 87,
   "metadata": {
    "collapsed": false
   },
   "outputs": [
    {
     "name": "stdout",
     "output_type": "stream",
     "text": [
      "0.1111111111111111\n",
      "0.0\n"
     ]
    }
   ],
   "source": [
    "# N-gram function courtesy of Peter Norvig\n",
    "def ngrams(seq, n):\n",
    "    \"List all the (overlapping) ngrams in a sequence.\"\n",
    "    return [seq[i:i+n] for i in range(1+len(seq)-n)]\n",
    "\n",
    "print(jaccard(ngrams('pydata', 2), ngrams('pandas', 2)))\n",
    "print(jaccard(ngrams('pydata', 3), ngrams('pandas', 3)))"
   ]
  },
  {
   "cell_type": "markdown",
   "metadata": {
    "slideshow": {
     "slide_type": "slide"
    }
   },
   "source": [
    "### SoftTf-Idf"
   ]
  },
  {
   "cell_type": "markdown",
   "metadata": {},
   "source": [
    "- _SoftTf-Idf_ is a variation of Tf-Idf (_Term Frequency-Inverse Document Frequency_) that includes similar tokens\n",
    "\n",
    "$$\n",
    "tfidf(t,d,D) = tf(t,d) * idf(t, D)\n",
    "$$\n",
    "\n",
    "$$\n",
    "idf(t,D) = log \\frac{|D|}{| d \\in D, t \\in d |}\n",
    "$$\n",
    "\n",
    "-  In the SoftTd-Idf scheme _similar_ tokens are included.\n",
    "\n",
    "$$\n",
    "\\{ sim(w,v) > \\theta | w \\in X, v \\in Y \\} \n",
    "$$\n"
   ]
  },
  {
   "cell_type": "markdown",
   "metadata": {
    "slideshow": {
     "slide_type": "slide"
    }
   },
   "source": [
    "## Human Names"
   ]
  },
  {
   "cell_type": "markdown",
   "metadata": {},
   "source": [
    "|  Name |  Source  |\n",
    "| --- |  --- |\n",
    "| RICHARD ALLAN BREGGER | Finra |\n",
    "| RICHARD A BREGGER | DOL |\n",
    "| BREGGER RICHARD A | DOL |\n",
    "| RICHAPT) A BREGGER | DOL (OCR error) |\n",
    "| RICHARD A BREGGER AXA FINANCIAL | DOL |\n",
    "| RICHARD D BREGGER | DOL |\n",
    "| RICHARDBREGGER | Record Keeper |\n",
    "\n",
    "<img src='bregger.png'>"
   ]
  },
  {
   "cell_type": "markdown",
   "metadata": {
    "slideshow": {
     "slide_type": "slide"
    }
   },
   "source": [
    "### Stupid Human (Name) Tricks"
   ]
  },
  {
   "cell_type": "markdown",
   "metadata": {
    "slideshow": {
     "slide_type": "-"
    }
   },
   "source": [
    "- Almost always want to parse names into (first, middle or MI, last)\n",
    "- Do not use regex\n",
    "- Substituting first names is helpful, but build your own database of alternatives\n",
    "- Do not use regex\n",
    "- As you match, retain alternatives and do look-ups"
   ]
  },
  {
   "cell_type": "markdown",
   "metadata": {
    "slideshow": {
     "slide_type": "slide"
    }
   },
   "source": [
    "### The _nameparser_ library"
   ]
  },
  {
   "cell_type": "code",
   "execution_count": 88,
   "metadata": {
    "collapsed": false
   },
   "outputs": [
    {
     "data": {
      "text/plain": [
       "<HumanName : [\n",
       "\ttitle: 'DR.' \n",
       "\tfirst: 'RICHARD' \n",
       "\tmiddle: 'ALLAN' \n",
       "\tlast: 'BREGGER' \n",
       "\tsuffix: 'Ph.D'\n",
       "\tnickname: 'Rick'\n",
       "]>"
      ]
     },
     "execution_count": 88,
     "metadata": {},
     "output_type": "execute_result"
    }
   ],
   "source": [
    "from nameparser import HumanName\n",
    "\n",
    "HumanName('DR. RICHARD ALLAN \"Rick\" BREGGER, Ph.D')"
   ]
  },
  {
   "cell_type": "code",
   "execution_count": 89,
   "metadata": {
    "collapsed": false,
    "slideshow": {
     "slide_type": "slide"
    }
   },
   "outputs": [
    {
     "data": {
      "text/plain": [
       "<HumanName : [\n",
       "\ttitle: '' \n",
       "\tfirst: 'RICHARD' \n",
       "\tmiddle: 'A' \n",
       "\tlast: 'BREGGER' \n",
       "\tsuffix: ''\n",
       "\tnickname: ''\n",
       "]>"
      ]
     },
     "execution_count": 89,
     "metadata": {},
     "output_type": "execute_result"
    }
   ],
   "source": [
    "HumanName('BREGGER, RICHARD A')"
   ]
  },
  {
   "cell_type": "code",
   "execution_count": 90,
   "metadata": {
    "collapsed": false
   },
   "outputs": [
    {
     "data": {
      "text/plain": [
       "<HumanName : [\n",
       "\ttitle: '' \n",
       "\tfirst: 'BREGGER' \n",
       "\tmiddle: 'RICHARD' \n",
       "\tlast: 'A' \n",
       "\tsuffix: ''\n",
       "\tnickname: ''\n",
       "]>"
      ]
     },
     "execution_count": 90,
     "metadata": {},
     "output_type": "execute_result"
    }
   ],
   "source": [
    "HumanName('BREGGER RICHARD A')"
   ]
  },
  {
   "cell_type": "markdown",
   "metadata": {
    "slideshow": {
     "slide_type": "slide"
    }
   },
   "source": [
    "## Addresses and Geocoding"
   ]
  },
  {
   "cell_type": "markdown",
   "metadata": {},
   "source": [
    "- Addresses are more frequently separated into multiple fields, usually street address, city, state, zip code in the source data.\n",
    "- Zip codes have 3,5, and 9 (Zip+4) variants\n",
    "- Since Zip codes are designed for efficiency of mail delivery, they aren't a consistent indicator of physical proximity.\n",
    "  - Zips are not even areas\n",
    "- The street number can be a useful identifier\n",
    "- Different businesses might have identical addresses (aka, \"the food-court effect\")"
   ]
  },
  {
   "cell_type": "code",
   "execution_count": 94,
   "metadata": {
    "collapsed": false
   },
   "outputs": [
    {
     "data": {
      "text/html": [
       "<div style=\"max-height:1000px;max-width:1500px;overflow:auto;\">\n",
       "<table border=\"1\" class=\"dataframe\">\n",
       "  <thead>\n",
       "    <tr style=\"text-align: right;\">\n",
       "      <th></th>\n",
       "      <th>dba</th>\n",
       "      <th>location_address</th>\n",
       "      <th>location_city</th>\n",
       "      <th>location_zip_code</th>\n",
       "    </tr>\n",
       "  </thead>\n",
       "  <tbody>\n",
       "    <tr>\n",
       "      <th>129483</th>\n",
       "      <td>HOSTED GOURMET</td>\n",
       "      <td>39 S BENEVA RD</td>\n",
       "      <td>SARASOTA</td>\n",
       "      <td>34232</td>\n",
       "    </tr>\n",
       "    <tr>\n",
       "      <th>129503</th>\n",
       "      <td>STAMPER CHEESE COMPANY</td>\n",
       "      <td>39 S BENEVA RD</td>\n",
       "      <td>SARASOTA</td>\n",
       "      <td>34232</td>\n",
       "    </tr>\n",
       "    <tr>\n",
       "      <th>129507</th>\n",
       "      <td>MOUTHOLE BBQ</td>\n",
       "      <td>39 S BENEVA RD</td>\n",
       "      <td>SARASOTA</td>\n",
       "      <td>34232</td>\n",
       "    </tr>\n",
       "    <tr>\n",
       "      <th>129515</th>\n",
       "      <td>PALEO CONNECTION LLC</td>\n",
       "      <td>39 S BENEVA RD</td>\n",
       "      <td>SARASOTA</td>\n",
       "      <td>34232</td>\n",
       "    </tr>\n",
       "    <tr>\n",
       "      <th>129516</th>\n",
       "      <td>DOLCE VITA LLC</td>\n",
       "      <td>39 S BENEVA RD</td>\n",
       "      <td>SARASOTA</td>\n",
       "      <td>34232</td>\n",
       "    </tr>\n",
       "    <tr>\n",
       "      <th>129517</th>\n",
       "      <td>BRICKS BBQ</td>\n",
       "      <td>39 S BENEVA RD</td>\n",
       "      <td>SARASOTA</td>\n",
       "      <td>34232</td>\n",
       "    </tr>\n",
       "    <tr>\n",
       "      <th>129521</th>\n",
       "      <td>WINGS ON WHEELS LLC</td>\n",
       "      <td>39 S BENEVA RD</td>\n",
       "      <td>SARASOTA</td>\n",
       "      <td>34232</td>\n",
       "    </tr>\n",
       "    <tr>\n",
       "      <th>130612</th>\n",
       "      <td>MOBILE BISTRO</td>\n",
       "      <td>39 S BENEVA RD</td>\n",
       "      <td>SARASOTA</td>\n",
       "      <td>34240</td>\n",
       "    </tr>\n",
       "    <tr>\n",
       "      <th>130625</th>\n",
       "      <td>RI QUISIMO</td>\n",
       "      <td>39 S BENEVA RD</td>\n",
       "      <td>SARASOTA</td>\n",
       "      <td>34232</td>\n",
       "    </tr>\n",
       "  </tbody>\n",
       "</table>\n",
       "</div>"
      ],
      "text/plain": [
       "                           dba location_address location_city  \\\n",
       "129483          HOSTED GOURMET   39 S BENEVA RD      SARASOTA   \n",
       "129503  STAMPER CHEESE COMPANY   39 S BENEVA RD      SARASOTA   \n",
       "129507            MOUTHOLE BBQ   39 S BENEVA RD      SARASOTA   \n",
       "129515    PALEO CONNECTION LLC   39 S BENEVA RD      SARASOTA   \n",
       "129516          DOLCE VITA LLC   39 S BENEVA RD      SARASOTA   \n",
       "129517              BRICKS BBQ   39 S BENEVA RD      SARASOTA   \n",
       "129521     WINGS ON WHEELS LLC   39 S BENEVA RD      SARASOTA   \n",
       "130612           MOBILE BISTRO   39 S BENEVA RD      SARASOTA   \n",
       "130625              RI QUISIMO   39 S BENEVA RD      SARASOTA   \n",
       "\n",
       "       location_zip_code  \n",
       "129483             34232  \n",
       "129503             34232  \n",
       "129507             34232  \n",
       "129515             34232  \n",
       "129516             34232  \n",
       "129517             34232  \n",
       "129521             34232  \n",
       "130612             34240  \n",
       "130625             34232  "
      ]
     },
     "execution_count": 94,
     "metadata": {},
     "output_type": "execute_result"
    }
   ],
   "source": [
    "df_fl_a[df_fl_a.location_address=='39 S BENEVA RD'][['dba',\n",
    "                     'location_address',\n",
    "                     'location_city',\n",
    "                     'location_zip_code']]"
   ]
  },
  {
   "cell_type": "markdown",
   "metadata": {
    "slideshow": {
     "slide_type": "slide"
    }
   },
   "source": [
    "### Geocoders"
   ]
  },
  {
   "cell_type": "markdown",
   "metadata": {},
   "source": [
    "- Google\n",
    "- OpenStreetMap Nominatim\n",
    "- geocoder.us\n",
    "- TIGER\n",
    "  - Addon for PostGIS\n",
    "  - Uses US Census Bureau TIGER Geodatabases"
   ]
  },
  {
   "cell_type": "markdown",
   "metadata": {
    "slideshow": {
     "slide_type": "slide"
    }
   },
   "source": [
    "```\n",
    "SELECT g.rating, ST_X(g.geomout) As lon, ST_Y(g.geomout) As lat, \n",
    "(addy).address As stno, (addy).streetname As street, \n",
    "(addy).streettypeabbrev As styp, (addy).location As city, (addy).stateabbrev As st,(addy).zip \n",
    "FROM geocode('555 Lake Border Drive, Apopka, FL 32703') As g; \n",
    "\n",
    " rating |        lon        |       lat        | stno |   street    | styp |  city  | st |  zip  \n",
    "--------+-------------------+------------------+------+-------------+------+--------+----+-------\n",
    "      0 | -81.4651538792139 | 28.6714046741846 |  555 | Lake Border | Dr   | Apopka | FL | 32703\n",
    "```\n",
    "```\n",
    "datanav=# SELECT g.rating, ST_X(g.geomout) As lon, ST_Y(g.geomout) As lat, \n",
    "(addy).address As stno, (addy).streetname As street, \n",
    "(addy).streettypeabbrev As styp, (addy).location As city, (addy).stateabbrev As st,(addy).zip \n",
    "FROM geocode('5555 Lake Border Drive, Apopka, FL 32703') As g;  \n",
    " rating |        lon        |       lat        | stno |   street    | styp |  city  | st |  zip  \n",
    "--------+-------------------+------------------+------+-------------+------+--------+----+-------\n",
    "     10 | -81.4651087639419 | 28.6712609342955 |  699 | Lake Border | Dr   | Apopka | FL | 32703\n",
    "```\n",
    "\n",
    "```\n",
    "datanav=# SELECT g.rating, ST_X(g.geomout) As lon, ST_Y(g.geomout) As lat, \n",
    "(addy).address As stno, (addy).streetname As street, \n",
    "(addy).streettypeabbrev As styp, (addy).location As city, (addy).stateabbrev As st,(addy).zip \n",
    "FROM geocode('Apopka, FL 32703') As g;  \n",
    " rating |       lon        |       lat        | stno | street | styp |  city  | st |  zip  \n",
    "--------+------------------+------------------+------+--------+------+--------+----+-------\n",
    "    100 | -81.552957384847 | 28.6706870842484 |      |        |      | Apopka | FL | 32703\n",
    "```\n"
   ]
  },
  {
   "cell_type": "markdown",
   "metadata": {
    "slideshow": {
     "slide_type": "slide"
    }
   },
   "source": [
    "#### Comparing Locations"
   ]
  },
  {
   "cell_type": "markdown",
   "metadata": {},
   "source": [
    "- To compute actual _distance_ you need to use Vincenty or Great Circle distance\n",
    "- However for comparison, L1 norm will probably work."
   ]
  },
  {
   "cell_type": "code",
   "execution_count": 92,
   "metadata": {
    "collapsed": false
   },
   "outputs": [
    {
     "data": {
      "text/plain": [
       "(0.0034628723732747875, 6.092525294476887)"
      ]
     },
     "execution_count": 92,
     "metadata": {},
     "output_type": "execute_result"
    }
   ],
   "source": [
    "from geopy.distance import vincenty\n",
    "\n",
    "l0 = (-81.4651538792139,  28.6714046741846)\n",
    "l10 = (-81.4651087639419, 28.6712609342955)\n",
    "l100 = (-81.552957384847,  28.6706870842484)\n",
    "\n",
    "vincenty(l0, l10).miles, vincenty(l0, l100).miles"
   ]
  },
  {
   "cell_type": "markdown",
   "metadata": {
    "slideshow": {
     "slide_type": "slide"
    }
   },
   "source": [
    "## Blocking"
   ]
  },
  {
   "cell_type": "markdown",
   "metadata": {},
   "source": [
    "For our example case, we have over 800 million record pairs in A x B.  __Blocking__ is the process of reducing the number of candidate pairs by assiging the records in each data set to a block.  Only record pairs that have the same block key will be compared."
   ]
  },
  {
   "cell_type": "code",
   "execution_count": 93,
   "metadata": {
    "collapsed": false
   },
   "outputs": [
    {
     "data": {
      "image/png": "[encoded data removed]",
      "text/plain": [
       "<matplotlib.figure.Figure at 0x7f67065340b8>"
      ]
     },
     "metadata": {},
     "output_type": "display_data"
    }
   ],
   "source": [
    "df_fl_a['k'] = 1\n",
    "df_oge_a_fl['k'] = 1\n",
    "df_block = df_fl_a.sort('nzip').iloc[0:1000].merge(df_oge_a_fl.sort('nzip').iloc[0:500], \n",
    "                                                  on='k')[['nzip_x', 'nzip_y']]\n",
    "\n",
    "z = (df_block.nzip_x == df_block.nzip_y).values\n",
    "z.shape = (1000, 500)\n",
    "_=plt.imshow(z, aspect=0.5)"
   ]
  },
  {
   "cell_type": "markdown",
   "metadata": {
    "slideshow": {
     "slide_type": "slide"
    }
   },
   "source": [
    "### Using Multiple Properties"
   ]
  },
  {
   "cell_type": "markdown",
   "metadata": {},
   "source": [
    "- Blocking with an existing property will often defeat the purpose of matching\n",
    "- Using multiple properties (eg, Zip, Street Num) increases the probability of including candidates\n",
    "  - At the expense of multiple blocks per record.\n",
    "- This is equivalent to Locality Sensitive Hashing (LSH)"
   ]
  },
  {
   "cell_type": "markdown",
   "metadata": {
    "slideshow": {
     "slide_type": "slide"
    }
   },
   "source": [
    "### N-Gram Based Blocks"
   ]
  },
  {
   "cell_type": "code",
   "execution_count": 48,
   "metadata": {
    "collapsed": false
   },
   "outputs": [
    {
     "data": {
      "text/plain": [
       "{'eeett  cca',\n",
       " 'ett  ccaaf',\n",
       " 'reeeett  c',\n",
       " 'sttrreeeet',\n",
       " 't  ccaaffe',\n",
       " 'trreeeett '}"
      ]
     },
     "execution_count": 48,
     "metadata": {},
     "output_type": "execute_result"
    }
   ],
   "source": [
    "def window(fseq, window_size=5):\n",
    "...     for i in range(len(fseq) - window_size + 1):\n",
    "...         yield fseq[i:i+window_size]\n",
    "\n",
    "n1 = ngrams('mainstreet cafe', 2)\n",
    "[''.join(x) for x in window(n1)]\n",
    "n2 = ngrams('the main street cafe inc', 2)\n",
    "set([''.join(x) for x in window(n1)]) & set([''.join(x) for x in window(n2)])"
   ]
  },
  {
   "cell_type": "markdown",
   "metadata": {
    "slideshow": {
     "slide_type": "slide"
    }
   },
   "source": [
    "### Canopy Clustering"
   ]
  },
  {
   "cell_type": "markdown",
   "metadata": {},
   "source": [
    "- Generate blocking keys for record (for example, bigrams of name)\n",
    "- Add record to block if blocks keys are sufficiently similar (eg, Jaccard similarity of bigram sets)"
   ]
  },
  {
   "cell_type": "markdown",
   "metadata": {
    "slideshow": {
     "slide_type": "slide"
    }
   },
   "source": [
    "## Classifying Matches"
   ]
  },
  {
   "cell_type": "markdown",
   "metadata": {},
   "source": [
    "### Simple Scoring"
   ]
  },
  {
   "cell_type": "markdown",
   "metadata": {},
   "source": [
    "Recall that for each record pair we're supposing that we have a vector where each element of the vector is a comparison of the comparable attributes:\n",
    "$$\n",
    "[s_{1}(a_{1}, b_{1}), ..., s_{n}(a_{n}, b_{n})]\n",
    "$$\n",
    "\n",
    "- Sum the individual scores and set a threshold T1.  Anything > T1 is a match\n",
    "- For bonus points, choose a second threshold T2 so that anything < T2 is a non-match\n",
    "- Any sum between T1 and T2 needs review.\n"
   ]
  },
  {
   "cell_type": "markdown",
   "metadata": {
    "slideshow": {
     "slide_type": "slide"
    }
   },
   "source": [
    "### Rules"
   ]
  },
  {
   "cell_type": "markdown",
   "metadata": {},
   "source": [
    "$$\n",
    "(JaroWinkler(Name_{A}, Name_{B}) > 0.9) \\land (Zip_{A} = Zip_{B}) \\implies M\n",
    "$$\n",
    "\n",
    "$$\n",
    "(JaroWinkler(Name_{A}, Name_{B}) < 0.7) \\lor (Zip_{A} \\neq Zip_{B}) \\implies U\n",
    "$$\n"
   ]
  },
  {
   "cell_type": "markdown",
   "metadata": {
    "slideshow": {
     "slide_type": "slide"
    }
   },
   "source": [
    "### Probabilistic Matching (Fellugi-Sunter)"
   ]
  },
  {
   "cell_type": "markdown",
   "metadata": {},
   "source": [
    "Suppose our comparison vector is:\n",
    "\n",
    "$$\n",
    "  \\gamma(r_{A}, r_{B}) = [JaroWinkler(Name_{A}, Name_{B}) > 0.9, (Zip_{A} = Zip_{B}), Levenshtein(StreetNum_{A}, StreetNum_{B}) < 2]\n",
    "$$\n",
    "\n",
    "We'll call this type of comparison vector an _agreement pattern_.  The are 8 separate patterns (2^3) in this case\n"
   ]
  },
  {
   "cell_type": "code",
   "execution_count": 49,
   "metadata": {
    "collapsed": false
   },
   "outputs": [
    {
     "data": {
      "text/html": [
       "<div style=\"max-height:1000px;max-width:1500px;overflow:auto;\">\n",
       "<table border=\"1\" class=\"dataframe\">\n",
       "  <thead>\n",
       "    <tr style=\"text-align: right;\">\n",
       "      <th></th>\n",
       "      <th>name</th>\n",
       "      <th>zip</th>\n",
       "      <th>street num</th>\n",
       "    </tr>\n",
       "  </thead>\n",
       "  <tbody>\n",
       "    <tr>\n",
       "      <th>0</th>\n",
       "      <td>match</td>\n",
       "      <td>match</td>\n",
       "      <td>match</td>\n",
       "    </tr>\n",
       "    <tr>\n",
       "      <th>1</th>\n",
       "      <td>match</td>\n",
       "      <td>match</td>\n",
       "      <td>unmatch</td>\n",
       "    </tr>\n",
       "    <tr>\n",
       "      <th>2</th>\n",
       "      <td>match</td>\n",
       "      <td>unmatch</td>\n",
       "      <td>match</td>\n",
       "    </tr>\n",
       "    <tr>\n",
       "      <th>3</th>\n",
       "      <td>match</td>\n",
       "      <td>unmatch</td>\n",
       "      <td>unmatch</td>\n",
       "    </tr>\n",
       "    <tr>\n",
       "      <th>4</th>\n",
       "      <td>unmatch</td>\n",
       "      <td>match</td>\n",
       "      <td>match</td>\n",
       "    </tr>\n",
       "    <tr>\n",
       "      <th>5</th>\n",
       "      <td>unmatch</td>\n",
       "      <td>match</td>\n",
       "      <td>unmatch</td>\n",
       "    </tr>\n",
       "    <tr>\n",
       "      <th>6</th>\n",
       "      <td>unmatch</td>\n",
       "      <td>unmatch</td>\n",
       "      <td>match</td>\n",
       "    </tr>\n",
       "    <tr>\n",
       "      <th>7</th>\n",
       "      <td>unmatch</td>\n",
       "      <td>unmatch</td>\n",
       "      <td>unmatch</td>\n",
       "    </tr>\n",
       "  </tbody>\n",
       "</table>\n",
       "</div>"
      ],
      "text/plain": [
       "      name      zip street num\n",
       "0    match    match      match\n",
       "1    match    match    unmatch\n",
       "2    match  unmatch      match\n",
       "3    match  unmatch    unmatch\n",
       "4  unmatch    match      match\n",
       "5  unmatch    match    unmatch\n",
       "6  unmatch  unmatch      match\n",
       "7  unmatch  unmatch    unmatch"
      ]
     },
     "execution_count": 49,
     "metadata": {},
     "output_type": "execute_result"
    }
   ],
   "source": [
    "import itertools\n",
    "pd.DataFrame(data=list(itertools.product(['match','unmatch'], repeat=3)),\n",
    "             columns=['name', 'zip', 'street num'])"
   ]
  },
  {
   "cell_type": "markdown",
   "metadata": {
    "slideshow": {
     "slide_type": "slide"
    }
   },
   "source": [
    "The method then defines the following two conditonal probabilities:\n",
    "\n",
    "$$\n",
    "\\begin{align}\n",
    "m(\\gamma) = P[\\gamma(r_{A}, r_{B})| (r_{A}, r_{B}) \\in M] \\\\\n",
    "= \\sum_{a,b \\in M} P[\\gamma(r_{A},r_{B})]P[(r_{A}, r_{B}) \\in M]\n",
    "\\end{align}\n",
    "$$\n",
    "and\n",
    "$$\n",
    "\\begin{align}\n",
    "u(\\gamma) = P[\\gamma(r_{A}, r_{B})| (r_{A}, r_{B}) \\in U] \\\\\n",
    "= \\sum_{a,b \\in U} P[\\gamma(r_{A},r_{B}]P[(r_{A}, r_{B}) \\in U]\n",
    "\\end{align}\n",
    "$$\n"
   ]
  },
  {
   "cell_type": "markdown",
   "metadata": {
    "slideshow": {
     "slide_type": "slide"
    }
   },
   "source": [
    "The Fellegi-Sunter method results in a _linkage rule_:\n",
    "\n",
    "$$\n",
    "\t\\begin{array}{ll}\n",
    "\t\t\\frac{m}{u} > T_{\\mu}  & \\mbox{match}  \\\\\n",
    "        T_{\\mu} < \\frac{m}{u} < T_{\\lambda}  & \\mbox{potential match}  \\\\\n",
    "\t\t\\frac{m}{u} < T_{\\lambda}  & \\mbox{non-match}  \\\\\n",
    "\t\\end{array}\n",
    "$$\n"
   ]
  },
  {
   "cell_type": "markdown",
   "metadata": {
    "slideshow": {
     "slide_type": "slide"
    }
   },
   "source": [
    "#### Simplifications"
   ]
  },
  {
   "cell_type": "markdown",
   "metadata": {},
   "source": [
    "\n",
    "- Conditional Independence\n",
    "$$\n",
    "Pr(\\texttt{name matches}, \\texttt{zip matches}, \\texttt{street matches}|M) = Pr(\\texttt{name matches}|M) Pr(\\texttt{zip matches}|M) Pr(\\texttt{street matches}|M)\n",
    "$$\n",
    "\n",
    "\n",
    "$$\n",
    "m(\\texttt{name matches}) = \\frac{Pr(\\texttt{name matches}|M)}{Pr(\\texttt{name matches}|U)}\n",
    "$$\n",
    "\n",
    "\n",
    "- Convert m/u ratios to weights:\n",
    "\n",
    "$$\n",
    "w_{i} = \n",
    "\\left\\{\n",
    "\t\\begin{array}{ll}\n",
    "\t\tlog_{2}(\\frac{m_{i}}{u_{i}})  & \\mbox{if agreement on field i}  \\\\\n",
    "\t\tlog_{2}(\\frac{1-m_{i}}{1-u_{i}}) & \\mbox{if otherwise}\n",
    "\t\\end{array}\n",
    "\\right.\n",
    "$$"
   ]
  },
  {
   "cell_type": "markdown",
   "metadata": {
    "slideshow": {
     "slide_type": "slide"
    }
   },
   "source": [
    "But Wait!\n",
    "\n",
    "- By definition we don't know which records are in M and which are in U\n",
    "- In some cases __m/u__ can be estimated, and then progressively refined.\n",
    "- Most general method is Expectation-Maximization algorithm"
   ]
  },
  {
   "cell_type": "markdown",
   "metadata": {},
   "source": [
    "- Assume distribution of patterns is a mixture of distributions, with parameters:\n",
    "\n",
    "$$\n",
    "\\Phi = ((m_{1}\\dots m_{k}), (u_{1}\\dots u_{k}), p)\n",
    "$$\n",
    "\n",
    "- Also assume there is a _latent variable_ __g__ that determines whether a record pair is in __M__ or __U__.  Then the likelihood function for the data we have is:\n",
    "\n",
    "\n",
    "$$\n",
    "f(g,\\gamma; \\Phi) = \\prod_{j=1}({pP(\\gamma_{j}|r_{j} \\in M))^g((1-p)P(\\gamma_{j}|r_{j} \\in U)})^{(1-g)}\n",
    "$$\n"
   ]
  },
  {
   "cell_type": "code",
   "execution_count": 50,
   "metadata": {
    "collapsed": false,
    "slideshow": {
     "slide_type": "slide"
    }
   },
   "outputs": [
    {
     "data": {
      "text/html": [
       "<div style=\"max-height:1000px;max-width:1500px;overflow:auto;\">\n",
       "<table border=\"1\" class=\"dataframe\">\n",
       "  <thead>\n",
       "    <tr style=\"text-align: right;\">\n",
       "      <th></th>\n",
       "      <th>name</th>\n",
       "      <th>zip</th>\n",
       "      <th>street num</th>\n",
       "      <th>m</th>\n",
       "      <th>u</th>\n",
       "      <th>mu</th>\n",
       "      <th>w</th>\n",
       "      <th>cu</th>\n",
       "      <th>cm</th>\n",
       "    </tr>\n",
       "  </thead>\n",
       "  <tbody>\n",
       "    <tr>\n",
       "      <th>0</th>\n",
       "      <td>1</td>\n",
       "      <td>1</td>\n",
       "      <td>1</td>\n",
       "      <td>0.077476</td>\n",
       "      <td>1.224100e-10</td>\n",
       "      <td>6.329257e+08</td>\n",
       "      <td>29.237461</td>\n",
       "      <td>1.224100e-10</td>\n",
       "      <td>0.077476</td>\n",
       "    </tr>\n",
       "    <tr>\n",
       "      <th>4</th>\n",
       "      <td>0</td>\n",
       "      <td>1</td>\n",
       "      <td>1</td>\n",
       "      <td>0.791982</td>\n",
       "      <td>6.254078e-07</td>\n",
       "      <td>1.266345e+06</td>\n",
       "      <td>20.272239</td>\n",
       "      <td>6.255302e-07</td>\n",
       "      <td>0.869458</td>\n",
       "    </tr>\n",
       "    <tr>\n",
       "      <th>1</th>\n",
       "      <td>1</td>\n",
       "      <td>1</td>\n",
       "      <td>0</td>\n",
       "      <td>0.009931</td>\n",
       "      <td>3.882342e-07</td>\n",
       "      <td>2.558027e+04</td>\n",
       "      <td>14.642744</td>\n",
       "      <td>1.013764e-06</td>\n",
       "      <td>0.879389</td>\n",
       "    </tr>\n",
       "    <tr>\n",
       "      <th>2</th>\n",
       "      <td>1</td>\n",
       "      <td>0</td>\n",
       "      <td>1</td>\n",
       "      <td>0.001508</td>\n",
       "      <td>6.155908e-08</td>\n",
       "      <td>2.449682e+04</td>\n",
       "      <td>14.580307</td>\n",
       "      <td>1.075323e-06</td>\n",
       "      <td>0.880897</td>\n",
       "    </tr>\n",
       "    <tr>\n",
       "      <th>5</th>\n",
       "      <td>0</td>\n",
       "      <td>1</td>\n",
       "      <td>0</td>\n",
       "      <td>0.101518</td>\n",
       "      <td>1.983536e-03</td>\n",
       "      <td>5.118046e+01</td>\n",
       "      <td>5.677521</td>\n",
       "      <td>1.984612e-03</td>\n",
       "      <td>0.982416</td>\n",
       "    </tr>\n",
       "    <tr>\n",
       "      <th>6</th>\n",
       "      <td>0</td>\n",
       "      <td>0</td>\n",
       "      <td>1</td>\n",
       "      <td>0.015415</td>\n",
       "      <td>3.145129e-04</td>\n",
       "      <td>4.901273e+01</td>\n",
       "      <td>5.615085</td>\n",
       "      <td>2.299124e-03</td>\n",
       "      <td>0.997831</td>\n",
       "    </tr>\n",
       "    <tr>\n",
       "      <th>3</th>\n",
       "      <td>1</td>\n",
       "      <td>0</td>\n",
       "      <td>0</td>\n",
       "      <td>0.000193</td>\n",
       "      <td>1.952401e-04</td>\n",
       "      <td>9.900612e-01</td>\n",
       "      <td>-0.014410</td>\n",
       "      <td>2.494365e-03</td>\n",
       "      <td>0.998024</td>\n",
       "    </tr>\n",
       "    <tr>\n",
       "      <th>7</th>\n",
       "      <td>0</td>\n",
       "      <td>0</td>\n",
       "      <td>0</td>\n",
       "      <td>0.001976</td>\n",
       "      <td>9.975056e-01</td>\n",
       "      <td>1.980894e-03</td>\n",
       "      <td>-8.979633</td>\n",
       "      <td>1.000000e+00</td>\n",
       "      <td>1.000000</td>\n",
       "    </tr>\n",
       "  </tbody>\n",
       "</table>\n",
       "</div>"
      ],
      "text/plain": [
       "   name  zip  street num         m             u            mu          w  \\\n",
       "0     1    1           1  0.077476  1.224100e-10  6.329257e+08  29.237461   \n",
       "4     0    1           1  0.791982  6.254078e-07  1.266345e+06  20.272239   \n",
       "1     1    1           0  0.009931  3.882342e-07  2.558027e+04  14.642744   \n",
       "2     1    0           1  0.001508  6.155908e-08  2.449682e+04  14.580307   \n",
       "5     0    1           0  0.101518  1.983536e-03  5.118046e+01   5.677521   \n",
       "6     0    0           1  0.015415  3.145129e-04  4.901273e+01   5.615085   \n",
       "3     1    0           0  0.000193  1.952401e-04  9.900612e-01  -0.014410   \n",
       "7     0    0           0  0.001976  9.975056e-01  1.980894e-03  -8.979633   \n",
       "\n",
       "             cu        cm  \n",
       "0  1.224100e-10  0.077476  \n",
       "4  6.255302e-07  0.869458  \n",
       "1  1.013764e-06  0.879389  \n",
       "2  1.075323e-06  0.880897  \n",
       "5  1.984612e-03  0.982416  \n",
       "6  2.299124e-03  0.997831  \n",
       "3  2.494365e-03  0.998024  \n",
       "7  1.000000e+00  1.000000  "
      ]
     },
     "execution_count": 50,
     "metadata": {},
     "output_type": "execute_result"
    }
   ],
   "source": [
    "import operator\n",
    "import numpy as np\n",
    "from functools import reduce\n",
    "\n",
    "mh = np.array([ 0.08910887,  0.98090761,  0.88638131])\n",
    "uh = np.array([ 0.00019569,  0.00198455,  0.0003152 ])\n",
    "\n",
    "def mp(gamma, mh, uh):\n",
    "    return reduce(operator.mul, (mh[i] ** g * (1 - mh[i]) ** (1 - g) for i,g in enumerate(gamma)))\n",
    "\n",
    "def up(gamma, mh, uh):\n",
    "    return reduce(operator.mul, (uh[i] ** g * (1 - uh[i]) ** (1 - g) for i,g in enumerate(gamma)))\n",
    "\n",
    "def log_score(gamma, mh, uh):\n",
    "    return sum([np.log2(mh[i]/uh[i]) if g==1 else np.log2((1-mh[i])/(1-uh[i])) for i,g in enumerate(gamma)])\n",
    "\n",
    "df_scores = pd.DataFrame(data=list(itertools.product([1,0], repeat=3)),\n",
    "             columns=['name', 'zip', 'street num'])\n",
    "df_scores['m'] = df_scores[['name', 'zip', 'street num']].apply(lambda p: mp(p,mh,uh), axis=1)\n",
    "df_scores['u'] = df_scores[['name', 'zip', 'street num']].apply(lambda p: up(p,mh,uh), axis=1)\n",
    "df_scores['mu'] = df_scores.m/df_scores.u\n",
    "df_scores['w'] = df_scores[['name', 'zip', 'street num']].apply(lambda p: log_score(p,mh,uh), axis=1)\n",
    "df_scores.sort('mu', ascending=False, inplace=True)\n",
    "df_scores['cu'] = df_scores.u.cumsum()\n",
    "df_scores['cm'] = df_scores.m.cumsum()\n",
    "df_scores"
   ]
  },
  {
   "cell_type": "markdown",
   "metadata": {
    "slideshow": {
     "slide_type": "slide"
    }
   },
   "source": [
    "### Supervised Learning"
   ]
  },
  {
   "cell_type": "markdown",
   "metadata": {},
   "source": [
    "- Requires training data where matches/non-matches are already known\n",
    "- Always imbalanced since there are many more non-matches than matches\n",
    "- Harder to apply in production situations"
   ]
  },
  {
   "cell_type": "code",
   "execution_count": 22,
   "metadata": {
    "collapsed": false
   },
   "outputs": [
    {
     "name": "stdout",
     "output_type": "stream",
     "text": [
      "0.997348484848\n"
     ]
    }
   ],
   "source": [
    "import numpy as np\n",
    "from sklearn.cross_validation import KFold\n",
    "from sklearn.ensemble import RandomForestClassifier\n",
    "\n",
    "df_matches = pd.read_csv('./data/matches.csv')\n",
    "\n",
    "df_matches['snum_dist'] = df_matches[['snum_x', 'snum_y']].apply(lambda s: levenshtein_distance(str(s[0]), str(s[1])),\n",
    "                                                                 axis=1)\n",
    "df_matches['city_sim'] = df_matches[['cty_nm', 'location_city']].apply(lambda c: jaccard( ngrams(c[0].lower(),2),\n",
    "                                                                                          ngrams(c[1].lower(),2)),\n",
    "                                                                      axis=1)\n",
    "df_matched = df_matches[df_matches.match==1]\n",
    "df_unmatched = df_matches[df_matches.match==0]\n",
    "df_bal = pd.concat( [df_matched, \n",
    "                     df_unmatched.sample(len(df_matched)) ] ).reset_index()\n",
    "\n",
    "y = df_bal.match\n",
    "X = df_bal[['jw', 'snum_dist', 'city_sim']].as_matrix()\n",
    "\n",
    "kf = KFold(len(y),n_folds=5,shuffle=True)\n",
    "y_pred = y.copy()\n",
    "\n",
    "clf = RandomForestClassifier()\n",
    "\n",
    "# Iterate through folds\n",
    "for train_index, test_index in kf:\n",
    "    X_train, X_test = X[train_index], X[test_index]\n",
    "    y_train = y[train_index]\n",
    "    # Initialize a classifier with key word arguments\n",
    "\n",
    "    clf.fit(X_train,y_train)\n",
    "    y_pred[test_index] = clf.predict(X_test)\n",
    "\n",
    "print(np.mean(y == y_pred))"
   ]
  },
  {
   "cell_type": "markdown",
   "metadata": {
    "slideshow": {
     "slide_type": "slide"
    }
   },
   "source": [
    "## Active Learning and _Dedupe_"
   ]
  },
  {
   "cell_type": "markdown",
   "metadata": {
    "collapsed": true
   },
   "source": [
    "_PAUSE FOR DEMO_"
   ]
  },
  {
   "cell_type": "markdown",
   "metadata": {
    "slideshow": {
     "slide_type": "slide"
    }
   },
   "source": [
    "## Information Quality Metrics for Matching"
   ]
  },
  {
   "cell_type": "markdown",
   "metadata": {},
   "source": [
    "- Number of References\n",
    "- Class statistics: size, max\n",
    "- Talburt-Wang Index\n",
    "- Rand Index\n"
   ]
  },
  {
   "cell_type": "code",
   "execution_count": null,
   "metadata": {
    "collapsed": true
   },
   "outputs": [],
   "source": []
  }
 ],
 "metadata": {
  "celltoolbar": "Slideshow",
  "kernelspec": {
   "display_name": "Python 3",
   "language": "python",
   "name": "python3"
  },
  "language_info": {
   "codemirror_mode": {
    "name": "ipython",
    "version": 3
   },
   "file_extension": ".py",
   "mimetype": "text/x-python",
   "name": "python",
   "nbconvert_exporter": "python",
   "pygments_lexer": "ipython3",
   "version": "3.4.2"
  }
 },
 "nbformat": 4,
 "nbformat_minor": 0
}
