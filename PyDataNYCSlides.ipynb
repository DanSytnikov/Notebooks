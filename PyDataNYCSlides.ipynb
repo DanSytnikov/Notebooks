{
 "cells": [
  {
   "cell_type": "markdown",
   "metadata": {
    "slideshow": {
     "slide_type": "slide"
    }
   },
   "source": [
    "# The Art and Science of Data Matching"
   ]
  },
  {
   "cell_type": "markdown",
   "metadata": {
    "slideshow": {
     "slide_type": "-"
    }
   },
   "source": [
    "## Mike Mull (@kwikstep)"
   ]
  },
  {
   "cell_type": "markdown",
   "metadata": {
    "slideshow": {
     "slide_type": "slide"
    }
   },
   "source": [
    "## Applications of Matching: Integration"
   ]
  },
  {
   "cell_type": "markdown",
   "metadata": {
    "collapsed": false,
    "slideshow": {
     "slide_type": "-"
    }
   },
   "source": [
    "<img src=\"Integrate.png\">"
   ]
  },
  {
   "cell_type": "markdown",
   "metadata": {
    "slideshow": {
     "slide_type": "notes"
    }
   },
   "source": [
    "I'll start with a few applications for data matching.\n",
    "\n",
    "The first is _data integration_.  Here we are starting with multiple data sources with references to the same type of entities.  What we hope to end up with is a combined set of data for those entities that is more accurate and as timely as possible.  We also retain some sort of reference to the original data so that we don't lose any information."
   ]
  },
  {
   "cell_type": "markdown",
   "metadata": {
    "slideshow": {
     "slide_type": "slide"
    }
   },
   "source": [
    "## Applications of Matching: Enrichment"
   ]
  },
  {
   "cell_type": "markdown",
   "metadata": {
    "slideshow": {
     "slide_type": "-"
    }
   },
   "source": [
    "<img src=\"Enrich.png\">"
   ]
  },
  {
   "cell_type": "markdown",
   "metadata": {
    "slideshow": {
     "slide_type": "notes"
    }
   },
   "source": [
    "The second application is _enrichment_.  There are various ways this term is used, but as a data matching problem it usually means that you have a source of data, often from a client, that needs to be matched to a more complete and accurate set.  All or part of the more complete set is returned to the client as an enriched entity reference."
   ]
  },
  {
   "cell_type": "markdown",
   "metadata": {
    "slideshow": {
     "slide_type": "slide"
    }
   },
   "source": [
    "## Applications of Matching: Record Linking"
   ]
  },
  {
   "cell_type": "markdown",
   "metadata": {
    "slideshow": {
     "slide_type": "-"
    }
   },
   "source": [
    "<img src='Merge.png'>"
   ]
  },
  {
   "cell_type": "markdown",
   "metadata": {
    "slideshow": {
     "slide_type": "notes"
    }
   },
   "source": [
    "The third application is called _record linkage_ or sometimes merging. In this scenario there are two sets of data that have references to the same type of entity, but also related statistics or facts about those entities.  The combined data can then be used to make correlations.  I'll use an application like this throughout this talk, which i'll discuss below."
   ]
  },
  {
   "cell_type": "markdown",
   "metadata": {
    "slideshow": {
     "slide_type": "slide"
    }
   },
   "source": [
    "## Pairwise Matching"
   ]
  },
  {
   "cell_type": "markdown",
   "metadata": {
    "slideshow": {
     "slide_type": "-"
    }
   },
   "source": [
    "\n",
    "If you have two sets of data items, A and B, each with no duplicates then \n",
    "\n",
    "- All possible record pairs are\n",
    "$$\n",
    "A \\times B\n",
    "$$\n",
    "- The pairs can be divided into\n",
    "\n",
    "\n",
    "$$\n",
    "M=\\{ (a,b)| a \\in A, b \\in B, a = b \\}\n",
    "$$\n",
    "\n",
    "$$\n",
    "U=\\{ (a,b)| a \\in A, b \\in B, a \\ne b \\} \\\\\n",
    "$$\n",
    "\n",
    "\n",
    "By definition the union of the two sets M and U is the set of all pairs A and B, or:\n",
    "\n",
    "$$\n",
    "A \\times B = M \\cup U\n",
    "$$\n"
   ]
  },
  {
   "cell_type": "markdown",
   "metadata": {
    "slideshow": {
     "slide_type": "notes"
    }
   },
   "source": [
    "I will use the concept of pairwise matching throughout the code as a model to explain various techniques.  The essential idea is that given two sets of records (say, as two files), matching involves examining every possible record pair to determine if they refer to the same entity.  What we're usually interested in is the _M_ set above.  In practice:\n",
    "\n",
    "- The M set is *much* smaller than the U set\n",
    "- We generally __won't__ look at all of the pairs, which is |A||B| and is often a huge number\n",
    "- We will make two types of errors.  We will put actual matches in U and we will put non-matches in M.\n",
    "- Ideally the set of matches is transitive, but some techniques don't always get that result\n",
    "- In the deduplication case, the M set contains the duplicates.  Finding all of the record pairs that belong to the same entity might require extra clustering.\n",
    "\n",
    "Note that this model does not necessarily match the architecture of matching software.  In other words, we won't usually load the data sets all at once and work through the pairs.  We might, for example, load one set of data, use some properties of those records to query against an existing database that we want to match."
   ]
  },
  {
   "cell_type": "markdown",
   "metadata": {
    "slideshow": {
     "slide_type": "slide"
    }
   },
   "source": [
    "## Test Case"
   ]
  },
  {
   "cell_type": "markdown",
   "metadata": {},
   "source": [
    "- From [On Wages and Hygiene: Surfacing Bad Management in Public Data](http://blog.enigma.io/bad-management-radiates-a-look-at-hygiene-and-wages/)\n",
    "  - Florida restaurant inspection data\n",
    "  - Federal wage compliance data (from DOL)"
   ]
  },
  {
   "cell_type": "code",
   "execution_count": 3,
   "metadata": {
    "collapsed": false
   },
   "outputs": [
    {
     "name": "stderr",
     "output_type": "stream",
     "text": [
      "C:\\Users\\mike\\Anaconda\\envs\\matching\\lib\\site-packages\\IPython\\core\\interactiveshell.py:2902: DtypeWarning: Columns (8) have mixed types. Specify dtype option on import or set low_memory=False.\n",
      "  interactivity=interactivity, compiler=compiler, result=result)\n"
     ]
    }
   ],
   "source": [
    "from IPython.display import HTML\n",
    "import pandas as pd\n",
    "# Wage data, drop everything but unique name and addresses, and filter to only Florida.\n",
    "df_oge = pd.read_csv('./data/ogesdw.whd.whisard.fl.csv')\n",
    "\n",
    "# Florida restaurant inspection data.  Drop everything but unique name and addresses\n",
    "df_fl = pd.read_csv('./data/fl.restaurant-inspections.csv')"
   ]
  },
  {
   "cell_type": "markdown",
   "metadata": {
    "slideshow": {
     "slide_type": "notes"
    }
   },
   "source": [
    "The data sets that i'll use come from a blog post by Enigma.io.  They used restaurant inspection data from the state of Florida, and wage data from the DOL to do an analysis of whether the wage violations are correllated to bad restaurant hygiene.  They concluded that restaurants with violations for improperly paying employees are much more likely to also have health violations.  One note, they used geocoded addresses to do the matching, whereas i'm primarily going to use street numbers just to illustrate certain ideas.\n",
    "\n",
    "The first step in matching is usually to explore the data.  In this case we'll use _pandas_, which is often the tool of choice for this type of work in the Python world.  This process is becoming more automated these days, but since it's usually a one-time investment, it's still useful to do manually.  The type of exploration i'll do is an aspect of _data profiling_, although in this case we're mostly interested in qualitative features of the data like the number of null values or format patters, while profiling in generals also refers to checking numeric ranges, distributions and variance.\n",
    "\n",
    "Of course, in the matching case we're also looking for attributes that might be similar between data sources so that we can use them for comparison."
   ]
  },
  {
   "cell_type": "markdown",
   "metadata": {
    "slideshow": {
     "slide_type": "slide"
    }
   },
   "source": [
    "## Data Exploration and Profiling"
   ]
  },
  {
   "cell_type": "code",
   "execution_count": 4,
   "metadata": {
    "collapsed": false,
    "slideshow": {
     "slide_type": "-"
    }
   },
   "outputs": [
    {
     "name": "stdout",
     "output_type": "stream",
     "text": [
      "<class 'pandas.core.frame.DataFrame'>\n",
      "Int64Index: 130643 entries, 0 to 130642\n",
      "Data columns (total 83 columns):\n",
      "district                                        130643 non-null object\n",
      "county_number                                   130643 non-null int64\n",
      "county_name                                     130643 non-null object\n",
      "license_type_code                               130643 non-null int64\n",
      "license_number                                  130643 non-null int64\n",
      "dba                                             130613 non-null object\n",
      "location_address                                130643 non-null object\n",
      "location_city                                   130642 non-null object\n",
      "location_zip_code                               130633 non-null object\n",
      "inspection_number                               130643 non-null int64\n",
      "visit_number                                    130643 non-null int64\n",
      "inspection_class                                130643 non-null object\n",
      "inspection_type                                 130643 non-null object\n",
      "inspection_disposition                          130643 non-null object\n",
      "inspection_date                                 130643 non-null object\n",
      "number_of_critical_violations                   4 non-null float64\n",
      "number_of_noncritical_violations                4 non-null float64\n",
      "number_of_total_violations                      130643 non-null int64\n",
      "number_of_high_priority_violations              130619 non-null float64\n",
      "number_of_intermediate_violations               130619 non-null float64\n",
      "number_of_basic_violations                      130619 non-null float64\n",
      "pda_status                                      130643 non-null object\n",
      "approved_source                                 130643 non-null int64\n",
      "original_container                              130643 non-null int64\n",
      "time_and_temperature_control                    130643 non-null int64\n",
      "facilities_to_maintain_ph_tcs                   130643 non-null int64\n",
      "food_and_food_equipment_thermometers            130643 non-null int64\n",
      "ph_tcs_foods_properly_thawed                    130643 non-null int64\n",
      "unwrapped_or_ph_tcs_food_not_re_served          130643 non-null int64\n",
      "food_protection_cross_contamination             130643 non-null int64\n",
      "bare_hand_contact_with_rte_food_aop             130643 non-null int64\n",
      "in_use_food_dispensing_utensils                 130643 non-null int64\n",
      "employee_health_knowledge                       130643 non-null int64\n",
      "hands_washed_and_clean                          130643 non-null int64\n",
      "clean_clothes_hair_restraints                   130643 non-null int64\n",
      "food_contact_and_nonfood_contact                130643 non-null int64\n",
      "violation15                                     130643 non-null int64\n",
      "dishwashing_facilities                          130643 non-null int64\n",
      "violation17                                     130643 non-null int64\n",
      "violation18                                     130643 non-null int64\n",
      "violation19                                     130643 non-null int64\n",
      "violation20                                     130643 non-null int64\n",
      "wiping_cloths_clean_and_soiled_linens           130643 non-null int64\n",
      "food_contact_surfaces_clean                     130643 non-null int64\n",
      "non_food_contact_surfaces_clean                 130643 non-null int64\n",
      "storage_handling_of_clean_equipment             130643 non-null int64\n",
      "single_service_and_single_use_items             130643 non-null int64\n",
      "violation26                                     130643 non-null int64\n",
      "water_source_safe_hot                           130643 non-null int64\n",
      "sewage_and_wastewater                           130643 non-null int64\n",
      "plumbing_installed                              130643 non-null int64\n",
      "violation30                                     130643 non-null int64\n",
      "handwash_sinks                                  130643 non-null int64\n",
      "bathrooms                                       130643 non-null int64\n",
      "garbage_and_refuse                              130643 non-null int64\n",
      "violation34                                     130643 non-null int64\n",
      "no_presence_or_breeding_of_pests                130643 non-null int64\n",
      "floors_walls_ceilings                           130643 non-null int64\n",
      "violation37                                     130643 non-null int64\n",
      "lighting_provided_as_required                   130643 non-null int64\n",
      "violation39                                     130643 non-null int64\n",
      "employee_personal_belongings                    130643 non-null int64\n",
      "chemicals_toxic_substances                      130643 non-null int64\n",
      "cleaning_and_maintenance_equip                  130643 non-null int64\n",
      "complete_separation_from_living_area            130643 non-null int64\n",
      "violation44                                     130643 non-null int64\n",
      "fire_extinguishing_equipment                    130643 non-null int64\n",
      "exits_not_blocked_or_locked                     130643 non-null int64\n",
      "electrical_wiring_outlets_in_good_repair        130643 non-null int64\n",
      "gas_appliances_boiler_certificate               130643 non-null int64\n",
      "flammable_combustible_materials                 130643 non-null int64\n",
      "current_license_properly_displayed              130643 non-null int64\n",
      "other_conditions_sanitary_and_safe_operation    130643 non-null int64\n",
      "misrepresentation_misbranding                   130643 non-null int64\n",
      "food_management_certification_valid             130643 non-null int64\n",
      "florida_clean_indoor_air_act                    130643 non-null int64\n",
      "automatic_gratuity_notice                       130643 non-null int64\n",
      "violation56                                     130643 non-null int64\n",
      "violation57                                     130643 non-null int64\n",
      "violation58                                     130643 non-null int64\n",
      "license_id                                      130643 non-null int64\n",
      "inspection_visit_id                             130643 non-null int64\n",
      "serialid                                        130643 non-null int64\n",
      "dtypes: float64(5), int64(67), object(11)\n",
      "memory usage: 83.7+ MB\n"
     ]
    }
   ],
   "source": [
    "df_fl.info(verbose=True, null_counts=True)"
   ]
  },
  {
   "cell_type": "markdown",
   "metadata": {
    "slideshow": {
     "slide_type": "notes"
    }
   },
   "source": [
    "Here i've used the pandas dataframe method _info()_ to show all of the fields, the field types, and the number of non-null values.  Obviously, this data has a bunch of columns related to the inspection of restaurants.  There also clues here that restaurants will appear in this data more than once (inspection number, inspection date).  What we want for matching is to boil this down to the fields that might help us identify the restaurant and match it to other data sources."
   ]
  },
  {
   "cell_type": "code",
   "execution_count": 5,
   "metadata": {
    "collapsed": false,
    "slideshow": {
     "slide_type": "slide"
    }
   },
   "outputs": [
    {
     "name": "stdout",
     "output_type": "stream",
     "text": [
      "<class 'pandas.core.frame.DataFrame'>\n",
      "Int64Index: 53578 entries, 0 to 130642\n",
      "Data columns (total 6 columns):\n",
      "dba                  53558 non-null object\n",
      "location_address     53578 non-null object\n",
      "location_city        53577 non-null object\n",
      "location_zip_code    53570 non-null object\n",
      "district             53578 non-null object\n",
      "county_number        53578 non-null int64\n",
      "dtypes: int64(1), object(5)\n",
      "memory usage: 2.9+ MB\n"
     ]
    }
   ],
   "source": [
    "fields = ['dba', \n",
    "          'location_address', \n",
    "          'location_city', \n",
    "          'location_zip_code',\n",
    "          'district',\n",
    "          'county_number']\n",
    "df_fl_a = df_fl[fields].drop_duplicates()\n",
    "df_fl_a.info()"
   ]
  },
  {
   "cell_type": "markdown",
   "metadata": {
    "slideshow": {
     "slide_type": "notes"
    }
   },
   "source": [
    "This code basically takes the fields that identify the restaurant and drops the exact duplicates.  We are left with about 54k entities. About 20 of them are missing names, which will make it difficult to match them."
   ]
  },
  {
   "cell_type": "code",
   "execution_count": 6,
   "metadata": {
    "collapsed": false,
    "slideshow": {
     "slide_type": "slide"
    }
   },
   "outputs": [
    {
     "name": "stdout",
     "output_type": "stream",
     "text": [
      "<class 'pandas.core.frame.DataFrame'>\n",
      "Int64Index: 16683 entries, 0 to 16702\n",
      "Data columns (total 7 columns):\n",
      "trade_nm             16683 non-null object\n",
      "legal_name           16593 non-null object\n",
      "street_addr_1_txt    16683 non-null object\n",
      "cty_nm               16683 non-null object\n",
      "st_cd                16683 non-null object\n",
      "zip_cd               16683 non-null float64\n",
      "naic_cd              16676 non-null object\n",
      "dtypes: float64(1), object(6)\n",
      "memory usage: 1.0+ MB\n"
     ]
    }
   ],
   "source": [
    "df_oge_a_fl = df_oge[['trade_nm', \n",
    "                      'legal_name', \n",
    "                      'street_addr_1_txt', \n",
    "                      'cty_nm', \n",
    "                      'st_cd', \n",
    "                      'zip_cd',\n",
    "                      'naic_cd']].drop_duplicates()\n",
    "df_oge_a_fl.info()"
   ]
  },
  {
   "cell_type": "markdown",
   "metadata": {
    "slideshow": {
     "slide_type": "notes"
    }
   },
   "source": [
    "This is the equivalent operation for the wage data.  We can see that both sources have a name field and various address fields, which are mostly (but not entirely) non-null.  Note here that the zip code field is described as a float, which means that every value in the input data is numeric."
   ]
  },
  {
   "cell_type": "markdown",
   "metadata": {
    "slideshow": {
     "slide_type": "slide"
    }
   },
   "source": [
    "### Use `apply()` and `groupby()` To Check Field Patterns"
   ]
  },
  {
   "cell_type": "code",
   "execution_count": 7,
   "metadata": {
    "collapsed": false,
    "slideshow": {
     "slide_type": "-"
    }
   },
   "outputs": [
    {
     "name": "stdout",
     "output_type": "stream",
     "text": [
      "zip_code_pattern\n",
      "99999         47780\n",
      "99999-9999     1611\n",
      "999999999      4179\n",
      "dtype: int64\n",
      "zip_code_pattern\n",
      "99999.9    16683\n",
      "dtype: int64\n"
     ]
    }
   ],
   "source": [
    "t={ord(x): y for (x, y) in zip('0123456789', '9999999999')}\n",
    "\n",
    "def zip_trans(z): return str(z).translate(t) if pd.notnull(z) else z\n",
    "\n",
    "df_fl_a['zip_code_pattern'] =  df_fl_a.location_zip_code.apply(zip_trans)\n",
    "print(df_fl_a.groupby('zip_code_pattern').size())\n",
    "df_oge_a_fl['zip_code_pattern'] = df_oge_a_fl.zip_cd.apply(zip_trans)\n",
    "print(df_oge_a_fl.groupby('zip_code_pattern').size())"
   ]
  },
  {
   "cell_type": "markdown",
   "metadata": {
    "slideshow": {
     "slide_type": "notes"
    }
   },
   "source": [
    "Certain types of identifiers have an expected format, but very often that format is not followed especially when the data was originally entered by hand.  Zip codes for instance have two correct formats (5 digit and zip+4), and obviously numerous potential wrong formats.  Here's a handy trick for looking for formats of fields that are all or mostly numeric (zips, SSN, employer id numbers, phone numbers, etc.)\n",
    "\n",
    "Note here that the zip code pattern for the wage data looks like a decimal number.  That's because pandas defaults to float64 for numeric data.  This really means that the data is consistently a 5 digit integer.  If you know your zip codes, this also tells us that there are no zips with leading zeros, which isn't surprising since these data are filtered to locations in Florida."
   ]
  },
  {
   "cell_type": "markdown",
   "metadata": {
    "slideshow": {
     "slide_type": "slide"
    }
   },
   "source": [
    "### Use `apply()` With Regex"
   ]
  },
  {
   "cell_type": "code",
   "execution_count": 8,
   "metadata": {
    "collapsed": false,
    "slideshow": {
     "slide_type": "-"
    }
   },
   "outputs": [
    {
     "data": {
      "text/plain": [
       "leading_pattern\n",
       "99          37\n",
       "AA        1133\n",
       "Aa       14716\n",
       "OTHER      797\n",
       "dtype: int64"
      ]
     },
     "execution_count": 8,
     "metadata": {},
     "output_type": "execute_result"
    }
   ],
   "source": [
    "import re\n",
    "def leading_patt(s):\n",
    "    p = (('^[A-Z][a-z]', 'Aa'), ('^[A-Z][A-Z]', 'AA'), ('^[0-9][0-9]', '99'))\n",
    "    for rx, patt in p:\n",
    "        if re.search(rx, s):\n",
    "            return patt\n",
    "    return 'OTHER'\n",
    "\n",
    "df_oge_a_fl = df_oge[['trade_nm', \n",
    "                      'legal_name', \n",
    "                      'street_addr_1_txt', \n",
    "                      'cty_nm', \n",
    "                      'st_cd', \n",
    "                      'zip_cd',\n",
    "                      'naic_cd']].drop_duplicates()\n",
    "\n",
    "df_oge_a_fl['leading_pattern'] = df_oge_a_fl.trade_nm.apply(leading_patt)\n",
    "df_oge_a_fl.groupby('leading_pattern').size()"
   ]
  },
  {
   "cell_type": "markdown",
   "metadata": {
    "slideshow": {
     "slide_type": "notes"
    }
   },
   "source": [
    "Sometimes you'll want to identify more complex patterns like email addresses or dates using regular expressions.  Here's a slightly contrived example where i'm looking at the leading pattern in the names of the businesses in the wage data."
   ]
  },
  {
   "cell_type": "markdown",
   "metadata": {
    "slideshow": {
     "slide_type": "slide"
    }
   },
   "source": [
    "### Look for Duplicates"
   ]
  },
  {
   "cell_type": "code",
   "execution_count": 9,
   "metadata": {
    "collapsed": false,
    "slideshow": {
     "slide_type": "-"
    }
   },
   "outputs": [
    {
     "data": {
      "text/html": [
       "<table border=\"1\" class=\"dataframe mark_rows\">\n",
       "  <thead>\n",
       "    <tr style=\"text-align: right;\">\n",
       "      <th></th>\n",
       "      <th>dba</th>\n",
       "      <th>location_address</th>\n",
       "      <th>location_city</th>\n",
       "      <th>location_zip_code</th>\n",
       "      <th>district</th>\n",
       "      <th>county_number</th>\n",
       "    </tr>\n",
       "  </thead>\n",
       "  <tbody>\n",
       "    <tr>\n",
       "      <th>87996</th>\n",
       "      <td>ATLANTIC VENDORS INC</td>\n",
       "      <td>2411 S ATLANTIC AVE</td>\n",
       "      <td>DAYTONA BCH SHORES</td>\n",
       "      <td>32118</td>\n",
       "      <td>D4</td>\n",
       "      <td>74</td>\n",
       "    </tr>\n",
       "    <tr>\n",
       "      <th>88045</th>\n",
       "      <td>ATLANTIC VENDORS INC</td>\n",
       "      <td>2209 S ATLANTIC AVE</td>\n",
       "      <td>DAYTONA BCH SHORES</td>\n",
       "      <td>32118</td>\n",
       "      <td>D4</td>\n",
       "      <td>74</td>\n",
       "    </tr>\n",
       "    <tr>\n",
       "      <th>88061</th>\n",
       "      <td>ATLANTIC VENDORS INC</td>\n",
       "      <td>2125 S ATLANTIC AVE</td>\n",
       "      <td>DAYTONA BCH</td>\n",
       "      <td>32118</td>\n",
       "      <td>D4</td>\n",
       "      <td>74</td>\n",
       "    </tr>\n",
       "    <tr>\n",
       "      <th>88291</th>\n",
       "      <td>ATLANTIC VENDORS INC</td>\n",
       "      <td>2209 S ATLANTIC AVE</td>\n",
       "      <td>DAYTONA BEACH SHORES</td>\n",
       "      <td>32118</td>\n",
       "      <td>D4</td>\n",
       "      <td>74</td>\n",
       "    </tr>\n",
       "    <tr>\n",
       "      <th>87993</th>\n",
       "      <td>ATLANTIC VENDORS INC</td>\n",
       "      <td>3111 S ATLANTIC AVE</td>\n",
       "      <td>DAYTONA BEACH SHORES</td>\n",
       "      <td>32118</td>\n",
       "      <td>D4</td>\n",
       "      <td>74</td>\n",
       "    </tr>\n",
       "    <tr>\n",
       "      <th>88474</th>\n",
       "      <td>ATLANTIC VENDORS INC</td>\n",
       "      <td>1615 S ATLANTIC AVE</td>\n",
       "      <td>DAYTONA BEACH</td>\n",
       "      <td>32118</td>\n",
       "      <td>D4</td>\n",
       "      <td>74</td>\n",
       "    </tr>\n",
       "    <tr>\n",
       "      <th>88493</th>\n",
       "      <td>ATLANTIC VENDORS INC</td>\n",
       "      <td>2500 N ATLANTIC AVE</td>\n",
       "      <td>DAYTONA BEACH</td>\n",
       "      <td>32118</td>\n",
       "      <td>D4</td>\n",
       "      <td>74</td>\n",
       "    </tr>\n",
       "    <tr>\n",
       "      <th>88502</th>\n",
       "      <td>ATLANTIC VENDORS INC</td>\n",
       "      <td>103 S OCEAN AVE</td>\n",
       "      <td>DAYTONA BEACH</td>\n",
       "      <td>32118</td>\n",
       "      <td>D4</td>\n",
       "      <td>74</td>\n",
       "    </tr>\n",
       "    <tr>\n",
       "      <th>87994</th>\n",
       "      <td>ATLANTIC VENDORS INC</td>\n",
       "      <td>2225 S ATLANTIC AVE</td>\n",
       "      <td>DAYTONA BCH SHORES</td>\n",
       "      <td>32118</td>\n",
       "      <td>D4</td>\n",
       "      <td>74</td>\n",
       "    </tr>\n",
       "    <tr>\n",
       "      <th>87997</th>\n",
       "      <td>ATLANTIC VENDORS INC</td>\n",
       "      <td>3125 S ATLANTIC AVE</td>\n",
       "      <td>DAYTONA BCH SHORES</td>\n",
       "      <td>32118</td>\n",
       "      <td>D4</td>\n",
       "      <td>74</td>\n",
       "    </tr>\n",
       "  </tbody>\n",
       "</table>"
      ],
      "text/plain": [
       "<IPython.core.display.HTML object>"
      ]
     },
     "execution_count": 9,
     "metadata": {},
     "output_type": "execute_result"
    }
   ],
   "source": [
    "from IPython.display import HTML, Javascript\n",
    "df=df_fl_a.groupby(['dba','location_zip_code'])\\\n",
    "       .filter(lambda x: len(x['dba']) > 2)\\\n",
    "       .sort_values(by='dba')[['dba',\n",
    "                     'location_address',\n",
    "                     'location_city',\n",
    "                     'location_zip_code',\n",
    "                     'district', \n",
    "                     'county_number']].head(10)\n",
    "HTML(df.to_html(classes='mark_rows'))"
   ]
  },
  {
   "cell_type": "markdown",
   "metadata": {
    "slideshow": {
     "slide_type": "notes"
    }
   },
   "source": [
    "We eliminated _exact_ duplicates above, but there might still be duplicate businesses in the data that have slight variations in address or name.  Here's an example, where i group by the name and zip code, and then filter groups with more than 2 items.  The highlighted rows are very likely to be duplicates.  They vary only in the spelling of the city name."
   ]
  },
  {
   "cell_type": "code",
   "execution_count": 10,
   "metadata": {
    "collapsed": false,
    "slideshow": {
     "slide_type": "notes"
    }
   },
   "outputs": [
    {
     "data": {
      "application/javascript": [
       "$('.mark_rows tbody tr').filter(':eq(7)')\n",
       "                                             .css('background-color', '#CCCCCC');\n",
       "              $('.mark_rows tbody tr').filter(':eq(8)')\n",
       "                                             .css('background-color', '#CCCCCC');\n",
       "                   "
      ],
      "text/plain": [
       "<IPython.core.display.Javascript object>"
      ]
     },
     "execution_count": 10,
     "metadata": {},
     "output_type": "execute_result"
    }
   ],
   "source": [
    "Javascript('''$('.mark_rows tbody tr').filter(':eq(7)')\n",
    "                                             .css('background-color', '#CCCCCC');\n",
    "              $('.mark_rows tbody tr').filter(':eq(8)')\n",
    "                                             .css('background-color', '#CCCCCC');\n",
    "                   ''')"
   ]
  },
  {
   "cell_type": "markdown",
   "metadata": {
    "slideshow": {
     "slide_type": "slide"
    }
   },
   "source": [
    "### Make a Histogram of String Length"
   ]
  },
  {
   "cell_type": "code",
   "execution_count": 11,
   "metadata": {
    "collapsed": false
   },
   "outputs": [
    {
     "data": {
      "image/png": "[encoded data removed]",
      "text/plain": [
       "<matplotlib.figure.Figure at 0x80580f0>"
      ]
     },
     "metadata": {},
     "output_type": "display_data"
    }
   ],
   "source": [
    "%matplotlib inline\n",
    "import matplotlib.pyplot as plt\n",
    "\n",
    "_ = plt.hist(df_fl_a.dba.apply(lambda x: len(x) if pd.notnull(x) else 0))\n",
    "_ = plt.hist(df_oge_a_fl.trade_nm.apply(lambda x: len(x) if pd.notnull(x) else 0))"
   ]
  },
  {
   "cell_type": "markdown",
   "metadata": {
    "slideshow": {
     "slide_type": "notes"
    }
   },
   "source": [
    "It's also easy to make plots of aggregated or transformed data.  Here's a simple example where i plot histograms of the lengths of the business names in our matching data."
   ]
  },
  {
   "cell_type": "markdown",
   "metadata": {
    "slideshow": {
     "slide_type": "slide"
    }
   },
   "source": [
    "## Comparing Fields"
   ]
  },
  {
   "cell_type": "markdown",
   "metadata": {},
   "source": [
    "- What we want:\n",
    "\n",
    "$$\n",
    "IsMatch: A \\times B \\to \\{\\mathrm{true},  \\mathrm{false}\\}\n",
    "$$\n",
    "\n",
    "- In practice we compare against attributes of rA or rB to create a _comparison vector_\n",
    "\n",
    "$$\n",
    "Sim(r_{A}, r_{B}) = Sim(a_{1}, a_{2}..., a_{n}; b_{1}, b_{2}, ..., b_{n}) \\\\\n",
    "= [s_{1}(a_{1}, b_{1}), ..., s_{n}(a_{n}, b_{n})]\n",
    "$$\n",
    "\n",
    "- Then create a decision model to classify comparison as match or non-match"
   ]
  },
  {
   "cell_type": "markdown",
   "metadata": {
    "slideshow": {
     "slide_type": "notes"
    }
   },
   "source": [
    "What we've seen in profiling the data is that there are certain fields in each data source that we can compare for equality or similarity.  What we really want is a function that will take any record pair and tell us if they are a match.  We could do that by limiting ourselves to cases where the attributes in each record are identical, but that would miss a lot of matches.\n",
    "\n",
    "The usual procedure is that we compare the two records attribute-by-attribute and end up with a _comparison vector_.  The comparison vector is then used in some sort of decision model or rule to decide if the pair is a match.  The next section will be about preprocessing fields to make them more easy to compare, and ways to measure similarity between various types of data."
   ]
  },
  {
   "cell_type": "markdown",
   "metadata": {
    "slideshow": {
     "slide_type": "slide"
    }
   },
   "source": [
    "### Preprocessing and Transformation"
   ]
  },
  {
   "cell_type": "markdown",
   "metadata": {},
   "source": [
    "- Simple text transformations: lowerize, remove punctuation\n",
    "- More complex:\n",
    "  - Replace patterns ('&' -> 'and')\n",
    "  - Standardize abbreviations, roman numerals, ordinals\n",
    "  - In some situations, remove stop words, use stemming\n",
    "  \n",
    "<span style=\"font-size:14pt;color:blue;\">POMODOROS PIZZA & SUBS & MORE II CORP -> pomodoros pizza and subs and more 2 corporation</span>\n",
    "\n",
    "- Standard length or format (eg, with zip codes)\n",
    "\n",
    "<span style=\"font-size:14pt;color:blue;\">34210-2862 -> 34210</span>\n",
    "\n",
    "- Parsing or tokenization\n",
    "\n",
    "<span style=\"font-size:14pt;color:blue;\">14132 TAMIAMI TRL -> (14132, tamiami trl) </span>\n",
    "\n",
    "- Imputation\n",
    "\n"
   ]
  },
  {
   "cell_type": "markdown",
   "metadata": {
    "slideshow": {
     "slide_type": "notes"
    }
   },
   "source": [
    "I won't go into the basic preprocessing operations since you've probably seen them in other contexts.  Here are a few examples of the types of transformations we might need to make before attempting to match."
   ]
  },
  {
   "cell_type": "code",
   "execution_count": 12,
   "metadata": {
    "collapsed": true,
    "slideshow": {
     "slide_type": "slide"
    }
   },
   "outputs": [],
   "source": [
    "# Process name and zip code fields\n",
    "name_prep = lambda x:x.lower().translate({None:\"'.,\"}) if pd.notnull(x) else ''\n",
    "df_fl_a['nname'] = df_fl_a.dba.apply(name_prep)\n",
    "df_oge_a_fl['nname'] = df_oge_a_fl.trade_nm.apply(name_prep)\n",
    "\n",
    "# Convert zip codes to 5 digits\n",
    "df_fl_a['nzip'] = df_fl_a.location_zip_code.apply(lambda x:x[0:5] if pd.notnull(x) else x)\n",
    "df_oge_a_fl['nzip'] = df_oge_a_fl.zip_cd.apply(lambda x: str(int(x)))\n",
    "\n",
    "# Split out street number into separate field\n",
    "df_fl_a['snum'] = df_fl_a.location_address.str.split(' ',1).apply(lambda x:x[0])\n",
    "df_oge_a_fl['snum'] = df_oge_a_fl.street_addr_1_txt.str.split(' ',1).apply(lambda x:x[0])"
   ]
  },
  {
   "cell_type": "markdown",
   "metadata": {
    "slideshow": {
     "slide_type": "notes"
    }
   },
   "source": [
    "Here are some basic transformations that we'll apply to our test data, again using pandas apply.  Note the use of the .str property on the dataframe field to split out the street number."
   ]
  },
  {
   "cell_type": "markdown",
   "metadata": {
    "slideshow": {
     "slide_type": "slide"
    }
   },
   "source": [
    "### Approximate String Comparison"
   ]
  },
  {
   "cell_type": "markdown",
   "metadata": {},
   "source": [
    "- NLTK\n",
    "  - Edit distance\n",
    "  - Jaccard distance\n",
    "- Difflib\n",
    "  - SequenceMatcher\n",
    "- Jellyfish\n",
    "  - __Levenshtein__ \n",
    "  - Jaro and __Jaro-Winkler__\n",
    "- FuzzyWuzzy\n",
    "\n",
    "- Token-Based\n",
    "  - __Jaccard similarity__\n",
    "  - __SoftTf-Idf__\n"
   ]
  },
  {
   "cell_type": "markdown",
   "metadata": {
    "slideshow": {
     "slide_type": "notes"
    }
   },
   "source": [
    "There are dozens of string similarity methods, and several Python libraries that implement versions of them.  The methods shown in bold above are the ones that i'll discuss here.  These have different benefits and applications."
   ]
  },
  {
   "cell_type": "markdown",
   "metadata": {
    "slideshow": {
     "slide_type": "slide"
    }
   },
   "source": [
    "### Levenshtein/Edit Distance"
   ]
  },
  {
   "cell_type": "code",
   "execution_count": 13,
   "metadata": {
    "collapsed": false
   },
   "outputs": [
    {
     "name": "stdout",
     "output_type": "stream",
     "text": [
      "1\n",
      "2\n",
      "3\n",
      "4\n"
     ]
    }
   ],
   "source": [
    "from jellyfish import levenshtein_distance\n",
    "print(levenshtein_distance('pydata', 'padata'))    # 1-character change\n",
    "print(levenshtein_distance('pydata', 'pandata'))   # Insert character\n",
    "print(levenshtein_distance('pydata', 'pandasa'))   # 1-character change\n",
    "print(levenshtein_distance('pydata', 'pandas'))    # Character deletion"
   ]
  },
  {
   "cell_type": "markdown",
   "metadata": {
    "slideshow": {
     "slide_type": "notes"
    }
   },
   "source": [
    "The Levenshtein distance, or simply edit distance is the number of 1-character edits necessary to transform one string into another.  Despite it's simplicity, this is still in common use, even in sophisticated bioinformatics applications.  In matching applications, this can be useful in cases where manually entered data might have single-character errors or transpositions."
   ]
  },
  {
   "cell_type": "markdown",
   "metadata": {
    "slideshow": {
     "slide_type": "slide"
    }
   },
   "source": [
    "### Jaro and Jaro-Winkler"
   ]
  },
  {
   "cell_type": "markdown",
   "metadata": {},
   "source": [
    "$$\n",
    "Jaro(s_{1}, s_{2}) = w_{1}\\frac{c}{L_{1}} + w_{2}\\frac{c}{L_{2}} + w_{t}\\frac{c-\\tau}{c}\n",
    "$$\n",
    "where:\n",
    "\n",
    "$$\n",
    "\\begin{align}\n",
    "& L_{1} \\mbox{ is length of }s_{1} \\\\\n",
    "& L_{2} \\mbox{ is length of }s_{2} \\\\\n",
    "& c \\mbox{ is number of characters in common } \\\\\n",
    "& \\tau \\mbox{ is number of transpositions } \\\\\n",
    "& w_{1}, w_{2}, w_{t} \\mbox{ are weights }\n",
    "\\end{align}\n",
    "$$\n"
   ]
  },
  {
   "cell_type": "markdown",
   "metadata": {},
   "source": [
    "\n",
    "$$\n",
    "JaroWinkler(s_{1}, s_{2}) = Jaro(s_{1}, s_{2}) + 0.1 * i * (1 - Jaro(s_{1}, s_{2}))\n",
    "$$\n",
    "where:\n",
    "$$\n",
    "i = min(4, \\mbox{number of initial characters that match})\n",
    "$$\n"
   ]
  },
  {
   "cell_type": "markdown",
   "metadata": {
    "slideshow": {
     "slide_type": "notes"
    }
   },
   "source": [
    "The Jaro and Jaro-Winkler similarities were developed at the census bureau specifically for record-linkage applications. The Jaro-Winkler variant in particular often has the best ability to distinguish between matches and non-matches.  The greater weight on initial patterns has been shown empirically to improve matches.\n",
    "\n",
    "Note however that both of these are not true metrics-- that is they don't obey the triangle inequality, which makes them less appropriate for clustering applications."
   ]
  },
  {
   "cell_type": "markdown",
   "metadata": {
    "slideshow": {
     "slide_type": "slide"
    }
   },
   "source": [
    "### Jaccard"
   ]
  },
  {
   "cell_type": "code",
   "execution_count": 14,
   "metadata": {
    "collapsed": false
   },
   "outputs": [
    {
     "name": "stdout",
     "output_type": "stream",
     "text": [
      "0.42857142857142855\n",
      "0.6666666666666666\n"
     ]
    }
   ],
   "source": [
    "def jaccard(s1, s2):\n",
    "    ''' Jaccard similarity score.  (1 - jaccard) is a valid distance metric '''\n",
    "    a = set(s1)\n",
    "    b = set(s2)\n",
    "    if len(a) == 0 and len(b) == 0:\n",
    "        return 0\n",
    "    return len(a & b) / len(a | b)\n",
    "\n",
    "print(jaccard('pydata', 'pandas'))\n",
    "print(jaccard(['bag', 'of', 'words'], ['words', 'bag']))"
   ]
  },
  {
   "cell_type": "markdown",
   "metadata": {
    "slideshow": {
     "slide_type": "notes"
    }
   },
   "source": [
    "The Jaccard similarity, or just set similarity, is the ratio of the size of the intersection of two sets to the size of the union.  This can be used for direct string comparisons, but it can also be used for other sets, such as tokens."
   ]
  },
  {
   "cell_type": "code",
   "execution_count": 15,
   "metadata": {
    "collapsed": false
   },
   "outputs": [
    {
     "name": "stdout",
     "output_type": "stream",
     "text": [
      "0.1111111111111111\n",
      "0.0\n"
     ]
    }
   ],
   "source": [
    "# N-gram function courtesy of Peter Norvig\n",
    "def ngrams(seq, n):\n",
    "    \"List all the (overlapping) ngrams in a sequence.\"\n",
    "    return [seq[i:i+n] for i in range(1+len(seq)-n)]\n",
    "\n",
    "print(jaccard(ngrams('pydata', 2), ngrams('pandas', 2)))\n",
    "print(jaccard(ngrams('pydata', 3), ngrams('pandas', 3)))"
   ]
  },
  {
   "cell_type": "markdown",
   "metadata": {
    "slideshow": {
     "slide_type": "notes"
    }
   },
   "source": [
    "Jaccard similarity is also frequently used with character n-grams.  Again, this can be used directly as a string comparison, but there are other applications of this idea that we'll use later."
   ]
  },
  {
   "cell_type": "markdown",
   "metadata": {
    "slideshow": {
     "slide_type": "slide"
    }
   },
   "source": [
    "### SoftTf-Idf"
   ]
  },
  {
   "cell_type": "markdown",
   "metadata": {},
   "source": [
    "- _SoftTf-Idf_ is a variation of Tf-Idf (_Term Frequency-Inverse Document Frequency_) that includes similar tokens\n",
    "\n",
    "$$\n",
    "tfidf(t,d,D) = tf(t,d) * idf(t, D)\n",
    "$$\n",
    "\n",
    "$$\n",
    "idf(t,D) = log \\frac{|D|}{| d \\in D, t \\in d |}\n",
    "$$\n",
    "\n",
    "-  In the SoftTd-Idf scheme _similar_ tokens are included.\n",
    "\n",
    "$$\n",
    "\\{ sim(w,v) > \\theta | w \\in X, v \\in Y \\} \n",
    "$$\n"
   ]
  },
  {
   "cell_type": "markdown",
   "metadata": {
    "slideshow": {
     "slide_type": "notes"
    }
   },
   "source": [
    "There are certain more sophisticated string comparison methods that can be used if you leverage information about the whole set of possible items to compare.  The term frequency-inverse document frequency method is often used in information retrieval applications to cluster and search for larger documents, like web pages or news articles.  It essentially amounts to creating vectors that describe documents and then using cosine similarity on those vectors to find similar documents.  The SoftTf-IDF method uses the same basic idea, except that it only requires the tokens in the document to be similar as defined by some secondary metric (such as Jaro-Winkler)."
   ]
  },
  {
   "cell_type": "code",
   "execution_count": 16,
   "metadata": {
    "collapsed": false,
    "slideshow": {
     "slide_type": "slide"
    }
   },
   "outputs": [
    {
     "data": {
      "image/png": "[encoded data removed]",
      "text/plain": [
       "<matplotlib.figure.Figure at 0xb2d3400>"
      ]
     },
     "metadata": {},
     "output_type": "display_data"
    }
   ],
   "source": [
    "import jellyfish\n",
    "\n",
    "df_m = pd.read_csv('./data/matched.csv')\n",
    "df_u = pd.read_csv('./data/unmatched.csv')\n",
    "\n",
    "df_m['jaro'] = df_m[['nname_x','nname_y']].apply(lambda s: jellyfish.jaro_distance(s[0],s[1]),axis=1)\n",
    "df_m['jacc'] = df_m[['nname_x','nname_y']].apply(lambda s: jaccard(ngrams(s[0],2),ngrams(s[1],2)),axis=1)\n",
    "\n",
    "df_u['jaro'] = df_m[['nname_x','nname_y']].apply(lambda s: jellyfish.jaro_distance(s[0],s[1]),axis=1)\n",
    "df_u['jacc'] = df_m[['nname_x','nname_y']].apply(lambda s: jaccard(ngrams(s[0],2),ngrams(s[1],2)),axis=1)\n",
    "\n",
    "f, (ax1, ax2) = plt.subplots(1, 2, sharey=True)\n",
    "f.set_size_inches(12,4)\n",
    "_=ax1.hist(df_m[['jw','jaro', 'jacc']].values, \n",
    "           color=['r', 'g', 'b'], \n",
    "           label=['Jaro-Winkler', 'Jaro', 'Jaccard'],\n",
    "           histtype='bar')\n",
    "_=ax1.legend(loc='upper left')\n",
    "_=ax2.hist(df_u[['jw','jaro', 'jacc']].values, \n",
    "           color=['r', 'g', 'b'], \n",
    "           label=['Jaro-Winkler', 'Jaro', 'Jaccard'],\n",
    "           histtype='bar')"
   ]
  },
  {
   "cell_type": "markdown",
   "metadata": {
    "slideshow": {
     "slide_type": "notes"
    }
   },
   "source": [
    "The graph on the left shows similarity scores for names determined to be matched records, while the right graph shows the same metrics on the 1000 non-matches with the greatest similarity.  You can see that the Jaro-Winkler metric has the best ability to distinguish between matches and non-matches."
   ]
  },
  {
   "cell_type": "markdown",
   "metadata": {
    "slideshow": {
     "slide_type": "slide"
    }
   },
   "source": [
    "## Human Names"
   ]
  },
  {
   "cell_type": "markdown",
   "metadata": {},
   "source": [
    "|  Name |  Source  |\n",
    "| --- |  --- |\n",
    "| RICHARD ALLAN BREGGER | Finra |\n",
    "| RICHARD A BREGGER | DOL |\n",
    "| BREGGER RICHARD A | DOL |\n",
    "| RICHAPT) A BREGGER | DOL (OCR error) |\n",
    "| RICHARD A BREGGER AXA FINANCIAL | DOL |\n",
    "| RICHARD D BREGGER | DOL |\n",
    "| RICHARDBREGGER | Record Keeper |\n",
    "\n",
    "<img src='bregger.png'>"
   ]
  },
  {
   "cell_type": "markdown",
   "metadata": {
    "slideshow": {
     "slide_type": "notes"
    }
   },
   "source": [
    "There are no human names in my test data, so i'll use an example from some financial advisor data.  The table above has several variations of a particular name that came from actual data sources.  It's fairly certain that these are all references to the same person.  The kicker is that if you search for this person on Google, the top result returned indicates that he actually goes by \"Rick\", not Richard."
   ]
  },
  {
   "cell_type": "markdown",
   "metadata": {
    "slideshow": {
     "slide_type": "slide"
    }
   },
   "source": [
    "### Stupid Human (Name) Tricks"
   ]
  },
  {
   "cell_type": "markdown",
   "metadata": {
    "slideshow": {
     "slide_type": "-"
    }
   },
   "source": [
    "- Almost always want to parse names into (first, middle or MI, last)\n",
    "- Do not use regex\n",
    "- Substituting first names is helpful, but build your own database of alternatives\n",
    "- Do not use regex\n",
    "- As you match, retain alternatives and do look-ups\n",
    "- Sometimes worthwhile to match on a related item first, for example, employer."
   ]
  },
  {
   "cell_type": "markdown",
   "metadata": {
    "slideshow": {
     "slide_type": "notes"
    }
   },
   "source": [
    "Depending on the data source, human names will be either a single field, or separate fields for first, middle, and last names; plus maybe titles or suffixes.  For matching purposes it's almost always preferable to parse names given in a single field into the latter form.  It's usually preferable to use a specialized name parser for such a thing, rather than trying to roll your own with regular expressions.\n",
    "\n",
    "One special situation with human names is the use of alternate first names (Rick, Mike, Maggie).  In many applications it's worthwhile to check these variants, however you have to be careful with existing first name alternative databases.  They often have dozens of extremely rare variations, so it's usually better to add the variations that are most likely.\n",
    "\n",
    "Another complication with human names is that they change.  Often with surname changes or other significant name variations, the only way to match is to discover the relationship from other sources, and then keep a look-up table."
   ]
  },
  {
   "cell_type": "markdown",
   "metadata": {
    "slideshow": {
     "slide_type": "slide"
    }
   },
   "source": [
    "### The _nameparser_ library"
   ]
  },
  {
   "cell_type": "code",
   "execution_count": 17,
   "metadata": {
    "collapsed": false
   },
   "outputs": [
    {
     "data": {
      "text/plain": [
       "<HumanName : [\n",
       "\ttitle: 'DR.' \n",
       "\tfirst: 'RICHARD' \n",
       "\tmiddle: 'ALLAN' \n",
       "\tlast: 'BREGGER' \n",
       "\tsuffix: 'Ph.D'\n",
       "\tnickname: 'Rick'\n",
       "]>"
      ]
     },
     "execution_count": 17,
     "metadata": {},
     "output_type": "execute_result"
    }
   ],
   "source": [
    "from nameparser import HumanName\n",
    "\n",
    "HumanName('DR. RICHARD ALLAN \"Rick\" BREGGER, Ph.D')"
   ]
  },
  {
   "cell_type": "markdown",
   "metadata": {
    "slideshow": {
     "slide_type": "notes"
    }
   },
   "source": [
    "The _nameparser_ library is a good tool for parsing names in your own applications.  It does a very good job, even on complicated names provided that the format is not too bogus."
   ]
  },
  {
   "cell_type": "code",
   "execution_count": 18,
   "metadata": {
    "collapsed": false,
    "slideshow": {
     "slide_type": "slide"
    }
   },
   "outputs": [
    {
     "data": {
      "text/plain": [
       "<HumanName : [\n",
       "\ttitle: '' \n",
       "\tfirst: 'RICHARD' \n",
       "\tmiddle: 'A' \n",
       "\tlast: 'BREGGER' \n",
       "\tsuffix: ''\n",
       "\tnickname: ''\n",
       "]>"
      ]
     },
     "execution_count": 18,
     "metadata": {},
     "output_type": "execute_result"
    }
   ],
   "source": [
    "HumanName('BREGGER, RICHARD A')"
   ]
  },
  {
   "cell_type": "code",
   "execution_count": 19,
   "metadata": {
    "collapsed": false
   },
   "outputs": [
    {
     "data": {
      "text/plain": [
       "<HumanName : [\n",
       "\ttitle: '' \n",
       "\tfirst: 'BREGGER' \n",
       "\tmiddle: 'RICHARD' \n",
       "\tlast: 'A' \n",
       "\tsuffix: ''\n",
       "\tnickname: ''\n",
       "]>"
      ]
     },
     "execution_count": 19,
     "metadata": {},
     "output_type": "execute_result"
    }
   ],
   "source": [
    "HumanName('BREGGER RICHARD A')"
   ]
  },
  {
   "cell_type": "markdown",
   "metadata": {
    "slideshow": {
     "slide_type": "notes"
    }
   },
   "source": [
    "However, it's not magical.  Since it relies primarily on certain syntactical elements, it won't get some common cases correct.  For instance, here it's relying on the comma to know that this name is in last name, first name order."
   ]
  },
  {
   "cell_type": "markdown",
   "metadata": {
    "slideshow": {
     "slide_type": "slide"
    }
   },
   "source": [
    "## Addresses and Geocoding"
   ]
  },
  {
   "cell_type": "markdown",
   "metadata": {},
   "source": [
    "- Addresses are more frequently separated into multiple fields, usually street address, city, state, zip code in the source data.\n",
    "- Zip codes have 3,5, and 9 (Zip+4) variants\n",
    "- Since Zip codes are designed for efficiency of mail delivery, they aren't a consistent indicator of physical proximity.\n",
    "  - Zips are not even areas\n",
    "- The street number can be a useful identifier\n",
    "- Different businesses might have identical addresses (aka, \"the food-court effect\")"
   ]
  },
  {
   "cell_type": "markdown",
   "metadata": {
    "slideshow": {
     "slide_type": "notes"
    }
   },
   "source": [
    "Addresses are even tricker than human names, but there are two factors that help.  One is that addresses are most often already separated into multiple fields in data sources.  The other is that there's a long history of GIS research.  Zip codes, as in our test data, are often very useful on their own, but you do have to be careful with them since they really only describe mail delivery routes and not bounded geographical areas of any particular size.  Also note that having _identical_ addresses does not mean that two entities refer to the same thing."
   ]
  },
  {
   "cell_type": "code",
   "execution_count": 20,
   "metadata": {
    "collapsed": false,
    "slideshow": {
     "slide_type": "slide"
    }
   },
   "outputs": [
    {
     "data": {
      "text/html": [
       "<div>\n",
       "<table border=\"1\" class=\"dataframe\">\n",
       "  <thead>\n",
       "    <tr style=\"text-align: right;\">\n",
       "      <th></th>\n",
       "      <th>dba</th>\n",
       "      <th>location_address</th>\n",
       "      <th>location_city</th>\n",
       "      <th>location_zip_code</th>\n",
       "    </tr>\n",
       "  </thead>\n",
       "  <tbody>\n",
       "    <tr>\n",
       "      <th>129483</th>\n",
       "      <td>HOSTED GOURMET</td>\n",
       "      <td>39 S BENEVA RD</td>\n",
       "      <td>SARASOTA</td>\n",
       "      <td>34232</td>\n",
       "    </tr>\n",
       "    <tr>\n",
       "      <th>129503</th>\n",
       "      <td>STAMPER CHEESE COMPANY</td>\n",
       "      <td>39 S BENEVA RD</td>\n",
       "      <td>SARASOTA</td>\n",
       "      <td>34232</td>\n",
       "    </tr>\n",
       "    <tr>\n",
       "      <th>129507</th>\n",
       "      <td>MOUTHOLE BBQ</td>\n",
       "      <td>39 S BENEVA RD</td>\n",
       "      <td>SARASOTA</td>\n",
       "      <td>34232</td>\n",
       "    </tr>\n",
       "    <tr>\n",
       "      <th>129515</th>\n",
       "      <td>PALEO CONNECTION LLC</td>\n",
       "      <td>39 S BENEVA RD</td>\n",
       "      <td>SARASOTA</td>\n",
       "      <td>34232</td>\n",
       "    </tr>\n",
       "    <tr>\n",
       "      <th>129516</th>\n",
       "      <td>DOLCE VITA LLC</td>\n",
       "      <td>39 S BENEVA RD</td>\n",
       "      <td>SARASOTA</td>\n",
       "      <td>34232</td>\n",
       "    </tr>\n",
       "    <tr>\n",
       "      <th>129517</th>\n",
       "      <td>BRICKS BBQ</td>\n",
       "      <td>39 S BENEVA RD</td>\n",
       "      <td>SARASOTA</td>\n",
       "      <td>34232</td>\n",
       "    </tr>\n",
       "    <tr>\n",
       "      <th>129521</th>\n",
       "      <td>WINGS ON WHEELS LLC</td>\n",
       "      <td>39 S BENEVA RD</td>\n",
       "      <td>SARASOTA</td>\n",
       "      <td>34232</td>\n",
       "    </tr>\n",
       "    <tr>\n",
       "      <th>130612</th>\n",
       "      <td>MOBILE BISTRO</td>\n",
       "      <td>39 S BENEVA RD</td>\n",
       "      <td>SARASOTA</td>\n",
       "      <td>34240</td>\n",
       "    </tr>\n",
       "    <tr>\n",
       "      <th>130625</th>\n",
       "      <td>RI QUISIMO</td>\n",
       "      <td>39 S BENEVA RD</td>\n",
       "      <td>SARASOTA</td>\n",
       "      <td>34232</td>\n",
       "    </tr>\n",
       "  </tbody>\n",
       "</table>\n",
       "</div>"
      ],
      "text/plain": [
       "                           dba location_address location_city  \\\n",
       "129483          HOSTED GOURMET   39 S BENEVA RD      SARASOTA   \n",
       "129503  STAMPER CHEESE COMPANY   39 S BENEVA RD      SARASOTA   \n",
       "129507            MOUTHOLE BBQ   39 S BENEVA RD      SARASOTA   \n",
       "129515    PALEO CONNECTION LLC   39 S BENEVA RD      SARASOTA   \n",
       "129516          DOLCE VITA LLC   39 S BENEVA RD      SARASOTA   \n",
       "129517              BRICKS BBQ   39 S BENEVA RD      SARASOTA   \n",
       "129521     WINGS ON WHEELS LLC   39 S BENEVA RD      SARASOTA   \n",
       "130612           MOBILE BISTRO   39 S BENEVA RD      SARASOTA   \n",
       "130625              RI QUISIMO   39 S BENEVA RD      SARASOTA   \n",
       "\n",
       "       location_zip_code  \n",
       "129483             34232  \n",
       "129503             34232  \n",
       "129507             34232  \n",
       "129515             34232  \n",
       "129516             34232  \n",
       "129517             34232  \n",
       "129521             34232  \n",
       "130612             34240  \n",
       "130625             34232  "
      ]
     },
     "execution_count": 20,
     "metadata": {},
     "output_type": "execute_result"
    }
   ],
   "source": [
    "df_fl_a[df_fl_a.location_address=='39 S BENEVA RD'][['dba',\n",
    "                     'location_address',\n",
    "                     'location_city',\n",
    "                     'location_zip_code']]"
   ]
  },
  {
   "cell_type": "markdown",
   "metadata": {
    "slideshow": {
     "slide_type": "notes"
    }
   },
   "source": [
    "For example...  Note also that one of these items has a different zip code, which tells us that we can't always rely on zip codes being correct."
   ]
  },
  {
   "cell_type": "markdown",
   "metadata": {
    "slideshow": {
     "slide_type": "slide"
    }
   },
   "source": [
    "### Geocoders"
   ]
  },
  {
   "cell_type": "markdown",
   "metadata": {},
   "source": [
    "Geocoding is translating an address into latitude and longitude.\n",
    "\n",
    "- Google\n",
    "- OpenStreetMap Nominatim\n",
    "- geocoder.us\n",
    "- TIGER\n",
    "  - Addon for PostGIS\n",
    "  - Uses US Census Bureau TIGER Geodatabases"
   ]
  },
  {
   "cell_type": "markdown",
   "metadata": {
    "slideshow": {
     "slide_type": "notes"
    }
   },
   "source": [
    "Geocoders can be very useful with address data if it is of sufficiently good quality.  Their main purpose is to translate an address in to latitude and longitude (or vice versa); but they have a side-benefit of tokenizing address components.  There are numerous geo-coding services some of which are listed here, however many of them cost money, which can be a problem if you have millions of addresses to handle.  One \"free\" option is the TIGER geocoder, which is part of the PostGIS addon for Postgres."
   ]
  },
  {
   "cell_type": "markdown",
   "metadata": {
    "slideshow": {
     "slide_type": "slide"
    }
   },
   "source": [
    "```\n",
    "SELECT g.rating, ST_X(g.geomout) As lon, ST_Y(g.geomout) As lat, \n",
    "(addy).address As stno, (addy).streetname As street, \n",
    "(addy).streettypeabbrev As styp, (addy).location As city, (addy).stateabbrev As st,(addy).zip \n",
    "FROM geocode('555 Lake Border Drive, Apopka, FL 32703') As g; \n",
    "\n",
    " rating |        lon        |       lat        | stno |   street    | styp |  city  | st |  zip  \n",
    "--------+-------------------+------------------+------+-------------+------+--------+----+-------\n",
    "      0 | -81.4651538792139 | 28.6714046741846 |  555 | Lake Border | Dr   | Apopka | FL | 32703\n",
    "```\n",
    "\n",
    "| Address | Rating | Street # | Longitude | Latitude |\n",
    "| ------- | ------ | --------- | -------- |\n",
    "| 555 Lake Border Drive, Apopka, FL 32703| <span style=\"color:blue\">0</span> | 555 | -81.4651538792139 | 28.6714046741846 |\n",
    "| 5555 Lake Border Drive, Apopka, FL 32703| <span style=\"color:blue\">10</span> | <span style=\"color:red\">699</span> | -81.4651087639419 | 28.6712609342955 |\n",
    "| Apopka, FL 32703| <span style=\"color:blue\">100</span> || -81.552957384847 | 28.6706870842484 |"
   ]
  },
  {
   "cell_type": "markdown",
   "metadata": {
    "slideshow": {
     "slide_type": "notes"
    }
   },
   "source": [
    "The top part of this slide shows how you can invoke the TIGER geocoder from psql.  Obviously, you can put a Python wrapper around this fairly trivially, although there are also sophisticated tools like GeoDjango that you can use.\n",
    "\n",
    "Note that geocoders are only as good as the data passed in.  Usually the return value of a geocoder will included an indicator of the quality of the data.  The table here shows three different addresses and their associated ratings.  The first is a correct address that the geocoder can identify precisely.  The second is an incorrect address, and so the geocoder makes a best guess on the intended address.  The third item has only the city and zip, so the geocoder can only return latitude and longitude for some reference position within that zip code."
   ]
  },
  {
   "cell_type": "markdown",
   "metadata": {
    "slideshow": {
     "slide_type": "slide"
    }
   },
   "source": [
    "#### Comparing Locations"
   ]
  },
  {
   "cell_type": "markdown",
   "metadata": {},
   "source": [
    "- To compute actual _distance_ you need to use Vincenty or Great Circle distance\n",
    "- However for comparison, L1 norm will probably work."
   ]
  },
  {
   "cell_type": "code",
   "execution_count": 21,
   "metadata": {
    "collapsed": false
   },
   "outputs": [
    {
     "data": {
      "text/plain": [
       "(0.0034628723732747875, 6.092525294476887)"
      ]
     },
     "execution_count": 21,
     "metadata": {},
     "output_type": "execute_result"
    }
   ],
   "source": [
    "from geopy.distance import vincenty\n",
    "\n",
    "l0 = (-81.4651538792139,  28.6714046741846)\n",
    "l10 = (-81.4651087639419, 28.6712609342955)\n",
    "l100 = (-81.552957384847,  28.6706870842484)\n",
    "\n",
    "vincenty(l0, l10).miles, vincenty(l0, l100).miles"
   ]
  },
  {
   "cell_type": "markdown",
   "metadata": {
    "slideshow": {
     "slide_type": "notes"
    }
   },
   "source": [
    "If you want to calculate the precise distance between points, you have to use a calculation like the Great Circle distance that takes into account that you're moving along a curved surface.  However, in matching you can often just subtract the component parts and sum them (ie the L1 norm).\n",
    "\n",
    "Here i'm using the geopy library to calculate the distances between the points we found above.  Note that the distance between the correct address and the zip-only address is 6 miles."
   ]
  },
  {
   "cell_type": "markdown",
   "metadata": {
    "slideshow": {
     "slide_type": "slide"
    }
   },
   "source": [
    "## Blocking"
   ]
  },
  {
   "cell_type": "markdown",
   "metadata": {},
   "source": [
    " __Blocking__ is the process of reducing the number of candidate pairs by assiging the records in each data set to a block.  Only record pairs that have the same block key will be compared.\n",
    "\n",
    "For example, here's a case using the _soundex_ value of the name as the blocking key:"
   ]
  },
  {
   "cell_type": "code",
   "execution_count": 22,
   "metadata": {
    "collapsed": false
   },
   "outputs": [
    {
     "data": {
      "text/html": [
       "<div>\n",
       "<table border=\"1\" class=\"dataframe\">\n",
       "  <thead>\n",
       "    <tr style=\"text-align: right;\">\n",
       "      <th></th>\n",
       "      <th>nname_x</th>\n",
       "      <th>nname_y</th>\n",
       "      <th>sndx</th>\n",
       "    </tr>\n",
       "  </thead>\n",
       "  <tbody>\n",
       "    <tr>\n",
       "      <th>0</th>\n",
       "      <td>g &amp; c restaurant</td>\n",
       "      <td>g.w. sharkeys raw bar &amp; grill</td>\n",
       "      <td>g262</td>\n",
       "    </tr>\n",
       "    <tr>\n",
       "      <th>1</th>\n",
       "      <td>g &amp; c restaurant</td>\n",
       "      <td>gasca, rosendo h. flc</td>\n",
       "      <td>g262</td>\n",
       "    </tr>\n",
       "    <tr>\n",
       "      <th>2</th>\n",
       "      <td>g &amp; c restaurant</td>\n",
       "      <td>geysers international inc</td>\n",
       "      <td>g262</td>\n",
       "    </tr>\n",
       "    <tr>\n",
       "      <th>3</th>\n",
       "      <td>g &amp; c restaurant</td>\n",
       "      <td>geysers international, inc.</td>\n",
       "      <td>g262</td>\n",
       "    </tr>\n",
       "    <tr>\n",
       "      <th>4</th>\n",
       "      <td>gayou's restaurant</td>\n",
       "      <td>g.w. sharkeys raw bar &amp; grill</td>\n",
       "      <td>g262</td>\n",
       "    </tr>\n",
       "    <tr>\n",
       "      <th>5</th>\n",
       "      <td>gayou's restaurant</td>\n",
       "      <td>gasca, rosendo h. flc</td>\n",
       "      <td>g262</td>\n",
       "    </tr>\n",
       "    <tr>\n",
       "      <th>6</th>\n",
       "      <td>gayou's restaurant</td>\n",
       "      <td>geysers international inc</td>\n",
       "      <td>g262</td>\n",
       "    </tr>\n",
       "    <tr>\n",
       "      <th>7</th>\n",
       "      <td>gayou's restaurant</td>\n",
       "      <td>geysers international, inc.</td>\n",
       "      <td>g262</td>\n",
       "    </tr>\n",
       "    <tr>\n",
       "      <th>8</th>\n",
       "      <td>geiger key marina and fish camp</td>\n",
       "      <td>g.w. sharkeys raw bar &amp; grill</td>\n",
       "      <td>g262</td>\n",
       "    </tr>\n",
       "    <tr>\n",
       "      <th>9</th>\n",
       "      <td>geiger key marina and fish camp</td>\n",
       "      <td>gasca, rosendo h. flc</td>\n",
       "      <td>g262</td>\n",
       "    </tr>\n",
       "    <tr>\n",
       "      <th>10</th>\n",
       "      <td>geiger key marina and fish camp</td>\n",
       "      <td>geysers international inc</td>\n",
       "      <td>g262</td>\n",
       "    </tr>\n",
       "    <tr>\n",
       "      <th>11</th>\n",
       "      <td>geiger key marina and fish camp</td>\n",
       "      <td>geysers international, inc.</td>\n",
       "      <td>g262</td>\n",
       "    </tr>\n",
       "    <tr>\n",
       "      <th>12</th>\n",
       "      <td>g w sharkeys raw bar and grill</td>\n",
       "      <td>g.w. sharkeys raw bar &amp; grill</td>\n",
       "      <td>g262</td>\n",
       "    </tr>\n",
       "    <tr>\n",
       "      <th>13</th>\n",
       "      <td>g w sharkeys raw bar and grill</td>\n",
       "      <td>gasca, rosendo h. flc</td>\n",
       "      <td>g262</td>\n",
       "    </tr>\n",
       "    <tr>\n",
       "      <th>14</th>\n",
       "      <td>g w sharkeys raw bar and grill</td>\n",
       "      <td>geysers international inc</td>\n",
       "      <td>g262</td>\n",
       "    </tr>\n",
       "    <tr>\n",
       "      <th>15</th>\n",
       "      <td>g w sharkeys raw bar and grill</td>\n",
       "      <td>geysers international, inc.</td>\n",
       "      <td>g262</td>\n",
       "    </tr>\n",
       "  </tbody>\n",
       "</table>\n",
       "</div>"
      ],
      "text/plain": [
       "                            nname_x                        nname_y  sndx\n",
       "0                  g & c restaurant  g.w. sharkeys raw bar & grill  g262\n",
       "1                  g & c restaurant          gasca, rosendo h. flc  g262\n",
       "2                  g & c restaurant      geysers international inc  g262\n",
       "3                  g & c restaurant    geysers international, inc.  g262\n",
       "4                gayou's restaurant  g.w. sharkeys raw bar & grill  g262\n",
       "5                gayou's restaurant          gasca, rosendo h. flc  g262\n",
       "6                gayou's restaurant      geysers international inc  g262\n",
       "7                gayou's restaurant    geysers international, inc.  g262\n",
       "8   geiger key marina and fish camp  g.w. sharkeys raw bar & grill  g262\n",
       "9   geiger key marina and fish camp          gasca, rosendo h. flc  g262\n",
       "10  geiger key marina and fish camp      geysers international inc  g262\n",
       "11  geiger key marina and fish camp    geysers international, inc.  g262\n",
       "12   g w sharkeys raw bar and grill  g.w. sharkeys raw bar & grill  g262\n",
       "13   g w sharkeys raw bar and grill          gasca, rosendo h. flc  g262\n",
       "14   g w sharkeys raw bar and grill      geysers international inc  g262\n",
       "15   g w sharkeys raw bar and grill    geysers international, inc.  g262"
      ]
     },
     "execution_count": 22,
     "metadata": {},
     "output_type": "execute_result"
    }
   ],
   "source": [
    "df_fl_a['sndx'] = df_fl_a.nname.apply(jellyfish.soundex)\n",
    "df_oge_a_fl['sndx'] = df_oge_a_fl.nname.apply(jellyfish.soundex)\n",
    "df_fl_a[df_fl_a.sndx=='g262'].merge(df_oge_a_fl[df_oge_a_fl.sndx=='g262'], on='sndx')[['nname_x','nname_y','sndx']]"
   ]
  },
  {
   "cell_type": "markdown",
   "metadata": {
    "slideshow": {
     "slide_type": "notes"
    }
   },
   "source": [
    "Blocking is the process of reducing the number of record pairs that need to be compared.  Our example case has over 800 million record pairs in A x B. That's not huge by today's standards, but you can see that the larger our data sets get, the more we want to eliminate record pairs.  Above is shown a traditional method for blocking, where records in the two data sets are _candidates_ if they have the same soundex value.  Soundex is a code that's supposed to indicate strings that begin with similar sounds."
   ]
  },
  {
   "cell_type": "markdown",
   "metadata": {
    "slideshow": {
     "slide_type": "slide"
    }
   },
   "source": [
    "### Using a Single Property"
   ]
  },
  {
   "cell_type": "code",
   "execution_count": 23,
   "metadata": {
    "collapsed": false
   },
   "outputs": [
    {
     "data": {
      "image/png": "[encoded data removed]",
      "text/plain": [
       "<matplotlib.figure.Figure at 0x8194f98>"
      ]
     },
     "metadata": {},
     "output_type": "display_data"
    }
   ],
   "source": [
    "df_fl_a['k'] = 1\n",
    "df_oge_a_fl['k'] = 1\n",
    "df_block = df_fl_a.sort_values(by='nzip').iloc[0:1000].merge(df_oge_a_fl.sort_values(by='nzip').iloc[0:500], \n",
    "                                                             on='k')[['nzip_x', 'nzip_y']]\n",
    "\n",
    "z = (df_block.nzip_x == df_block.nzip_y).values\n",
    "z.shape = (1000, 500)\n",
    "_=plt.imshow(z, aspect=0.5)"
   ]
  },
  {
   "cell_type": "markdown",
   "metadata": {
    "slideshow": {
     "slide_type": "notes"
    }
   },
   "source": [
    "Sometimes you can simply use a single property in the data (or part of it) to block. For example, the red section above shows the pairs we would retain if we only used records where the 5-digit zip matches.  However as we've seen there are some wrong zips so this would miss matches.  You could also use the first 3 digits of the zip to throw a wider net."
   ]
  },
  {
   "cell_type": "markdown",
   "metadata": {
    "slideshow": {
     "slide_type": "slide"
    }
   },
   "source": [
    "### Using Multiple Properties"
   ]
  },
  {
   "cell_type": "markdown",
   "metadata": {},
   "source": [
    "- Blocking with an existing property will often defeat the purpose of matching\n",
    "- Using multiple properties (eg, Zip, Street Num) increases the probability of including candidates\n",
    "  - At the expense of __multiple blocks per record__.\n",
    "- This is equivalent to Locality Sensitive Hashing (LSH)"
   ]
  },
  {
   "cell_type": "markdown",
   "metadata": {
    "slideshow": {
     "slide_type": "notes"
    }
   },
   "source": [
    "The idea here is that you sort by the first property and consider pairs where the property matches as we did with zip above, then you sort by the second property and compare any pairs not already considered.  Each new property reduces the probability of dropping a record pair with a match."
   ]
  },
  {
   "cell_type": "markdown",
   "metadata": {
    "slideshow": {
     "slide_type": "slide"
    }
   },
   "source": [
    "### N-Gram Based Blocks"
   ]
  },
  {
   "cell_type": "code",
   "execution_count": 24,
   "metadata": {
    "collapsed": false
   },
   "outputs": [
    {
     "data": {
      "text/plain": [
       "{'reeeett  ccaaffe', 'sttrreeeett  cca', 'trreeeett  ccaaf'}"
      ]
     },
     "execution_count": 24,
     "metadata": {},
     "output_type": "execute_result"
    }
   ],
   "source": [
    "def window(fseq, window_size=8):\n",
    "    for i in range(len(fseq) - window_size + 1):\n",
    "        yield fseq[i:i+window_size]\n",
    "\n",
    "#Find bigrams and then join them into 8-bigram keys\n",
    "n1 = ngrams('mainstreet cafe', 2)\n",
    "[''.join(x) for x in window(n1)]\n",
    "n2 = ngrams('the main street cafe inc', 2)\n",
    "# Find the keys shared by these two names\n",
    "set([''.join(x) for x in window(n1)]) & set([''.join(x) for x in window(n2)])"
   ]
  },
  {
   "cell_type": "markdown",
   "metadata": {
    "slideshow": {
     "slide_type": "notes"
    }
   },
   "source": [
    "This approach works well with messier name data.  For example in this case we have two names that are in fact a match, but they don't have a high similarity score or the same soundex code.  What we do is form bigrams from the names, and then make blocking keys by joining a subset of the bigrams into strings.  You can see here that these two names share 3 blocking keys, so they would end up in the same index lists."
   ]
  },
  {
   "cell_type": "markdown",
   "metadata": {
    "slideshow": {
     "slide_type": "notes"
    }
   },
   "source": [
    "### Canopy Clustering"
   ]
  },
  {
   "cell_type": "markdown",
   "metadata": {
    "slideshow": {
     "slide_type": "notes"
    }
   },
   "source": [
    "Canopy clustering is a sort of \"pre-clustering\" used to reduce the number of comparisons needed in more complex clustering algorithms\n",
    "\n",
    "- Generate blocking keys for records in both data sets (for example, n-grams of name)\n",
    "- Build an inverted index (eg, n-gram to list of records with that n-gram)\n",
    "- Repeat\n",
    "  - Choose a random record to make a new \"canopy\"\n",
    "  - Look up matching records in inverted index\n",
    "  - For each record in index, calculate "
   ]
  },
  {
   "cell_type": "markdown",
   "metadata": {
    "slideshow": {
     "slide_type": "slide"
    }
   },
   "source": [
    "## Classifying Matches"
   ]
  },
  {
   "cell_type": "markdown",
   "metadata": {},
   "source": [
    "We can now generate the comparison vectors:\n",
    "\n",
    "$$\n",
    "[s_{1}(a_{1}, b_{1}), ..., s_{n}(a_{n}, b_{n})]\n",
    "$$\n",
    "\n",
    "Options:\n",
    " - Simple Scoring\n",
    " - Rules\n",
    " - Probabilistic matching\n",
    " - Supervised learning"
   ]
  },
  {
   "cell_type": "markdown",
   "metadata": {
    "slideshow": {
     "slide_type": "notes"
    }
   },
   "source": [
    "So now we know how to compare fields, and we know how to limit the record pairs that we want to compare, so we can create the comparison vectors.  There are several ways to use that information to classify each record pair as a match or non-match.  The first is just calculating a simple score"
   ]
  },
  {
   "cell_type": "markdown",
   "metadata": {
    "slideshow": {
     "slide_type": "slide"
    }
   },
   "source": [
    "### Simple Scoring"
   ]
  },
  {
   "cell_type": "markdown",
   "metadata": {},
   "source": [
    "\n",
    "\n",
    "$$\n",
    "Score(r_{a}, r_{b}) = \\sum_{i=1}^{n} w_{i} s_{i}(a_{i}, b_{i})\n",
    "$$\n",
    "\n",
    "$$ \n",
    "Score(r_{a}, r_{b}) > T \\implies r \\in M\n",
    "$$\n",
    "\n",
    "- Sum the individual scores and set a threshold T1.  Anything > T1 is a match\n",
    "- For bonus points, choose a second threshold T2 so that anything < T2 is a non-match\n",
    "- Any sum between T1 and T2 needs review.\n"
   ]
  },
  {
   "cell_type": "markdown",
   "metadata": {
    "slideshow": {
     "slide_type": "notes"
    }
   },
   "source": [
    "The easiest way to classify matches is just to form a score from the components of the comparison vector usually by summing them, possibly with unequal weights.  In fact, this is simple enough that it can usually be calculated directly from the record pairs."
   ]
  },
  {
   "cell_type": "code",
   "execution_count": 25,
   "metadata": {
    "collapsed": false,
    "slideshow": {
     "slide_type": "slide"
    }
   },
   "outputs": [
    {
     "data": {
      "image/png": "[encoded data removed]",
      "text/plain": [
       "<matplotlib.figure.Figure at 0x82087f0>"
      ]
     },
     "metadata": {},
     "output_type": "display_data"
    }
   ],
   "source": [
    "def match_score(r_a, r_b):\n",
    "    return (jellyfish.jaro_winkler(r_a[0], r_b[0]) + \n",
    "            (1.0 if r_a[1] == r_b[1] else 0) + \n",
    "            (1.0 if r_a[2] == r_b[2] else 0))\n",
    "\n",
    "_=df_m[['nname_x','snum_x', 'nzip', \n",
    "        'nname_y', 'snum_y', 'nzip']].apply(\n",
    "       lambda r: match_score(r[0:3], r[3:]), axis=1).hist(bins=20)\n",
    "_=df_u[['nname_x','snum_x', 'nzip', \n",
    "        'nname_y', 'snum_y', 'nzip']].apply(\n",
    "       lambda r: match_score(r[0:3], r[3:]), axis=1).hist(bins=20)"
   ]
  },
  {
   "cell_type": "markdown",
   "metadata": {
    "slideshow": {
     "slide_type": "notes"
    }
   },
   "source": [
    "This approach actually works reasonably well on our example even using a super-simple score.  This graph shows the scores of the true matches (in blue) and the scores of the top 1000 non-matches.  They are fairly well separated except for some outliers down at the bottom that were manually set.  However, there's a range between 2.7 and 2.9 where there are numerous matches and non-matches."
   ]
  },
  {
   "cell_type": "markdown",
   "metadata": {
    "slideshow": {
     "slide_type": "slide"
    }
   },
   "source": [
    "### Rules"
   ]
  },
  {
   "cell_type": "markdown",
   "metadata": {},
   "source": [
    "$$\n",
    "(JaroWinkler(Name_{A}, Name_{B}) > 0.9) \\land (Zip_{A} = Zip_{B}) \\implies M\n",
    "$$\n",
    "\n",
    "$$\n",
    "(JaroWinkler(Name_{A}, Name_{B}) < 0.7) \\lor (Zip_{A} \\neq Zip_{B}) \\implies U\n",
    "$$\n"
   ]
  },
  {
   "cell_type": "markdown",
   "metadata": {
    "slideshow": {
     "slide_type": "notes"
    }
   },
   "source": [
    "Using rules is another common approach. Basically we're just applying various conditions to the elements of the comparison vector.  The rules are usually just implemented with standard Python conditionals, but you could also use something like PyRules for complicated situations.  Rules give us an added level of complexity over scoring.  For example, we could have one rule that says we have a match if the Jaro-Winkler score is 0.8 and the zip and street number match, and another rule that says we have a match if the names are identical and the street number matches.  The biggest problem with rules is that they are harder to learn, so you often need experience with the data or the problem domain before you can get them right."
   ]
  },
  {
   "cell_type": "markdown",
   "metadata": {
    "slideshow": {
     "slide_type": "slide"
    }
   },
   "source": [
    "### Probabilistic Matching (Fellegi-Sunter)"
   ]
  },
  {
   "cell_type": "markdown",
   "metadata": {},
   "source": [
    "Suppose our comparison vector is:\n",
    "\n",
    "$$\n",
    "  \\gamma(r_{A}, r_{B}) = [JaroWinkler(Name_{A}, Name_{B}) > 0.9, (Zip_{A} = Zip_{B}), Levenshtein(StreetNum_{A}, StreetNum_{B}) < 2]\n",
    "$$\n",
    "\n",
    "We'll call this type of comparison vector an _agreement pattern_.  The are 8 separate patterns (2^3) in this case\n"
   ]
  },
  {
   "cell_type": "code",
   "execution_count": 26,
   "metadata": {
    "collapsed": false
   },
   "outputs": [
    {
     "data": {
      "text/html": [
       "<div>\n",
       "<table border=\"1\" class=\"dataframe\">\n",
       "  <thead>\n",
       "    <tr style=\"text-align: right;\">\n",
       "      <th></th>\n",
       "      <th>name</th>\n",
       "      <th>zip</th>\n",
       "      <th>street num</th>\n",
       "    </tr>\n",
       "  </thead>\n",
       "  <tbody>\n",
       "    <tr>\n",
       "      <th>0</th>\n",
       "      <td>match</td>\n",
       "      <td>match</td>\n",
       "      <td>match</td>\n",
       "    </tr>\n",
       "    <tr>\n",
       "      <th>1</th>\n",
       "      <td>match</td>\n",
       "      <td>match</td>\n",
       "      <td>unmatch</td>\n",
       "    </tr>\n",
       "    <tr>\n",
       "      <th>2</th>\n",
       "      <td>match</td>\n",
       "      <td>unmatch</td>\n",
       "      <td>match</td>\n",
       "    </tr>\n",
       "    <tr>\n",
       "      <th>3</th>\n",
       "      <td>match</td>\n",
       "      <td>unmatch</td>\n",
       "      <td>unmatch</td>\n",
       "    </tr>\n",
       "    <tr>\n",
       "      <th>4</th>\n",
       "      <td>unmatch</td>\n",
       "      <td>match</td>\n",
       "      <td>match</td>\n",
       "    </tr>\n",
       "    <tr>\n",
       "      <th>5</th>\n",
       "      <td>unmatch</td>\n",
       "      <td>match</td>\n",
       "      <td>unmatch</td>\n",
       "    </tr>\n",
       "    <tr>\n",
       "      <th>6</th>\n",
       "      <td>unmatch</td>\n",
       "      <td>unmatch</td>\n",
       "      <td>match</td>\n",
       "    </tr>\n",
       "    <tr>\n",
       "      <th>7</th>\n",
       "      <td>unmatch</td>\n",
       "      <td>unmatch</td>\n",
       "      <td>unmatch</td>\n",
       "    </tr>\n",
       "  </tbody>\n",
       "</table>\n",
       "</div>"
      ],
      "text/plain": [
       "      name      zip street num\n",
       "0    match    match      match\n",
       "1    match    match    unmatch\n",
       "2    match  unmatch      match\n",
       "3    match  unmatch    unmatch\n",
       "4  unmatch    match      match\n",
       "5  unmatch    match    unmatch\n",
       "6  unmatch  unmatch      match\n",
       "7  unmatch  unmatch    unmatch"
      ]
     },
     "execution_count": 26,
     "metadata": {},
     "output_type": "execute_result"
    }
   ],
   "source": [
    "import itertools\n",
    "pd.DataFrame(data=list(itertools.product(['match','unmatch'], repeat=3)),\n",
    "             columns=['name', 'zip', 'street num'])"
   ]
  },
  {
   "cell_type": "markdown",
   "metadata": {
    "slideshow": {
     "slide_type": "notes"
    }
   },
   "source": [
    "Probabilistic matching methods, which are mostly identified with the method of Fellegi and Sunter, were the first attempts to find an optimal approach to matching.  The starting point is a comparison vector that is a set of predicates, or an _agreement pattern_, here called gamma.  Fellegi and Sunter treat gamma as a random variable, so that each pattern has a certain probability of occuring in the set of pairs, and of course the probability of all the patterns sums to one.  Certain patterns will obviously be much more associated with matches, and others will be much more associated with non-matches."
   ]
  },
  {
   "cell_type": "markdown",
   "metadata": {
    "slideshow": {
     "slide_type": "slide"
    }
   },
   "source": [
    "The method then defines the following two conditonal probabilities:\n",
    "\n",
    "$$\n",
    "\\begin{align}\n",
    "m(\\gamma) = P[\\gamma(r_{A}, r_{B})| (r_{A}, r_{B}) \\in M] \\\\\n",
    "\\end{align}\n",
    "$$\n",
    "and\n",
    "$$\n",
    "\\begin{align}\n",
    "u(\\gamma) = P[\\gamma(r_{A}, r_{B})| (r_{A}, r_{B}) \\in U] \\\\\n",
    "\\end{align}\n",
    "$$\n"
   ]
  },
  {
   "cell_type": "markdown",
   "metadata": {
    "slideshow": {
     "slide_type": "notes"
    }
   },
   "source": [
    "To capture this idea, they first define two conditional probabilities: m, the probability that a certain pattern will occur in the set of matches, and u the probability that a pattern will appear in the set of non-matches."
   ]
  },
  {
   "cell_type": "markdown",
   "metadata": {
    "slideshow": {
     "slide_type": "slide"
    }
   },
   "source": [
    "The Fellegi-Sunter method results in a _linkage rule_:\n",
    "\n",
    "$$\n",
    "\t\\begin{array}{ll}\n",
    "\t\t\\frac{m}{u} > T_{\\mu}  & \\mbox{match}  \\\\\n",
    "        T_{\\mu} < \\frac{m}{u} < T_{\\lambda}  & \\mbox{potential match}  \\\\\n",
    "\t\t\\frac{m}{u} < T_{\\lambda}  & \\mbox{non-match}  \\\\\n",
    "\t\\end{array}\n",
    "$$\n"
   ]
  },
  {
   "cell_type": "markdown",
   "metadata": {
    "slideshow": {
     "slide_type": "notes"
    }
   },
   "source": [
    "Using ratios of m and u, the method defines a _linkage rule_, which uses two thresholds to define matches, possible matches, and non-matches.  The insight of Fellegi and Sunter was that if you sort the m/u ratios from largest to smallest you can define a linkage rule that will give you the best possible match set given the data and the level of error that you're willing to accept.  Obviously, you want to mimimize the \"potential match\" range so that the process is as automatic as possible, but you have to do so while not introducing false positives or missing true matches."
   ]
  },
  {
   "cell_type": "markdown",
   "metadata": {
    "slideshow": {
     "slide_type": "slide"
    }
   },
   "source": [
    "#### Simplifications"
   ]
  },
  {
   "cell_type": "markdown",
   "metadata": {},
   "source": [
    "- Conditional Independence\n",
    "\n",
    "$$\n",
    "\\begin{align}\n",
    "& P(\\textit{name matches}, \\textit{zip matches}, \\textit{street matches}|M) = \\\\\n",
    "& P(\\textit{name matches}|M) P(\\textit{zip matches}|M) P(\\textit{street matches}|M) \\\\\n",
    "\\end{align}\n",
    "$$\n",
    "\n",
    "- So\n",
    "\n",
    "$$\n",
    "m(\\textit{name matches}) = \\frac{P(\\textit{name matches}|M)}{P(\\textit{name matches}|U)}\n",
    "$$"
   ]
  },
  {
   "cell_type": "markdown",
   "metadata": {
    "slideshow": {
     "slide_type": "notes"
    }
   },
   "source": [
    "Two simplifications are usually introduced for the method.  The first is to assume conditional independence between the properties, so that the probabilities of each pattern conditional on M can be written as the product of the probabilities for the individual attributes."
   ]
  },
  {
   "cell_type": "markdown",
   "metadata": {
    "slideshow": {
     "slide_type": "slide"
    }
   },
   "source": [
    "- Convert m/u ratios to weights:\n",
    "\n",
    "$$\n",
    "w_{i} = \n",
    "\\left\\{\n",
    "\t\\begin{array}{ll}\n",
    "\t\tlog_{2}(\\frac{m_{i}}{u_{i}})  & \\mbox{if agreement on field i}  \\\\\n",
    "\t\tlog_{2}(\\frac{1-m_{i}}{1-u_{i}}) & \\mbox{if otherwise}\n",
    "\t\\end{array}\n",
    "\\right.\n",
    "$$"
   ]
  },
  {
   "cell_type": "markdown",
   "metadata": {
    "slideshow": {
     "slide_type": "notes"
    }
   },
   "source": [
    "Once conditional independence is assumed you can also convert the ratios to a log form and then score each record with a sum rather than a product."
   ]
  },
  {
   "cell_type": "markdown",
   "metadata": {
    "slideshow": {
     "slide_type": "slide"
    }
   },
   "source": [
    "### But Wait!"
   ]
  },
  {
   "cell_type": "markdown",
   "metadata": {
    "slideshow": {
     "slide_type": "-"
    }
   },
   "source": [
    "\n",
    "- By definition we don't know which records are in M and which are in U\n",
    "- In some cases __m/u__ can be estimated, and then progressively refined.\n",
    "- Most general method is __Expectation-Maximization__ algorithm"
   ]
  },
  {
   "cell_type": "markdown",
   "metadata": {
    "slideshow": {
     "slide_type": "notes"
    }
   },
   "source": [
    "Obviously the conditional probabilities we defined above require knowing which records are in M and which are in U, but we could only know that for sure by actually determining the matches.  Fortunately there is a well-known way to estimate the parameters given our data that's based on the idea of maximum likelihood estimation, which is a way to find the values of distribution parameters that are the most likely given the data that we have.  The data that we do have is the comparison vectors and agreement patterns.  The data that we don't have is whether each record is in M or in U.  That's where the Expectation-Maximization algorithm comes in."
   ]
  },
  {
   "cell_type": "markdown",
   "metadata": {
    "slideshow": {
     "slide_type": "slide"
    }
   },
   "source": [
    "- Assume distribution of patterns is a mixture of distributions, with parameters:\n",
    "\n",
    "$$\n",
    "\\Phi = ((m_{1}\\dots m_{k}), (u_{1}\\dots u_{k}), p)\n",
    "$$\n",
    "\n",
    "- Also assume there is a _latent variable_ __g__ that determines whether a record pair is in __M__ or __U__.  Then the likelihood function for the data we have is:\n",
    "\n",
    "\n",
    "$$\n",
    "f(g,\\gamma; \\Phi) = \\prod_{j=1}({pP(\\gamma_{j}|r_{j} \\in M))^g((1-p)P(\\gamma_{j}|r_{j} \\in U)})^{(1-g)}\n",
    "$$\n",
    "\n",
    "where the product is over the _j_ attributes we're comparing."
   ]
  },
  {
   "cell_type": "markdown",
   "metadata": {
    "slideshow": {
     "slide_type": "notes"
    }
   },
   "source": [
    "The E-M algorithm is a sort of unsupervised classification or clustering.  We start by assuming that the overall distribution of our data is a _mixture_ of two distributions, given by the m and u values, and an additional parameter p that describes the probability that a record is a match.  This is also sometimes called the _mixing parameter_.  This is the same method used in Scikit-learn's Gaussian Mixture Models, except here the distributions we're mixing are not gaussian.\n",
    "\n",
    "The next detail of the E-M approach is the assumption of a latent variable, g, that says whether or not the record is in the match set or not.  Of course we don't know this, which is why it is hidden or latent.  The hairy-looking function above is the _likelihood function_ for our data including the latent variable.  We can't easily maximize this directly, so the E-M algorithm takes an iterative approach.\n",
    "\n",
    "The E-M algorithm starts with initial estimates of the m, u, and p parameters; along with the agreement patterns.  It first calculates the expected value of g for each record.  Then it uses those values to calculate new values for m, u, and p.  This is repeated until the parameters don't change, within some threshold."
   ]
  },
  {
   "cell_type": "code",
   "execution_count": 27,
   "metadata": {
    "collapsed": true,
    "slideshow": {
     "slide_type": "notes"
    }
   },
   "outputs": [],
   "source": [
    "import operator\n",
    "import numpy as np\n",
    "from functools import reduce\n",
    "\n",
    "mh = np.array([ 0.08910887,  0.98090761,  0.88638131])\n",
    "uh = np.array([ 0.00019569,  0.00198455,  0.0003152 ])\n",
    "\n",
    "def mp(gamma, mh, uh):\n",
    "    return reduce(operator.mul, (mh[i] ** g * (1 - mh[i]) ** (1 - g) for i,g in enumerate(gamma)))\n",
    "\n",
    "def up(gamma, mh, uh):\n",
    "    return reduce(operator.mul, (uh[i] ** g * (1 - uh[i]) ** (1 - g) for i,g in enumerate(gamma)))\n",
    "\n",
    "def log_score(gamma, mh, uh):\n",
    "    return sum([np.log2(mh[i]/uh[i]) if g==1 else np.log2((1-mh[i])/(1-uh[i])) for i,g in enumerate(gamma)])"
   ]
  },
  {
   "cell_type": "code",
   "execution_count": 28,
   "metadata": {
    "collapsed": false,
    "slideshow": {
     "slide_type": "slide"
    }
   },
   "outputs": [
    {
     "data": {
      "text/html": [
       "<table border=\"1\" class=\"dataframe potential\">\n",
       "  <thead>\n",
       "    <tr style=\"text-align: right;\">\n",
       "      <th></th>\n",
       "      <th>name</th>\n",
       "      <th>zip</th>\n",
       "      <th>street num</th>\n",
       "      <th>m</th>\n",
       "      <th>u</th>\n",
       "      <th>mu</th>\n",
       "      <th>w</th>\n",
       "      <th>cu</th>\n",
       "      <th>cm</th>\n",
       "    </tr>\n",
       "  </thead>\n",
       "  <tbody>\n",
       "    <tr>\n",
       "      <th>0</th>\n",
       "      <td>1</td>\n",
       "      <td>1</td>\n",
       "      <td>1</td>\n",
       "      <td>0.077476</td>\n",
       "      <td>1.224100e-10</td>\n",
       "      <td>6.329257e+08</td>\n",
       "      <td>29.237461</td>\n",
       "      <td>1.224100e-10</td>\n",
       "      <td>0.077476</td>\n",
       "    </tr>\n",
       "    <tr>\n",
       "      <th>4</th>\n",
       "      <td>0</td>\n",
       "      <td>1</td>\n",
       "      <td>1</td>\n",
       "      <td>0.791982</td>\n",
       "      <td>6.254078e-07</td>\n",
       "      <td>1.266345e+06</td>\n",
       "      <td>20.272239</td>\n",
       "      <td>6.255302e-07</td>\n",
       "      <td>0.869458</td>\n",
       "    </tr>\n",
       "    <tr>\n",
       "      <th>1</th>\n",
       "      <td>1</td>\n",
       "      <td>1</td>\n",
       "      <td>0</td>\n",
       "      <td>0.009931</td>\n",
       "      <td>3.882342e-07</td>\n",
       "      <td>2.558027e+04</td>\n",
       "      <td>14.642744</td>\n",
       "      <td>1.013764e-06</td>\n",
       "      <td>0.879389</td>\n",
       "    </tr>\n",
       "    <tr>\n",
       "      <th>2</th>\n",
       "      <td>1</td>\n",
       "      <td>0</td>\n",
       "      <td>1</td>\n",
       "      <td>0.001508</td>\n",
       "      <td>6.155908e-08</td>\n",
       "      <td>2.449682e+04</td>\n",
       "      <td>14.580307</td>\n",
       "      <td>1.075323e-06</td>\n",
       "      <td>0.880897</td>\n",
       "    </tr>\n",
       "    <tr>\n",
       "      <th>5</th>\n",
       "      <td>0</td>\n",
       "      <td>1</td>\n",
       "      <td>0</td>\n",
       "      <td>0.101518</td>\n",
       "      <td>1.983536e-03</td>\n",
       "      <td>5.118046e+01</td>\n",
       "      <td>5.677521</td>\n",
       "      <td>1.984612e-03</td>\n",
       "      <td>0.982416</td>\n",
       "    </tr>\n",
       "    <tr>\n",
       "      <th>6</th>\n",
       "      <td>0</td>\n",
       "      <td>0</td>\n",
       "      <td>1</td>\n",
       "      <td>0.015415</td>\n",
       "      <td>3.145129e-04</td>\n",
       "      <td>4.901273e+01</td>\n",
       "      <td>5.615085</td>\n",
       "      <td>2.299124e-03</td>\n",
       "      <td>0.997831</td>\n",
       "    </tr>\n",
       "    <tr>\n",
       "      <th>3</th>\n",
       "      <td>1</td>\n",
       "      <td>0</td>\n",
       "      <td>0</td>\n",
       "      <td>0.000193</td>\n",
       "      <td>1.952401e-04</td>\n",
       "      <td>9.900612e-01</td>\n",
       "      <td>-0.014410</td>\n",
       "      <td>2.494365e-03</td>\n",
       "      <td>0.998024</td>\n",
       "    </tr>\n",
       "    <tr>\n",
       "      <th>7</th>\n",
       "      <td>0</td>\n",
       "      <td>0</td>\n",
       "      <td>0</td>\n",
       "      <td>0.001976</td>\n",
       "      <td>9.975056e-01</td>\n",
       "      <td>1.980894e-03</td>\n",
       "      <td>-8.979633</td>\n",
       "      <td>1.000000e+00</td>\n",
       "      <td>1.000000</td>\n",
       "    </tr>\n",
       "  </tbody>\n",
       "</table>"
      ],
      "text/plain": [
       "<IPython.core.display.HTML object>"
      ]
     },
     "execution_count": 28,
     "metadata": {},
     "output_type": "execute_result"
    }
   ],
   "source": [
    "df_scores = pd.DataFrame(data=list(itertools.product([1,0], repeat=3)),\n",
    "             columns=['name', 'zip', 'street num'])\n",
    "df_scores['m'] = df_scores[['name', 'zip', 'street num']].apply(lambda p: mp(p,mh,uh), axis=1)\n",
    "df_scores['u'] = df_scores[['name', 'zip', 'street num']].apply(lambda p: up(p,mh,uh), axis=1)\n",
    "df_scores['mu'] = df_scores.m/df_scores.u\n",
    "df_scores['w'] = df_scores[['name', 'zip', 'street num']].apply(lambda p: log_score(p,mh,uh), axis=1)\n",
    "df_scores.sort_values(by='mu', ascending=False, inplace=True)\n",
    "df_scores['cu'] = df_scores.u.cumsum()\n",
    "df_scores['cm'] = df_scores.m.cumsum()\n",
    "HTML(df_scores.to_html(classes='potential'))"
   ]
  },
  {
   "cell_type": "markdown",
   "metadata": {
    "slideshow": {
     "slide_type": "notes"
    }
   },
   "source": [
    "The data above shows m and u data calculated for our test set, using only name, zip, and street number for comparison.  These are sorted by m/u ratio.  This doesn't give us great results.  Only the first ratio is really safe in terms of automatically declaring a match.  The last 4 are also pretty safe in terms of determining a non-match.  However the three patterns show in yellow probably need some review.  It might not seem like it at first-- note that for the second pattern the u value is only about 1 in a million, but also recall that we're thinking in terms of 900 million pairs."
   ]
  },
  {
   "cell_type": "code",
   "execution_count": 29,
   "metadata": {
    "collapsed": false,
    "slideshow": {
     "slide_type": "notes"
    }
   },
   "outputs": [
    {
     "data": {
      "application/javascript": [
       "$('.potential tbody tr').filter(':eq(1)')\n",
       "                                             .css('background-color', '#ffff99');\n",
       "              $('.potential tbody tr').filter(':eq(2)')\n",
       "                                             .css('background-color', '#ffff99');\n",
       "              $('.potential tbody tr').filter(':eq(3)')\n",
       "                                             .css('background-color', '#ffff99');                                             \n",
       "                   "
      ],
      "text/plain": [
       "<IPython.core.display.Javascript object>"
      ]
     },
     "execution_count": 29,
     "metadata": {},
     "output_type": "execute_result"
    }
   ],
   "source": [
    "Javascript('''$('.potential tbody tr').filter(':eq(1)')\n",
    "                                             .css('background-color', '#ffff99');\n",
    "              $('.potential tbody tr').filter(':eq(2)')\n",
    "                                             .css('background-color', '#ffff99');\n",
    "              $('.potential tbody tr').filter(':eq(3)')\n",
    "                                             .css('background-color', '#ffff99');                                             \n",
    "                   ''')"
   ]
  },
  {
   "cell_type": "markdown",
   "metadata": {
    "slideshow": {
     "slide_type": "slide"
    }
   },
   "source": [
    "### Supervised Learning"
   ]
  },
  {
   "cell_type": "markdown",
   "metadata": {},
   "source": [
    "- Requires training data where matches/non-matches are already known\n",
    "- Always imbalanced since there are many more non-matches than matches\n",
    "- Harder to apply in production situations"
   ]
  },
  {
   "cell_type": "markdown",
   "metadata": {
    "slideshow": {
     "slide_type": "notes"
    }
   },
   "source": [
    "If you have some data that already has matches defined, that can be used to train the standard classifiers in scikit-learn.  This might seem unlikely, but it's not unusual to use one of the techniques above in conjunction with a team of reviewers to determine the likely matches.  \n",
    "\n",
    "In this case our comparison vector will correspond to a feature vector.  Note that the classes will always be unbalanced, that is we'll always have way more non-matches than matches."
   ]
  },
  {
   "cell_type": "code",
   "execution_count": 30,
   "metadata": {
    "collapsed": false,
    "slideshow": {
     "slide_type": "notes"
    }
   },
   "outputs": [],
   "source": [
    "import numpy as np\n",
    "from sklearn.cross_validation import KFold\n",
    "from sklearn.ensemble import RandomForestClassifier\n",
    "\n",
    "df_train = pd.read_csv('./data/match_train.csv')\n",
    "\n",
    "#Make some new features\n",
    "df_train['jw_dist'] = df_train[['snum_x', 'snum_y']].apply(\n",
    "                            lambda s: jellyfish.jaro_winkler(str(s[0]), str(s[1])),\n",
    "                            axis=1)\n",
    "df_train['snum_dist'] = df_train[['snum_x', 'snum_y']].apply(\n",
    "                            lambda s: levenshtein_distance(str(s[0]), str(s[1])),\n",
    "                            axis=1)\n",
    "df_train['city_sim'] = df_train[['cty_nm', 'location_city']].apply(\n",
    "                            lambda c: jaccard( ngrams(c[0].lower(),2),\n",
    "                                               ngrams(c[1].lower(),2)),\n",
    "                                               axis=1)\n",
    "#Make a balanced data set\n",
    "df_matched = df_train[df_train.match==1]\n",
    "df_unmatched = df_train[df_train.match==0]\n",
    "df_bal = pd.concat( [df_matched, \n",
    "                     df_unmatched.sample(len(df_matched)) ] ).reset_index()"
   ]
  },
  {
   "cell_type": "code",
   "execution_count": 52,
   "metadata": {
    "collapsed": false,
    "slideshow": {
     "slide_type": "slide"
    }
   },
   "outputs": [
    {
     "name": "stdout",
     "output_type": "stream",
     "text": [
      "0.994557329463\n"
     ]
    },
    {
     "data": {
      "text/plain": [
       "<matplotlib.collections.PathCollection at 0x12714198>"
      ]
     },
     "execution_count": 52,
     "metadata": {},
     "output_type": "execute_result"
    },
    {
     "name": "stderr",
     "output_type": "stream",
     "text": [
      "C:\\Users\\mike\\Anaconda\\envs\\matching\\lib\\site-packages\\matplotlib\\collections.py:590: FutureWarning: elementwise comparison failed; returning scalar instead, but in the future will perform elementwise comparison\n",
      "  if self._edgecolors == str('face'):\n"
     ]
    },
    {
     "data": {
      "image/png": "[encoded data removed]",
      "text/plain": [
       "<matplotlib.figure.Figure at 0x82c13c8>"
      ]
     },
     "metadata": {},
     "output_type": "display_data"
    }
   ],
   "source": [
    "df_bal = pd.read_csv('./data/balanced_train.csv')\n",
    "\n",
    "# Do a 5-fold cross-validation\n",
    "y = df_bal.match\n",
    "X = df_bal[['jw_dist', 'snum_dist', 'city_sim']].as_matrix()\n",
    "\n",
    "kf = KFold(len(y),n_folds=5,shuffle=True)\n",
    "y_pred = y.copy()\n",
    "\n",
    "clf = RandomForestClassifier()\n",
    "\n",
    "# Iterate through folds\n",
    "for train_index, test_index in kf:\n",
    "    X_train, X_test = X[train_index], X[test_index]\n",
    "    y_train = y[train_index]\n",
    "    # Initialize a classifier with key word arguments\n",
    "\n",
    "    clf.fit(X_train,y_train)\n",
    "    y_pred[test_index] = clf.predict(X_test)\n",
    "\n",
    "print(np.mean(y == y_pred))\n",
    "df_bal['nzip'] = 1\n",
    "yy=df_bal[['nname_x','snum_x', 'nzip', \n",
    "        'nname_y', 'snum_y', 'nzip']].apply(\n",
    "       lambda r: match_score(r[0:3], r[3:]), axis=1).values\n",
    "xx =          clf.predict_proba(X)\n",
    "plt.scatter(xx[:,1],yy)"
   ]
  },
  {
   "cell_type": "markdown",
   "metadata": {
    "slideshow": {
     "slide_type": "notes"
    }
   },
   "source": [
    "As an example, here's a case where i've built a balanced data set by just randomly choosing as many non-matches as i have matches, then i do a 5-fold cross-validation using a Random Forest Classifier.  The predicted value is correct here about 99% of the time."
   ]
  },
  {
   "cell_type": "markdown",
   "metadata": {
    "slideshow": {
     "slide_type": "slide"
    }
   },
   "source": [
    "## Active Learning and _Dedupe_"
   ]
  },
  {
   "cell_type": "markdown",
   "metadata": {
    "collapsed": true
   },
   "source": [
    "_PAUSE FOR DEMO_"
   ]
  },
  {
   "cell_type": "markdown",
   "metadata": {
    "slideshow": {
     "slide_type": "slide"
    }
   },
   "source": [
    "## Information Quality Metrics for Matching"
   ]
  },
  {
   "cell_type": "markdown",
   "metadata": {},
   "source": [
    "- Number of References\n",
    "- Class statistics: size, max\n",
    "- Talburt-Wang Index\n",
    "- Rand Index\n"
   ]
  },
  {
   "cell_type": "code",
   "execution_count": 51,
   "metadata": {
    "collapsed": false
   },
   "outputs": [
    {
     "data": {
      "text/plain": [
       "array([ 0.99377586,  0.99377586,  0.99377586, ...,  0.        ,\n",
       "        0.        ,  0.        ])"
      ]
     },
     "execution_count": 51,
     "metadata": {},
     "output_type": "execute_result"
    }
   ],
   "source": [
    "xx[:,1]"
   ]
  },
  {
   "cell_type": "code",
   "execution_count": null,
   "metadata": {
    "collapsed": true
   },
   "outputs": [],
   "source": []
  }
 ],
 "metadata": {
  "celltoolbar": "Slideshow",
  "kernelspec": {
   "display_name": "Python 3",
   "language": "python",
   "name": "python3"
  },
  "language_info": {
   "codemirror_mode": {
    "name": "ipython",
    "version": 3
   },
   "file_extension": ".py",
   "mimetype": "text/x-python",
   "name": "python",
   "nbconvert_exporter": "python",
   "pygments_lexer": "ipython3",
   "version": "3.4.3"
  }
 },
 "nbformat": 4,
 "nbformat_minor": 0
}
