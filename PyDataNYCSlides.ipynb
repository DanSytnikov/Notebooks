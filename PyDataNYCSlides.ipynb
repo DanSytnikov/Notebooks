{
 "cells": [
  {
   "cell_type": "markdown",
   "metadata": {
    "slideshow": {
     "slide_type": "slide"
    }
   },
   "source": [
    "# The Art and Science of Data Matching"
   ]
  },
  {
   "cell_type": "markdown",
   "metadata": {
    "slideshow": {
     "slide_type": "-"
    }
   },
   "source": [
    "## Mike Mull (@kwikstep)"
   ]
  },
  {
   "cell_type": "markdown",
   "metadata": {
    "slideshow": {
     "slide_type": "slide"
    }
   },
   "source": [
    "\n",
    "If you have two sets of data items, A and B, each with no duplicates then \n",
    "\n",
    "\n",
    "$$\n",
    "M=\\{ (a,b)| a \\in A, b \\in B, a = b \\}\n",
    "$$\n",
    "\n",
    "$$\n",
    "U=\\{ (a,b)| a \\in A, b \\in B, a \\ne b \\}\n",
    "$$\n",
    "\n",
    "\n",
    "By definition the union of the two sets M and U is the set of all pairs A and B, or:\n",
    "\n",
    "$$\n",
    "A \\times B = M \\cup U\n",
    "$$\n",
    "\n",
    "\n",
    "- Formally the \"=\" indicates a true match.  In most real data sources, some non-matches will be spuriously classified as in the M set and some true matches will be put in the U set.\n",
    "- The vast majority of pairs in A x B will be in __U__.  If A and B both have 1000 members, A x B will have 1 million pairs, but __M__ can have at most 1000 elements.\n",
    "- Ideally if (a,b) and (b,c) are in __M__ then (a,c) should be also.  However, there are some methods that do not result in this _transitive closure_ and so extra logic might be need to find transitive associations.\n",
    "- In the deduplication case there is only one dataset (A) so you consider all of the pairs (a1,a2) in A x A except where a1 and a2 are the same item.  In this case the __M__ set contains the duplicates.  There may be numerous pairs that all refer to the same entity, so again extra work here is require to cluster the duplicates into groups and select the best attributes to retain."
   ]
  },
  {
   "cell_type": "markdown",
   "metadata": {
    "collapsed": false,
    "slideshow": {
     "slide_type": "slide"
    }
   },
   "source": [
    "<img src=\"Integrate.png\">"
   ]
  },
  {
   "cell_type": "markdown",
   "metadata": {
    "slideshow": {
     "slide_type": "slide"
    }
   },
   "source": [
    "<img src=\"Enrich.png\">"
   ]
  },
  {
   "cell_type": "markdown",
   "metadata": {
    "slideshow": {
     "slide_type": "slide"
    }
   },
   "source": [
    "## Data Exploration and Profiling"
   ]
  },
  {
   "cell_type": "code",
   "execution_count": 1,
   "metadata": {
    "collapsed": false,
    "slideshow": {
     "slide_type": "-"
    }
   },
   "outputs": [
    {
     "name": "stdout",
     "output_type": "stream",
     "text": [
      "<class 'str'>\n",
      "<class 'pandas.core.frame.DataFrame'>\n",
      "Int64Index: 16655 entries, 0 to 16702\n",
      "Data columns (total 6 columns):\n",
      "trade_nm             16655 non-null object\n",
      "legal_name           16565 non-null object\n",
      "street_addr_1_txt    16655 non-null object\n",
      "cty_nm               16655 non-null object\n",
      "st_cd                16655 non-null object\n",
      "zip_cd               16655 non-null float64\n",
      "dtypes: float64(1), object(5)\n",
      "memory usage: 910.8+ KB\n"
     ]
    }
   ],
   "source": [
    "import pandas as pd\n",
    "# Wage data, drop everything but unique name and addresses, and filter to only Florida.\n",
    "df_oge = pd.read_csv('./data/ogesdw.whd.whisard.fl.csv')\n",
    "df_oge_a_fl = df_oge[['trade_nm', 'legal_name', 'street_addr_1_txt', 'cty_nm', 'st_cd', 'zip_cd']].drop_duplicates()\n",
    "\n",
    "print(type(df_oge_a_fl.trade_nm[0]))\n",
    "df_oge_a_fl.info()"
   ]
  },
  {
   "cell_type": "code",
   "execution_count": 2,
   "metadata": {
    "collapsed": false,
    "slideshow": {
     "slide_type": "slide"
    }
   },
   "outputs": [
    {
     "name": "stdout",
     "output_type": "stream",
     "text": [
      "<class 'pandas.core.frame.DataFrame'>\n",
      "Int64Index: 53576 entries, 0 to 130642\n",
      "Data columns (total 4 columns):\n",
      "dba                  53556 non-null object\n",
      "location_address     53576 non-null object\n",
      "location_city        53575 non-null object\n",
      "location_zip_code    53568 non-null object\n",
      "dtypes: object(4)\n",
      "memory usage: 2.0+ MB\n"
     ]
    }
   ],
   "source": [
    "# Florida restaurant inspection data.  Drop everything but unique name and addresses\n",
    "df_fl = pd.read_csv('./data/fl.restaurant-inspections.csv')\n",
    "df_fl_a = df_fl[['dba', 'location_address', 'location_city', 'location_zip_code']].drop_duplicates()\n",
    "\n",
    "df_fl_a.info()"
   ]
  },
  {
   "cell_type": "code",
   "execution_count": 3,
   "metadata": {
    "collapsed": false,
    "slideshow": {
     "slide_type": "slide"
    }
   },
   "outputs": [
    {
     "name": "stdout",
     "output_type": "stream",
     "text": [
      "pzip\n",
      "99999         47778\n",
      "99999-9999     1611\n",
      "999999999      4179\n",
      "dtype: int64\n",
      "pzip\n",
      "99999    16655\n",
      "dtype: int64\n"
     ]
    }
   ],
   "source": [
    "t={ord(x): y for (x, y) in zip('0123456789', '9999999999')}\n",
    "\n",
    "df_fl_a['pzip'] =  df_fl_a.location_zip_code.apply(lambda x: x.translate(t) if pd.notnull(x) else x)\n",
    "print(df_fl_a.groupby('pzip').size())\n",
    "\n",
    "df_oge_a_fl['pzip'] =  df_oge_a_fl.zip_cd.apply(lambda x: str(int(x)).translate(t) if pd.notnull(x) else x)\n",
    "print(df_oge_a_fl.groupby('pzip').size())"
   ]
  },
  {
   "cell_type": "code",
   "execution_count": 4,
   "metadata": {
    "collapsed": false,
    "slideshow": {
     "slide_type": "slide"
    }
   },
   "outputs": [
    {
     "data": {
      "text/plain": [
       "patt\n",
       "4C                          1\n",
       "7-eleven                    1\n",
       "A.R.M.                      1\n",
       "AA                        350\n",
       "Aa                      16295\n",
       "G4S                         1\n",
       "H. A. R. T.                 1\n",
       "I.P.S.                      1\n",
       "I.T.M.                      1\n",
       "S & L                       1\n",
       "krystel's restaurant        1\n",
       "turner construction         1\n",
       "dtype: int64"
      ]
     },
     "execution_count": 4,
     "metadata": {},
     "output_type": "execute_result"
    }
   ],
   "source": [
    "import re\n",
    "def leading_patt(s):\n",
    "    p = (('[A-Z][a-z]', 'Aa'), ('[A-Z][A-Z]', 'AA'), ('[0-9][0-9]', '99'))\n",
    "    for rx, patt in p:\n",
    "        if re.search(rx, s):\n",
    "            return patt\n",
    "    return s\n",
    "\n",
    "df_oge_a_fl['patt'] = df_oge_a_fl.trade_nm.apply(leading_patt)\n",
    "df_oge_a_fl.groupby('patt').size()"
   ]
  },
  {
   "cell_type": "code",
   "execution_count": 5,
   "metadata": {
    "collapsed": false,
    "slideshow": {
     "slide_type": "slide"
    }
   },
   "outputs": [
    {
     "data": {
      "text/plain": [
       "patt\n",
       "4D               1\n",
       "99              39\n",
       "A I O L I        1\n",
       "A&W              1\n",
       "AA           53505\n",
       "D J'S            1\n",
       "I H O P          1\n",
       "J&L              1\n",
       "NONE            20\n",
       "P R'S            1\n",
       "R J'S            1\n",
       "S 3              1\n",
       "T S I            1\n",
       "U K              1\n",
       "Z'S R & B        1\n",
       "dtype: int64"
      ]
     },
     "execution_count": 5,
     "metadata": {},
     "output_type": "execute_result"
    }
   ],
   "source": [
    "df_fl_a['patt'] = df_fl_a.dba.apply(lambda x: leading_patt(x) if pd.notnull(x) else 'NONE')\n",
    "df_fl_a.groupby('patt').size()"
   ]
  },
  {
   "cell_type": "code",
   "execution_count": 6,
   "metadata": {
    "collapsed": false,
    "slideshow": {
     "slide_type": "slide"
    }
   },
   "outputs": [
    {
     "data": {
      "text/html": [
       "<div style=\"max-height:1000px;max-width:1500px;overflow:auto;\">\n",
       "<table border=\"1\" class=\"dataframe\">\n",
       "  <thead>\n",
       "    <tr style=\"text-align: right;\">\n",
       "      <th></th>\n",
       "      <th>nname</th>\n",
       "      <th>nzip</th>\n",
       "      <th>location_address</th>\n",
       "      <th>street_addr_1_txt</th>\n",
       "    </tr>\n",
       "  </thead>\n",
       "  <tbody>\n",
       "    <tr>\n",
       "      <th>551</th>\n",
       "      <td>15 south ristorante enoteca</td>\n",
       "      <td>34236</td>\n",
       "      <td>15 S BLVD OF PRESIDENTS</td>\n",
       "      <td>15 South Blvd. of Presidents</td>\n",
       "    </tr>\n",
       "    <tr>\n",
       "      <th>334</th>\n",
       "      <td>5th avenue bistro</td>\n",
       "      <td>32809</td>\n",
       "      <td>8001 S ORANGE BLOSSOM TRAIL</td>\n",
       "      <td>8001 South Orange Blossom Trail STE 968</td>\n",
       "    </tr>\n",
       "    <tr>\n",
       "      <th>91</th>\n",
       "      <td>84 diner</td>\n",
       "      <td>33325</td>\n",
       "      <td>11432 W SR 84</td>\n",
       "      <td>11432 St Rd 84</td>\n",
       "    </tr>\n",
       "    <tr>\n",
       "      <th>169</th>\n",
       "      <td>acropolis greek taverna</td>\n",
       "      <td>33605</td>\n",
       "      <td>1833 E 7 AVE</td>\n",
       "      <td>1833 E. 7th Avenue</td>\n",
       "    </tr>\n",
       "    <tr>\n",
       "      <th>418</th>\n",
       "      <td>al's pizza</td>\n",
       "      <td>32223</td>\n",
       "      <td>11190 SAN JOSE BLVD</td>\n",
       "      <td>11190 San Jose Blvd</td>\n",
       "    </tr>\n",
       "    <tr>\n",
       "      <th>353</th>\n",
       "      <td>alaqua country club</td>\n",
       "      <td>32779</td>\n",
       "      <td>2091 ALAQUA DR</td>\n",
       "      <td>3060 Players Point</td>\n",
       "    </tr>\n",
       "    <tr>\n",
       "      <th>391</th>\n",
       "      <td>american grill</td>\n",
       "      <td>32202</td>\n",
       "      <td>2 INDEPENDENT DR #201</td>\n",
       "      <td>2 Independent Drive</td>\n",
       "    </tr>\n",
       "    <tr>\n",
       "      <th>434</th>\n",
       "      <td>amici italian restaurant</td>\n",
       "      <td>32080</td>\n",
       "      <td>1915 S AIA B</td>\n",
       "      <td>1915 B  A1A South</td>\n",
       "    </tr>\n",
       "    <tr>\n",
       "      <th>70</th>\n",
       "      <td>amici's trattoria italiana</td>\n",
       "      <td>33196</td>\n",
       "      <td>10201 HAMMOCKS BLVD SUITE 137</td>\n",
       "      <td>10201 Hammocks Boulevard</td>\n",
       "    </tr>\n",
       "    <tr>\n",
       "      <th>82</th>\n",
       "      <td>anglins beach cafe</td>\n",
       "      <td>33308</td>\n",
       "      <td>2 COMMERCIAL BLVD</td>\n",
       "      <td>2 Commercial Blvd.</td>\n",
       "    </tr>\n",
       "  </tbody>\n",
       "</table>\n",
       "</div>"
      ],
      "text/plain": [
       "                           nname   nzip               location_address  \\\n",
       "551  15 south ristorante enoteca  34236        15 S BLVD OF PRESIDENTS   \n",
       "334            5th avenue bistro  32809    8001 S ORANGE BLOSSOM TRAIL   \n",
       "91                      84 diner  33325                  11432 W SR 84   \n",
       "169      acropolis greek taverna  33605                   1833 E 7 AVE   \n",
       "418                   al's pizza  32223            11190 SAN JOSE BLVD   \n",
       "353          alaqua country club  32779                 2091 ALAQUA DR   \n",
       "391               american grill  32202          2 INDEPENDENT DR #201   \n",
       "434     amici italian restaurant  32080                   1915 S AIA B   \n",
       "70    amici's trattoria italiana  33196  10201 HAMMOCKS BLVD SUITE 137   \n",
       "82            anglins beach cafe  33308              2 COMMERCIAL BLVD   \n",
       "\n",
       "                           street_addr_1_txt  \n",
       "551             15 South Blvd. of Presidents  \n",
       "334  8001 South Orange Blossom Trail STE 968  \n",
       "91                            11432 St Rd 84  \n",
       "169                       1833 E. 7th Avenue  \n",
       "418                      11190 San Jose Blvd  \n",
       "353                       3060 Players Point  \n",
       "391                      2 Independent Drive  \n",
       "434                        1915 B  A1A South  \n",
       "70                  10201 Hammocks Boulevard  \n",
       "82                        2 Commercial Blvd.  "
      ]
     },
     "execution_count": 6,
     "metadata": {},
     "output_type": "execute_result"
    }
   ],
   "source": [
    "# Process name and zip code fields\n",
    "df_fl_a['nname'] = df_fl_a.dba.apply(lambda x:x.lower().translate({None:\"'.,\"}) if pd.notnull(x) else '')\n",
    "df_oge_a_fl['nname'] = df_oge_a_fl.trade_nm.apply(lambda x:x.lower().translate({None:\"'.,\"}) if pd.notnull(x) else '')\n",
    "df_fl_a['nzip'] = df_fl_a.location_zip_code.apply(lambda x:x[0:5] if pd.notnull(x) else x)\n",
    "df_oge_a_fl['nzip'] = df_oge_a_fl.zip_cd.apply(lambda x: str(int(x)))\n",
    "\n",
    "# Merge on name and zip\n",
    "dfmz = df_fl_a.merge(df_oge_a_fl, on=['nname', 'nzip'])\n",
    "dfmz[['nname','nzip', 'location_address', 'street_addr_1_txt']].sort('nname').head(10)"
   ]
  },
  {
   "cell_type": "code",
   "execution_count": 7,
   "metadata": {
    "collapsed": false,
    "slideshow": {
     "slide_type": "slide"
    }
   },
   "outputs": [
    {
     "data": {
      "text/html": [
       "<div style=\"max-height:1000px;max-width:1500px;overflow:auto;\">\n",
       "<table border=\"1\" class=\"dataframe\">\n",
       "  <thead>\n",
       "    <tr style=\"text-align: right;\">\n",
       "      <th></th>\n",
       "      <th>nname</th>\n",
       "      <th>nzip</th>\n",
       "      <th>location_address</th>\n",
       "      <th>street_addr_1_txt</th>\n",
       "    </tr>\n",
       "  </thead>\n",
       "  <tbody>\n",
       "    <tr>\n",
       "      <th>17</th>\n",
       "      <td>il bolognese</td>\n",
       "      <td>33139</td>\n",
       "      <td>626 - 630 LINCOLN RD</td>\n",
       "      <td>1052 Ocean Drive</td>\n",
       "    </tr>\n",
       "    <tr>\n",
       "      <th>18</th>\n",
       "      <td>il bolognese</td>\n",
       "      <td>33139</td>\n",
       "      <td>626 - 630 LINCOLN RD</td>\n",
       "      <td>626 Lincoln Rd.</td>\n",
       "    </tr>\n",
       "    <tr>\n",
       "      <th>19</th>\n",
       "      <td>il bolognese</td>\n",
       "      <td>33139</td>\n",
       "      <td>1400 OCEAN DRIVE</td>\n",
       "      <td>1052 Ocean Drive</td>\n",
       "    </tr>\n",
       "    <tr>\n",
       "      <th>20</th>\n",
       "      <td>il bolognese</td>\n",
       "      <td>33139</td>\n",
       "      <td>1400 OCEAN DRIVE</td>\n",
       "      <td>626 Lincoln Rd.</td>\n",
       "    </tr>\n",
       "    <tr>\n",
       "      <th>23</th>\n",
       "      <td>wajiro's restaurant</td>\n",
       "      <td>33184</td>\n",
       "      <td>12670 SW 8 ST</td>\n",
       "      <td>12670 SW 8th Street</td>\n",
       "    </tr>\n",
       "    <tr>\n",
       "      <th>24</th>\n",
       "      <td>wajiro's restaurant</td>\n",
       "      <td>33184</td>\n",
       "      <td>12670 SW 8 ST</td>\n",
       "      <td>12670 S.W. 8 Street</td>\n",
       "    </tr>\n",
       "    <tr>\n",
       "      <th>29</th>\n",
       "      <td>hosteria romana</td>\n",
       "      <td>33139</td>\n",
       "      <td>429 ESPANOLA WAY</td>\n",
       "      <td>429 Espaola Way</td>\n",
       "    </tr>\n",
       "    <tr>\n",
       "      <th>30</th>\n",
       "      <td>hosteria romana</td>\n",
       "      <td>33139</td>\n",
       "      <td>429 ESPANOLA WAY</td>\n",
       "      <td>435 Espanola Way #B</td>\n",
       "    </tr>\n",
       "    <tr>\n",
       "      <th>38</th>\n",
       "      <td>johnny rockets</td>\n",
       "      <td>33172</td>\n",
       "      <td>11401 NW 12 ST #E-508</td>\n",
       "      <td>11401 N W 12th Street</td>\n",
       "    </tr>\n",
       "    <tr>\n",
       "      <th>39</th>\n",
       "      <td>johnny rockets</td>\n",
       "      <td>33172</td>\n",
       "      <td>1455 NW 107 AVE #454 A</td>\n",
       "      <td>11401 N W 12th Street</td>\n",
       "    </tr>\n",
       "  </tbody>\n",
       "</table>\n",
       "</div>"
      ],
      "text/plain": [
       "                  nname   nzip        location_address      street_addr_1_txt\n",
       "17         il bolognese  33139    626 - 630 LINCOLN RD       1052 Ocean Drive\n",
       "18         il bolognese  33139    626 - 630 LINCOLN RD        626 Lincoln Rd.\n",
       "19         il bolognese  33139        1400 OCEAN DRIVE       1052 Ocean Drive\n",
       "20         il bolognese  33139        1400 OCEAN DRIVE        626 Lincoln Rd.\n",
       "23  wajiro's restaurant  33184           12670 SW 8 ST    12670 SW 8th Street\n",
       "24  wajiro's restaurant  33184           12670 SW 8 ST    12670 S.W. 8 Street\n",
       "29      hosteria romana  33139        429 ESPANOLA WAY        429 Espaola Way\n",
       "30      hosteria romana  33139        429 ESPANOLA WAY    435 Espanola Way #B\n",
       "38       johnny rockets  33172   11401 NW 12 ST #E-508  11401 N W 12th Street\n",
       "39       johnny rockets  33172  1455 NW 107 AVE #454 A  11401 N W 12th Street"
      ]
     },
     "execution_count": 7,
     "metadata": {},
     "output_type": "execute_result"
    }
   ],
   "source": [
    "dfmz.groupby(['nname','nzip']).filter(lambda x: len(x['cty_nm']) > 1)[['nname',\n",
    "                                                                      'nzip', \n",
    "                                                                      'location_address', \n",
    "                                                                      'street_addr_1_txt']].head(10)"
   ]
  },
  {
   "cell_type": "code",
   "execution_count": 8,
   "metadata": {
    "collapsed": false,
    "slideshow": {
     "slide_type": "slide"
    }
   },
   "outputs": [
    {
     "data": {
      "text/html": [
       "<div style=\"max-height:1000px;max-width:1500px;overflow:auto;\">\n",
       "<table border=\"1\" class=\"dataframe\">\n",
       "  <thead>\n",
       "    <tr style=\"text-align: right;\">\n",
       "      <th></th>\n",
       "      <th>dba</th>\n",
       "      <th>location_address</th>\n",
       "      <th>location_city</th>\n",
       "      <th>location_zip_code</th>\n",
       "      <th>pzip</th>\n",
       "      <th>patt</th>\n",
       "      <th>nname</th>\n",
       "      <th>nzip</th>\n",
       "    </tr>\n",
       "  </thead>\n",
       "  <tbody>\n",
       "    <tr>\n",
       "      <th>87993</th>\n",
       "      <td>ATLANTIC VENDORS INC</td>\n",
       "      <td>3111 S ATLANTIC AVE</td>\n",
       "      <td>DAYTONA BEACH SHORES</td>\n",
       "      <td>32118</td>\n",
       "      <td>99999</td>\n",
       "      <td>AA</td>\n",
       "      <td>atlantic vendors inc</td>\n",
       "      <td>32118</td>\n",
       "    </tr>\n",
       "    <tr>\n",
       "      <th>87994</th>\n",
       "      <td>ATLANTIC VENDORS INC</td>\n",
       "      <td>2225 S ATLANTIC AVE</td>\n",
       "      <td>DAYTONA BCH SHORES</td>\n",
       "      <td>32118</td>\n",
       "      <td>99999</td>\n",
       "      <td>AA</td>\n",
       "      <td>atlantic vendors inc</td>\n",
       "      <td>32118</td>\n",
       "    </tr>\n",
       "    <tr>\n",
       "      <th>87996</th>\n",
       "      <td>ATLANTIC VENDORS INC</td>\n",
       "      <td>2411 S ATLANTIC AVE</td>\n",
       "      <td>DAYTONA BCH SHORES</td>\n",
       "      <td>32118</td>\n",
       "      <td>99999</td>\n",
       "      <td>AA</td>\n",
       "      <td>atlantic vendors inc</td>\n",
       "      <td>32118</td>\n",
       "    </tr>\n",
       "    <tr>\n",
       "      <th>87997</th>\n",
       "      <td>ATLANTIC VENDORS INC</td>\n",
       "      <td>3125 S ATLANTIC AVE</td>\n",
       "      <td>DAYTONA BCH SHORES</td>\n",
       "      <td>32118</td>\n",
       "      <td>99999</td>\n",
       "      <td>AA</td>\n",
       "      <td>atlantic vendors inc</td>\n",
       "      <td>32118</td>\n",
       "    </tr>\n",
       "    <tr>\n",
       "      <th>87999</th>\n",
       "      <td>ATLANTIC VENDORS INC</td>\n",
       "      <td>400 N ATLANTIC AVE</td>\n",
       "      <td>DAYTONA BCH</td>\n",
       "      <td>32118</td>\n",
       "      <td>99999</td>\n",
       "      <td>AA</td>\n",
       "      <td>atlantic vendors inc</td>\n",
       "      <td>32118</td>\n",
       "    </tr>\n",
       "    <tr>\n",
       "      <th>88045</th>\n",
       "      <td>ATLANTIC VENDORS INC</td>\n",
       "      <td>2209 S ATLANTIC AVE</td>\n",
       "      <td>DAYTONA BCH SHORES</td>\n",
       "      <td>32118</td>\n",
       "      <td>99999</td>\n",
       "      <td>AA</td>\n",
       "      <td>atlantic vendors inc</td>\n",
       "      <td>32118</td>\n",
       "    </tr>\n",
       "    <tr>\n",
       "      <th>88061</th>\n",
       "      <td>ATLANTIC VENDORS INC</td>\n",
       "      <td>2125 S ATLANTIC AVE</td>\n",
       "      <td>DAYTONA BCH</td>\n",
       "      <td>32118</td>\n",
       "      <td>99999</td>\n",
       "      <td>AA</td>\n",
       "      <td>atlantic vendors inc</td>\n",
       "      <td>32118</td>\n",
       "    </tr>\n",
       "    <tr>\n",
       "      <th>88291</th>\n",
       "      <td>ATLANTIC VENDORS INC</td>\n",
       "      <td>2209 S ATLANTIC AVE</td>\n",
       "      <td>DAYTONA BEACH SHORES</td>\n",
       "      <td>32118</td>\n",
       "      <td>99999</td>\n",
       "      <td>AA</td>\n",
       "      <td>atlantic vendors inc</td>\n",
       "      <td>32118</td>\n",
       "    </tr>\n",
       "    <tr>\n",
       "      <th>88474</th>\n",
       "      <td>ATLANTIC VENDORS INC</td>\n",
       "      <td>1615 S ATLANTIC AVE</td>\n",
       "      <td>DAYTONA BEACH</td>\n",
       "      <td>32118</td>\n",
       "      <td>99999</td>\n",
       "      <td>AA</td>\n",
       "      <td>atlantic vendors inc</td>\n",
       "      <td>32118</td>\n",
       "    </tr>\n",
       "    <tr>\n",
       "      <th>88493</th>\n",
       "      <td>ATLANTIC VENDORS INC</td>\n",
       "      <td>2500 N ATLANTIC AVE</td>\n",
       "      <td>DAYTONA BEACH</td>\n",
       "      <td>32118</td>\n",
       "      <td>99999</td>\n",
       "      <td>AA</td>\n",
       "      <td>atlantic vendors inc</td>\n",
       "      <td>32118</td>\n",
       "    </tr>\n",
       "  </tbody>\n",
       "</table>\n",
       "</div>"
      ],
      "text/plain": [
       "                        dba     location_address         location_city  \\\n",
       "87993  ATLANTIC VENDORS INC  3111 S ATLANTIC AVE  DAYTONA BEACH SHORES   \n",
       "87994  ATLANTIC VENDORS INC  2225 S ATLANTIC AVE    DAYTONA BCH SHORES   \n",
       "87996  ATLANTIC VENDORS INC  2411 S ATLANTIC AVE    DAYTONA BCH SHORES   \n",
       "87997  ATLANTIC VENDORS INC  3125 S ATLANTIC AVE    DAYTONA BCH SHORES   \n",
       "87999  ATLANTIC VENDORS INC   400 N ATLANTIC AVE           DAYTONA BCH   \n",
       "88045  ATLANTIC VENDORS INC  2209 S ATLANTIC AVE    DAYTONA BCH SHORES   \n",
       "88061  ATLANTIC VENDORS INC  2125 S ATLANTIC AVE           DAYTONA BCH   \n",
       "88291  ATLANTIC VENDORS INC  2209 S ATLANTIC AVE  DAYTONA BEACH SHORES   \n",
       "88474  ATLANTIC VENDORS INC  1615 S ATLANTIC AVE         DAYTONA BEACH   \n",
       "88493  ATLANTIC VENDORS INC  2500 N ATLANTIC AVE         DAYTONA BEACH   \n",
       "\n",
       "      location_zip_code   pzip patt                 nname   nzip  \n",
       "87993             32118  99999   AA  atlantic vendors inc  32118  \n",
       "87994             32118  99999   AA  atlantic vendors inc  32118  \n",
       "87996             32118  99999   AA  atlantic vendors inc  32118  \n",
       "87997             32118  99999   AA  atlantic vendors inc  32118  \n",
       "87999             32118  99999   AA  atlantic vendors inc  32118  \n",
       "88045             32118  99999   AA  atlantic vendors inc  32118  \n",
       "88061             32118  99999   AA  atlantic vendors inc  32118  \n",
       "88291             32118  99999   AA  atlantic vendors inc  32118  \n",
       "88474             32118  99999   AA  atlantic vendors inc  32118  \n",
       "88493             32118  99999   AA  atlantic vendors inc  32118  "
      ]
     },
     "execution_count": 8,
     "metadata": {},
     "output_type": "execute_result"
    }
   ],
   "source": [
    "df_fl_a.groupby(['nname','nzip']).filter(lambda x: len(x['dba']) > 2).sort('dba').head(10)"
   ]
  },
  {
   "cell_type": "code",
   "execution_count": 9,
   "metadata": {
    "collapsed": false,
    "slideshow": {
     "slide_type": "slide"
    }
   },
   "outputs": [
    {
     "data": {
      "text/html": [
       "<div style=\"max-height:1000px;max-width:1500px;overflow:auto;\">\n",
       "<table border=\"1\" class=\"dataframe\">\n",
       "  <thead>\n",
       "    <tr style=\"text-align: right;\">\n",
       "      <th></th>\n",
       "      <th>dba</th>\n",
       "      <th>location_address</th>\n",
       "      <th>location_city</th>\n",
       "      <th>location_zip_code</th>\n",
       "      <th>pzip_x</th>\n",
       "      <th>patt_x</th>\n",
       "      <th>nname_x</th>\n",
       "      <th>nzip</th>\n",
       "      <th>trade_nm</th>\n",
       "      <th>legal_name</th>\n",
       "      <th>street_addr_1_txt</th>\n",
       "      <th>cty_nm</th>\n",
       "      <th>st_cd</th>\n",
       "      <th>zip_cd</th>\n",
       "      <th>pzip_y</th>\n",
       "      <th>patt_y</th>\n",
       "      <th>nname_y</th>\n",
       "    </tr>\n",
       "  </thead>\n",
       "  <tbody>\n",
       "    <tr>\n",
       "      <th>0</th>\n",
       "      <td>SPS RESTAURANT</td>\n",
       "      <td>1757 NE 2 AVE</td>\n",
       "      <td>MIAMI</td>\n",
       "      <td>331321191</td>\n",
       "      <td>999999999</td>\n",
       "      <td>AA</td>\n",
       "      <td>sps restaurant</td>\n",
       "      <td>33132</td>\n",
       "      <td>KITCHEN TM SYSTEM</td>\n",
       "      <td>TM SYSTEMS LLC</td>\n",
       "      <td>1550 Biscayne Blvd, 3rd Floor</td>\n",
       "      <td>Miami</td>\n",
       "      <td>FL</td>\n",
       "      <td>33132</td>\n",
       "      <td>99999</td>\n",
       "      <td>AA</td>\n",
       "      <td>kitchen tm system</td>\n",
       "    </tr>\n",
       "    <tr>\n",
       "      <th>1</th>\n",
       "      <td>SPS RESTAURANT</td>\n",
       "      <td>1757 NE 2 AVE</td>\n",
       "      <td>MIAMI</td>\n",
       "      <td>331321191</td>\n",
       "      <td>999999999</td>\n",
       "      <td>AA</td>\n",
       "      <td>sps restaurant</td>\n",
       "      <td>33132</td>\n",
       "      <td>The Knife Restaurant (Bayside)</td>\n",
       "      <td>Carma Cinco LLC</td>\n",
       "      <td>401 Biscayne Blvd</td>\n",
       "      <td>Miami</td>\n",
       "      <td>FL</td>\n",
       "      <td>33132</td>\n",
       "      <td>99999</td>\n",
       "      <td>Aa</td>\n",
       "      <td>the knife restaurant (bayside)</td>\n",
       "    </tr>\n",
       "    <tr>\n",
       "      <th>2</th>\n",
       "      <td>SPS RESTAURANT</td>\n",
       "      <td>1757 NE 2 AVE</td>\n",
       "      <td>MIAMI</td>\n",
       "      <td>331321191</td>\n",
       "      <td>999999999</td>\n",
       "      <td>AA</td>\n",
       "      <td>sps restaurant</td>\n",
       "      <td>33132</td>\n",
       "      <td>Latin American Cafeteria at Bayside</td>\n",
       "      <td>LATIN AMERICAN BAYSIDE, INC.</td>\n",
       "      <td>401 Biscayne Blvd.</td>\n",
       "      <td>Miami</td>\n",
       "      <td>FL</td>\n",
       "      <td>33132</td>\n",
       "      <td>99999</td>\n",
       "      <td>Aa</td>\n",
       "      <td>latin american cafeteria at bayside</td>\n",
       "    </tr>\n",
       "    <tr>\n",
       "      <th>3</th>\n",
       "      <td>SPS RESTAURANT</td>\n",
       "      <td>1757 NE 2 AVE</td>\n",
       "      <td>MIAMI</td>\n",
       "      <td>331321191</td>\n",
       "      <td>999999999</td>\n",
       "      <td>AA</td>\n",
       "      <td>sps restaurant</td>\n",
       "      <td>33132</td>\n",
       "      <td>Mar y Tierra</td>\n",
       "      <td>Adrian Mar &amp; Tierra Corp</td>\n",
       "      <td>266 NE 1st Street</td>\n",
       "      <td>Miami</td>\n",
       "      <td>FL</td>\n",
       "      <td>33132</td>\n",
       "      <td>99999</td>\n",
       "      <td>Aa</td>\n",
       "      <td>mar y tierra</td>\n",
       "    </tr>\n",
       "    <tr>\n",
       "      <th>4</th>\n",
       "      <td>SPS RESTAURANT</td>\n",
       "      <td>1757 NE 2 AVE</td>\n",
       "      <td>MIAMI</td>\n",
       "      <td>331321191</td>\n",
       "      <td>999999999</td>\n",
       "      <td>AA</td>\n",
       "      <td>sps restaurant</td>\n",
       "      <td>33132</td>\n",
       "      <td>Miss Yip</td>\n",
       "      <td>Chinese Cafe 900 LLC</td>\n",
       "      <td>900 Biscayne Blvd</td>\n",
       "      <td>Miami</td>\n",
       "      <td>FL</td>\n",
       "      <td>33132</td>\n",
       "      <td>99999</td>\n",
       "      <td>Aa</td>\n",
       "      <td>miss yip</td>\n",
       "    </tr>\n",
       "  </tbody>\n",
       "</table>\n",
       "</div>"
      ],
      "text/plain": [
       "              dba location_address location_city location_zip_code     pzip_x  \\\n",
       "0  SPS RESTAURANT    1757 NE 2 AVE         MIAMI         331321191  999999999   \n",
       "1  SPS RESTAURANT    1757 NE 2 AVE         MIAMI         331321191  999999999   \n",
       "2  SPS RESTAURANT    1757 NE 2 AVE         MIAMI         331321191  999999999   \n",
       "3  SPS RESTAURANT    1757 NE 2 AVE         MIAMI         331321191  999999999   \n",
       "4  SPS RESTAURANT    1757 NE 2 AVE         MIAMI         331321191  999999999   \n",
       "\n",
       "  patt_x         nname_x   nzip                             trade_nm  \\\n",
       "0     AA  sps restaurant  33132                    KITCHEN TM SYSTEM   \n",
       "1     AA  sps restaurant  33132       The Knife Restaurant (Bayside)   \n",
       "2     AA  sps restaurant  33132  Latin American Cafeteria at Bayside   \n",
       "3     AA  sps restaurant  33132                         Mar y Tierra   \n",
       "4     AA  sps restaurant  33132                             Miss Yip   \n",
       "\n",
       "                     legal_name              street_addr_1_txt cty_nm st_cd  \\\n",
       "0                TM SYSTEMS LLC  1550 Biscayne Blvd, 3rd Floor  Miami    FL   \n",
       "1               Carma Cinco LLC              401 Biscayne Blvd  Miami    FL   \n",
       "2  LATIN AMERICAN BAYSIDE, INC.             401 Biscayne Blvd.  Miami    FL   \n",
       "3      Adrian Mar & Tierra Corp              266 NE 1st Street  Miami    FL   \n",
       "4          Chinese Cafe 900 LLC              900 Biscayne Blvd  Miami    FL   \n",
       "\n",
       "   zip_cd pzip_y patt_y                              nname_y  \n",
       "0   33132  99999     AA                    kitchen tm system  \n",
       "1   33132  99999     Aa       the knife restaurant (bayside)  \n",
       "2   33132  99999     Aa  latin american cafeteria at bayside  \n",
       "3   33132  99999     Aa                         mar y tierra  \n",
       "4   33132  99999     Aa                             miss yip  "
      ]
     },
     "execution_count": 9,
     "metadata": {},
     "output_type": "execute_result"
    }
   ],
   "source": [
    "# Merge on name and zip\n",
    "dfz = df_fl_a.merge(df_oge_a_fl, on='nzip')\n",
    "dfz = dfz[dfz.nname_x != dfz.nname_y]\n",
    "dfz.head()"
   ]
  },
  {
   "cell_type": "code",
   "execution_count": 10,
   "metadata": {
    "collapsed": false,
    "slideshow": {
     "slide_type": "slide"
    }
   },
   "outputs": [
    {
     "data": {
      "text/plain": [
       "ed\n",
       "1    139\n",
       "2     70\n",
       "3     87\n",
       "4    276\n",
       "5    651\n",
       "dtype: int64"
      ]
     },
     "execution_count": 10,
     "metadata": {},
     "output_type": "execute_result"
    }
   ],
   "source": [
    "import jellyfish\n",
    "\n",
    "dfz['ed'] = dfz[['nname_x', 'nname_y']].apply(lambda x: jellyfish.levenshtein_distance(x[0],x[1]), axis=1)\n",
    "dfz.groupby('ed').size().head()"
   ]
  },
  {
   "cell_type": "code",
   "execution_count": 11,
   "metadata": {
    "collapsed": false
   },
   "outputs": [
    {
     "data": {
      "text/html": [
       "<div style=\"max-height:1000px;max-width:1500px;overflow:auto;\">\n",
       "<table border=\"1\" class=\"dataframe\">\n",
       "  <thead>\n",
       "    <tr style=\"text-align: right;\">\n",
       "      <th></th>\n",
       "      <th>nname_x</th>\n",
       "      <th>nname_y</th>\n",
       "    </tr>\n",
       "  </thead>\n",
       "  <tbody>\n",
       "    <tr>\n",
       "      <th>3059</th>\n",
       "      <td>prelude by barton g</td>\n",
       "      <td>prelude by garton g</td>\n",
       "    </tr>\n",
       "    <tr>\n",
       "      <th>36412</th>\n",
       "      <td>mcdonalds #6589</td>\n",
       "      <td>mcdonald's #6589</td>\n",
       "    </tr>\n",
       "    <tr>\n",
       "      <th>52831</th>\n",
       "      <td>new cafe</td>\n",
       "      <td>sea cafe</td>\n",
       "    </tr>\n",
       "    <tr>\n",
       "      <th>53484</th>\n",
       "      <td>the palace</td>\n",
       "      <td>the place</td>\n",
       "    </tr>\n",
       "    <tr>\n",
       "      <th>56756</th>\n",
       "      <td>cafe milano</td>\n",
       "      <td>caffe milano</td>\n",
       "    </tr>\n",
       "    <tr>\n",
       "      <th>63884</th>\n",
       "      <td>yuca restaurant</td>\n",
       "      <td>yuca's restaurant</td>\n",
       "    </tr>\n",
       "    <tr>\n",
       "      <th>65200</th>\n",
       "      <td>vino's pizza &amp; brew</td>\n",
       "      <td>gino's pizza &amp; brew</td>\n",
       "    </tr>\n",
       "    <tr>\n",
       "      <th>68380</th>\n",
       "      <td>barton g the restaurant</td>\n",
       "      <td>barton g- the restaurant</td>\n",
       "    </tr>\n",
       "    <tr>\n",
       "      <th>75351</th>\n",
       "      <td>aura restaurant</td>\n",
       "      <td>guru restaurant</td>\n",
       "    </tr>\n",
       "    <tr>\n",
       "      <th>75703</th>\n",
       "      <td>finnegans way</td>\n",
       "      <td>finnegan's way</td>\n",
       "    </tr>\n",
       "  </tbody>\n",
       "</table>\n",
       "</div>"
      ],
      "text/plain": [
       "                       nname_x                   nname_y\n",
       "3059       prelude by barton g       prelude by garton g\n",
       "36412          mcdonalds #6589          mcdonald's #6589\n",
       "52831                 new cafe                  sea cafe\n",
       "53484               the palace                 the place\n",
       "56756              cafe milano              caffe milano\n",
       "63884          yuca restaurant         yuca's restaurant\n",
       "65200      vino's pizza & brew       gino's pizza & brew\n",
       "68380  barton g the restaurant  barton g- the restaurant\n",
       "75351          aura restaurant           guru restaurant\n",
       "75703            finnegans way            finnegan's way"
      ]
     },
     "execution_count": 11,
     "metadata": {},
     "output_type": "execute_result"
    }
   ],
   "source": [
    "dfz[dfz.ed<3][['nname_x', 'nname_y']].head(10)"
   ]
  },
  {
   "cell_type": "markdown",
   "metadata": {
    "slideshow": {
     "slide_type": "slide"
    }
   },
   "source": [
    "## Comparing Fields"
   ]
  },
  {
   "cell_type": "markdown",
   "metadata": {},
   "source": [
    "$$\n",
    "Sim(r_{A}, r_{B})\n",
    "$$\n",
    "\n",
    "In practice we compare against attributes of rA or rB\n",
    "\n",
    "$$\n",
    "Sim(a_{1}, a_{2}..., a_{n}; b_{1}, b_{2}, ..., b_{n}) = [s_{1}(a_{1}, b_{1}), ..., s_{n}(a_{n}, b_{n})]\n",
    "$$\n",
    "\n",
    "So we end up with a comparison vector for each record."
   ]
  },
  {
   "cell_type": "markdown",
   "metadata": {
    "slideshow": {
     "slide_type": "slide"
    }
   },
   "source": [
    "### Preprocessing and Transformation"
   ]
  },
  {
   "cell_type": "markdown",
   "metadata": {},
   "source": [
    "- Simple text transformations: lowerize, remove punctuation\n",
    "- More complex:\n",
    "  - Replace patterns ('&' -> 'and')\n",
    "  - In some situations, remove stop words, use stemming\n",
    "- Standard zip length or format\n",
    "- Imputation\n"
   ]
  },
  {
   "cell_type": "markdown",
   "metadata": {
    "slideshow": {
     "slide_type": "slide"
    }
   },
   "source": [
    "### Approximate String Comparison"
   ]
  },
  {
   "cell_type": "markdown",
   "metadata": {},
   "source": [
    "- NLTK\n",
    "  - Edit distance\n",
    "  - Jaccard distance\n",
    "- Difflib\n",
    "  - SequenceMatcher\n",
    "- Jellyfish\n",
    "  - __Levenshtein__ \n",
    "  - Jaro and __Jaro-Winkler__\n",
    "  - Soundex\n",
    "- FuzzyWuzzy\n",
    "\n",
    "- Token-Based\n",
    "  - __Jaccard similarity__\n",
    "  - __SoftTf-Idf__\n"
   ]
  },
  {
   "cell_type": "markdown",
   "metadata": {
    "slideshow": {
     "slide_type": "slide"
    }
   },
   "source": [
    "### Levenshtein/Edit Distance"
   ]
  },
  {
   "cell_type": "code",
   "execution_count": 12,
   "metadata": {
    "collapsed": false
   },
   "outputs": [
    {
     "name": "stdout",
     "output_type": "stream",
     "text": [
      "1\n",
      "2\n",
      "3\n",
      "4\n"
     ]
    }
   ],
   "source": [
    "from jellyfish import levenshtein_distance\n",
    "print(levenshtein_distance('pydata', 'padata'))    # 1-character change\n",
    "print(levenshtein_distance('pydata', 'pandata'))   # Insert character\n",
    "print(levenshtein_distance('pydata', 'pandasa'))   # 1-character change\n",
    "print(levenshtein_distance('pydata', 'pandas'))    # Character deletion"
   ]
  },
  {
   "cell_type": "markdown",
   "metadata": {
    "slideshow": {
     "slide_type": "slide"
    }
   },
   "source": [
    "### Jaro/Jaro-Winkler"
   ]
  },
  {
   "cell_type": "markdown",
   "metadata": {},
   "source": [
    "$$\n",
    "Jaro(s_{1}, s_{2}) = w_{1}\\frac{c}{L_{1}} + w_{2}\\frac{c}{L_{2}} + w_{t}\\frac{c-\\tau}{c}\n",
    "$$\n",
    "where:\n",
    "$$\n",
    "L_{1} \\mbox{ is length of }s_{1} \\\\\n",
    "L_{2} \\mbox{ is length of }s_{2} \\\\\n",
    "c \\mbox{ is number of characters in common } \\\\\n",
    "\\tau \\mbox{ is number of transpositions } \\\\\n",
    "$$\n",
    "\n",
    "$$\n",
    "JaroWinkler(s_{1}, s_{2}) = Jaro(s_{1}, s_{2}) + 0.1 i(1 - Jaro(s_{1}, s_{2}))\n",
    "$$\n",
    "where:\n",
    "__i__ is min(4, number of initial characters that match)"
   ]
  },
  {
   "cell_type": "markdown",
   "metadata": {
    "slideshow": {
     "slide_type": "slide"
    }
   },
   "source": [
    "### Jaccard"
   ]
  },
  {
   "cell_type": "code",
   "execution_count": 26,
   "metadata": {
    "collapsed": false
   },
   "outputs": [
    {
     "name": "stdout",
     "output_type": "stream",
     "text": [
      "0.42857142857142855\n",
      "0.6666666666666666\n"
     ]
    }
   ],
   "source": [
    "def jaccard(s1, s2):\n",
    "    ''' Jaccard similarity score.  (1 - jaccard) is a valid distance metric '''\n",
    "    a = set(s1)\n",
    "    b = set(s2)\n",
    "    if len(a) == 0 and len(b) == 0:\n",
    "        return 0\n",
    "    return len(a & b) / len(a | b)\n",
    "\n",
    "print(jaccard('pydata', 'pandas'))\n",
    "print(jaccard(['bag', 'of', 'words'], ['words', 'bag']))"
   ]
  },
  {
   "cell_type": "code",
   "execution_count": 27,
   "metadata": {
    "collapsed": false
   },
   "outputs": [
    {
     "name": "stdout",
     "output_type": "stream",
     "text": [
      "0.1111111111111111\n",
      "0.0\n"
     ]
    }
   ],
   "source": [
    "# N-gram function courtesy of Peter Norvig\n",
    "def ngrams(seq, n):\n",
    "    \"List all the (overlapping) ngrams in a sequence.\"\n",
    "    return [seq[i:i+n] for i in range(1+len(seq)-n)]\n",
    "\n",
    "print(jaccard(ngrams('pydata', 2), ngrams('pandas', 2)))\n",
    "print(jaccard(ngrams('pydata', 3), ngrams('pandas', 3)))"
   ]
  },
  {
   "cell_type": "markdown",
   "metadata": {
    "slideshow": {
     "slide_type": "slide"
    }
   },
   "source": [
    "### SoftTf-Idf"
   ]
  },
  {
   "cell_type": "markdown",
   "metadata": {},
   "source": [
    "- _SoftTf-Idf_ is a variation of Tf-Idf (_Term Frequency-Inverse Document Frequency_) that includes similar tokens\n",
    "\n",
    "\n",
    "$$\n",
    "idf(t,D) = log \\frac{|D|}{| d \\in D, t \\in d |}\n",
    "$$\n",
    "\n",
    "-  In the normal Td-Idf scheme only tokens that are the same in two documents matter.\n",
    "\n",
    "$$\n",
    "\\{ sim(w,v) > \\theta | w \\in X, v \\in Y \\} \n",
    "$$\n"
   ]
  },
  {
   "cell_type": "markdown",
   "metadata": {
    "slideshow": {
     "slide_type": "slide"
    }
   },
   "source": [
    "## Human Names"
   ]
  },
  {
   "cell_type": "markdown",
   "metadata": {},
   "source": [
    "|  Name |  Source  |\n",
    "| --- |  --- |\n",
    "| RICHARD ALLAN BREGGER | Finra |\n",
    "| RICHARD A BREGGER | DOL |\n",
    "| BREGGER RICHARD A | DOL |\n",
    "| RICHAPT) A BREGGER | DOL (OCR error) |\n",
    "| RICHARD A BREGGER AXA FINANCIAL | DOL |\n",
    "| RICHARD D BREGGER | DOL |\n",
    "| RICHARDBREGGER | Record Keeper |\n",
    "\n",
    "<img src='bregger.png'>"
   ]
  },
  {
   "cell_type": "markdown",
   "metadata": {
    "slideshow": {
     "slide_type": "slide"
    }
   },
   "source": [
    "### Stupid Human (Name) Tricks"
   ]
  },
  {
   "cell_type": "markdown",
   "metadata": {
    "slideshow": {
     "slide_type": "-"
    }
   },
   "source": [
    "- Almost always want to parse names into (first, middle or MI, last)\n",
    "- Do not use regex\n",
    "- Substituting first names is helpful, but build your own database of alternatives\n",
    "- Do not use regex\n",
    "- As you match, retain alternatives and do look-ups"
   ]
  },
  {
   "cell_type": "markdown",
   "metadata": {
    "slideshow": {
     "slide_type": "slide"
    }
   },
   "source": [
    "### The _nameparser_ library"
   ]
  },
  {
   "cell_type": "code",
   "execution_count": 24,
   "metadata": {
    "collapsed": false
   },
   "outputs": [
    {
     "data": {
      "text/plain": [
       "<HumanName : [\n",
       "\ttitle: 'DR.' \n",
       "\tfirst: 'RICHARD' \n",
       "\tmiddle: 'ALLAN' \n",
       "\tlast: 'BREGGER' \n",
       "\tsuffix: 'Ph.D'\n",
       "\tnickname: 'Rick'\n",
       "]>"
      ]
     },
     "execution_count": 24,
     "metadata": {},
     "output_type": "execute_result"
    }
   ],
   "source": [
    "from nameparser import HumanName\n",
    "\n",
    "HumanName('DR. RICHARD ALLAN \"Rick\" BREGGER, Ph.D')"
   ]
  },
  {
   "cell_type": "code",
   "execution_count": 16,
   "metadata": {
    "collapsed": false,
    "slideshow": {
     "slide_type": "slide"
    }
   },
   "outputs": [
    {
     "data": {
      "text/plain": [
       "<HumanName : [\n",
       "\ttitle: '' \n",
       "\tfirst: 'RICHARD' \n",
       "\tmiddle: 'A' \n",
       "\tlast: 'BREGGER' \n",
       "\tsuffix: ''\n",
       "\tnickname: ''\n",
       "]>"
      ]
     },
     "execution_count": 16,
     "metadata": {},
     "output_type": "execute_result"
    }
   ],
   "source": [
    "HumanName('BREGGER, RICHARD A')"
   ]
  },
  {
   "cell_type": "code",
   "execution_count": 25,
   "metadata": {
    "collapsed": false
   },
   "outputs": [
    {
     "data": {
      "text/plain": [
       "<HumanName : [\n",
       "\ttitle: '' \n",
       "\tfirst: 'BREGGER' \n",
       "\tmiddle: 'RICHARD' \n",
       "\tlast: 'A' \n",
       "\tsuffix: ''\n",
       "\tnickname: ''\n",
       "]>"
      ]
     },
     "execution_count": 25,
     "metadata": {},
     "output_type": "execute_result"
    }
   ],
   "source": [
    "HumanName('BREGGER RICHARD A')"
   ]
  },
  {
   "cell_type": "markdown",
   "metadata": {
    "slideshow": {
     "slide_type": "slide"
    }
   },
   "source": [
    "## Addresses and Geocoding"
   ]
  },
  {
   "cell_type": "markdown",
   "metadata": {},
   "source": [
    "- Addresses are more frequently separated into multiple fields, usually street address, city, state, zip code in the source data.\n",
    "- Zip codes have 3,5, and 9 (Zip+4) variants\n",
    "- Since Zip codes are designed for efficiency of mail delivery, they aren't a consistent indicator of physical proximity.\n",
    "- Different businesses might have identical addresses (aka, \"the food-court syndrome\")"
   ]
  },
  {
   "cell_type": "code",
   "execution_count": 17,
   "metadata": {
    "collapsed": false
   },
   "outputs": [
    {
     "data": {
      "text/html": [
       "<div style=\"max-height:1000px;max-width:1500px;overflow:auto;\">\n",
       "<table border=\"1\" class=\"dataframe\">\n",
       "  <thead>\n",
       "    <tr style=\"text-align: right;\">\n",
       "      <th></th>\n",
       "      <th>dba</th>\n",
       "      <th>location_address</th>\n",
       "      <th>location_city</th>\n",
       "      <th>location_zip_code</th>\n",
       "      <th>pzip</th>\n",
       "      <th>patt</th>\n",
       "      <th>nname</th>\n",
       "      <th>nzip</th>\n",
       "    </tr>\n",
       "  </thead>\n",
       "  <tbody>\n",
       "    <tr>\n",
       "      <th>129483</th>\n",
       "      <td>HOSTED GOURMET</td>\n",
       "      <td>39 S BENEVA RD</td>\n",
       "      <td>SARASOTA</td>\n",
       "      <td>34232</td>\n",
       "      <td>99999</td>\n",
       "      <td>AA</td>\n",
       "      <td>hosted gourmet</td>\n",
       "      <td>34232</td>\n",
       "    </tr>\n",
       "    <tr>\n",
       "      <th>129503</th>\n",
       "      <td>STAMPER CHEESE COMPANY</td>\n",
       "      <td>39 S BENEVA RD</td>\n",
       "      <td>SARASOTA</td>\n",
       "      <td>34232</td>\n",
       "      <td>99999</td>\n",
       "      <td>AA</td>\n",
       "      <td>stamper cheese company</td>\n",
       "      <td>34232</td>\n",
       "    </tr>\n",
       "    <tr>\n",
       "      <th>129507</th>\n",
       "      <td>MOUTHOLE BBQ</td>\n",
       "      <td>39 S BENEVA RD</td>\n",
       "      <td>SARASOTA</td>\n",
       "      <td>34232</td>\n",
       "      <td>99999</td>\n",
       "      <td>AA</td>\n",
       "      <td>mouthole bbq</td>\n",
       "      <td>34232</td>\n",
       "    </tr>\n",
       "    <tr>\n",
       "      <th>129515</th>\n",
       "      <td>PALEO CONNECTION LLC</td>\n",
       "      <td>39 S BENEVA RD</td>\n",
       "      <td>SARASOTA</td>\n",
       "      <td>34232</td>\n",
       "      <td>99999</td>\n",
       "      <td>AA</td>\n",
       "      <td>paleo connection llc</td>\n",
       "      <td>34232</td>\n",
       "    </tr>\n",
       "    <tr>\n",
       "      <th>129516</th>\n",
       "      <td>DOLCE VITA LLC</td>\n",
       "      <td>39 S BENEVA RD</td>\n",
       "      <td>SARASOTA</td>\n",
       "      <td>34232</td>\n",
       "      <td>99999</td>\n",
       "      <td>AA</td>\n",
       "      <td>dolce vita llc</td>\n",
       "      <td>34232</td>\n",
       "    </tr>\n",
       "    <tr>\n",
       "      <th>129517</th>\n",
       "      <td>BRICKS BBQ</td>\n",
       "      <td>39 S BENEVA RD</td>\n",
       "      <td>SARASOTA</td>\n",
       "      <td>34232</td>\n",
       "      <td>99999</td>\n",
       "      <td>AA</td>\n",
       "      <td>bricks bbq</td>\n",
       "      <td>34232</td>\n",
       "    </tr>\n",
       "    <tr>\n",
       "      <th>129521</th>\n",
       "      <td>WINGS ON WHEELS LLC</td>\n",
       "      <td>39 S BENEVA RD</td>\n",
       "      <td>SARASOTA</td>\n",
       "      <td>34232</td>\n",
       "      <td>99999</td>\n",
       "      <td>AA</td>\n",
       "      <td>wings on wheels llc</td>\n",
       "      <td>34232</td>\n",
       "    </tr>\n",
       "    <tr>\n",
       "      <th>130612</th>\n",
       "      <td>MOBILE BISTRO</td>\n",
       "      <td>39 S BENEVA RD</td>\n",
       "      <td>SARASOTA</td>\n",
       "      <td>34240</td>\n",
       "      <td>99999</td>\n",
       "      <td>AA</td>\n",
       "      <td>mobile bistro</td>\n",
       "      <td>34240</td>\n",
       "    </tr>\n",
       "    <tr>\n",
       "      <th>130625</th>\n",
       "      <td>RI QUISIMO</td>\n",
       "      <td>39 S BENEVA RD</td>\n",
       "      <td>SARASOTA</td>\n",
       "      <td>34232</td>\n",
       "      <td>99999</td>\n",
       "      <td>AA</td>\n",
       "      <td>ri quisimo</td>\n",
       "      <td>34232</td>\n",
       "    </tr>\n",
       "  </tbody>\n",
       "</table>\n",
       "</div>"
      ],
      "text/plain": [
       "                           dba location_address location_city  \\\n",
       "129483          HOSTED GOURMET   39 S BENEVA RD      SARASOTA   \n",
       "129503  STAMPER CHEESE COMPANY   39 S BENEVA RD      SARASOTA   \n",
       "129507            MOUTHOLE BBQ   39 S BENEVA RD      SARASOTA   \n",
       "129515    PALEO CONNECTION LLC   39 S BENEVA RD      SARASOTA   \n",
       "129516          DOLCE VITA LLC   39 S BENEVA RD      SARASOTA   \n",
       "129517              BRICKS BBQ   39 S BENEVA RD      SARASOTA   \n",
       "129521     WINGS ON WHEELS LLC   39 S BENEVA RD      SARASOTA   \n",
       "130612           MOBILE BISTRO   39 S BENEVA RD      SARASOTA   \n",
       "130625              RI QUISIMO   39 S BENEVA RD      SARASOTA   \n",
       "\n",
       "       location_zip_code   pzip patt                   nname   nzip  \n",
       "129483             34232  99999   AA          hosted gourmet  34232  \n",
       "129503             34232  99999   AA  stamper cheese company  34232  \n",
       "129507             34232  99999   AA            mouthole bbq  34232  \n",
       "129515             34232  99999   AA    paleo connection llc  34232  \n",
       "129516             34232  99999   AA          dolce vita llc  34232  \n",
       "129517             34232  99999   AA              bricks bbq  34232  \n",
       "129521             34232  99999   AA     wings on wheels llc  34232  \n",
       "130612             34240  99999   AA           mobile bistro  34240  \n",
       "130625             34232  99999   AA              ri quisimo  34232  "
      ]
     },
     "execution_count": 17,
     "metadata": {},
     "output_type": "execute_result"
    }
   ],
   "source": [
    "df_fl_a[df_fl_a.location_address=='39 S BENEVA RD']"
   ]
  },
  {
   "cell_type": "markdown",
   "metadata": {
    "slideshow": {
     "slide_type": "slide"
    }
   },
   "source": [
    "## Blocking"
   ]
  },
  {
   "cell_type": "code",
   "execution_count": 18,
   "metadata": {
    "collapsed": false
   },
   "outputs": [],
   "source": [
    "df_fl_a['k'] = 1\n",
    "df_oge_a_fl['k'] = 1\n",
    "df_block = df_fl_a.sort('nname').iloc[0:100].merge(df_oge_a_fl.sort('nname').iloc[0:100], \n",
    "                                                  on='k')#[['index_x', 'nname_x', 'index_y', 'nname_y']]\n"
   ]
  },
  {
   "cell_type": "markdown",
   "metadata": {
    "slideshow": {
     "slide_type": "slide"
    }
   },
   "source": [
    "## Classifying Matches"
   ]
  },
  {
   "cell_type": "markdown",
   "metadata": {},
   "source": [
    "### Simple Scoring"
   ]
  },
  {
   "cell_type": "markdown",
   "metadata": {},
   "source": [
    "Recall that for each record pair we're supposing that we have a vector where each element of the vector is a comparison of the comparable attributes:\n",
    "$$\n",
    "[s_{1}(a_{1}, b_{1}), ..., s_{n}(a_{n}, b_{n})]\n",
    "$$\n",
    "\n",
    "- Sum the individual scores and set a threshold T1.  Anything > T1 is a match\n",
    "- For bonus points, choose a second threshold T2 so that anything < T2 is a non-match\n",
    "- Any sum between T1 and T2 needs review.\n"
   ]
  },
  {
   "cell_type": "markdown",
   "metadata": {
    "slideshow": {
     "slide_type": "slide"
    }
   },
   "source": [
    "### Rules"
   ]
  },
  {
   "cell_type": "markdown",
   "metadata": {},
   "source": []
  },
  {
   "cell_type": "markdown",
   "metadata": {
    "slideshow": {
     "slide_type": "slide"
    }
   },
   "source": [
    "### Probabilistic Matching (Fellugi-Sunter)"
   ]
  },
  {
   "cell_type": "markdown",
   "metadata": {},
   "source": [
    "Suppose our comparison vector is:\n",
    "\n",
    "$$\n",
    "  \\gamma(r_{A}, r_{B}) = [JaroWinkler(Name_{A}, Name_{B}) > 0.9, (Zip_{A} = Zip_{B}), Levenshtein(StreetNum_{A}, StreetNum_{B}) < 2]\n",
    "$$\n",
    "\n",
    "We'll call this a _comparison vector_ or an _agreement pattern_.  The are 8 separate patterns (2^3) in this case\n"
   ]
  },
  {
   "cell_type": "code",
   "execution_count": 19,
   "metadata": {
    "collapsed": false
   },
   "outputs": [
    {
     "data": {
      "text/html": [
       "<div style=\"max-height:1000px;max-width:1500px;overflow:auto;\">\n",
       "<table border=\"1\" class=\"dataframe\">\n",
       "  <thead>\n",
       "    <tr style=\"text-align: right;\">\n",
       "      <th></th>\n",
       "      <th>name</th>\n",
       "      <th>zip</th>\n",
       "      <th>street num</th>\n",
       "    </tr>\n",
       "  </thead>\n",
       "  <tbody>\n",
       "    <tr>\n",
       "      <th>0</th>\n",
       "      <td>match</td>\n",
       "      <td>match</td>\n",
       "      <td>match</td>\n",
       "    </tr>\n",
       "    <tr>\n",
       "      <th>1</th>\n",
       "      <td>match</td>\n",
       "      <td>match</td>\n",
       "      <td>unmatch</td>\n",
       "    </tr>\n",
       "    <tr>\n",
       "      <th>2</th>\n",
       "      <td>match</td>\n",
       "      <td>unmatch</td>\n",
       "      <td>match</td>\n",
       "    </tr>\n",
       "    <tr>\n",
       "      <th>3</th>\n",
       "      <td>match</td>\n",
       "      <td>unmatch</td>\n",
       "      <td>unmatch</td>\n",
       "    </tr>\n",
       "    <tr>\n",
       "      <th>4</th>\n",
       "      <td>unmatch</td>\n",
       "      <td>match</td>\n",
       "      <td>match</td>\n",
       "    </tr>\n",
       "    <tr>\n",
       "      <th>5</th>\n",
       "      <td>unmatch</td>\n",
       "      <td>match</td>\n",
       "      <td>unmatch</td>\n",
       "    </tr>\n",
       "    <tr>\n",
       "      <th>6</th>\n",
       "      <td>unmatch</td>\n",
       "      <td>unmatch</td>\n",
       "      <td>match</td>\n",
       "    </tr>\n",
       "    <tr>\n",
       "      <th>7</th>\n",
       "      <td>unmatch</td>\n",
       "      <td>unmatch</td>\n",
       "      <td>unmatch</td>\n",
       "    </tr>\n",
       "  </tbody>\n",
       "</table>\n",
       "</div>"
      ],
      "text/plain": [
       "      name      zip street num\n",
       "0    match    match      match\n",
       "1    match    match    unmatch\n",
       "2    match  unmatch      match\n",
       "3    match  unmatch    unmatch\n",
       "4  unmatch    match      match\n",
       "5  unmatch    match    unmatch\n",
       "6  unmatch  unmatch      match\n",
       "7  unmatch  unmatch    unmatch"
      ]
     },
     "execution_count": 19,
     "metadata": {},
     "output_type": "execute_result"
    }
   ],
   "source": [
    "import itertools\n",
    "pd.DataFrame(data=list(itertools.product(['match','unmatch'], repeat=3)),\n",
    "             columns=['name', 'zip', 'street num'])"
   ]
  },
  {
   "cell_type": "markdown",
   "metadata": {
    "slideshow": {
     "slide_type": "slide"
    }
   },
   "source": [
    "The method then defines the following two conditonal probabilities:\n",
    "\n",
    "$$\n",
    "\\begin{align}\n",
    "m(\\gamma) = P[\\gamma(r_{A}, r_{B})| (r_{A}, r_{B}) \\in M] \\\\\n",
    "= \\sum_{a,b \\in M} P[\\gamma(r_{A},r_{B})]P[(r_{A}, r_{B}) \\in M]\n",
    "\\end{align}\n",
    "$$\n",
    "and\n",
    "$$\n",
    "\\begin{align}\n",
    "u(\\gamma) = P[\\gamma(r_{A}, r_{B})| (r_{A}, r_{B}) \\in U] \\\\\n",
    "= \\sum_{a,b \\in U} P[\\gamma(r_{A},r_{B}]P[(r_{A}, r_{B}) \\in U]\n",
    "\\end{align}\n",
    "$$\n"
   ]
  },
  {
   "cell_type": "markdown",
   "metadata": {
    "slideshow": {
     "slide_type": "slide"
    }
   },
   "source": [
    "The Fellegi-Sunter method results in a _linkage rule_:\n",
    "\n",
    "$$\n",
    "\t\\begin{array}{ll}\n",
    "\t\t\\frac{m}{u} > T_{\\mu}  & \\mbox{match}  \\\\\n",
    "        T_{\\mu} < \\frac{m}{u} < T_{\\lambda}  & \\mbox{potential match}  \\\\\n",
    "\t\t\\frac{m}{u} < T_{\\lambda}  & \\mbox{non-match}  \\\\\n",
    "\t\\end{array}\n",
    "$$\n"
   ]
  },
  {
   "cell_type": "markdown",
   "metadata": {
    "slideshow": {
     "slide_type": "slide"
    }
   },
   "source": [
    "But Wait!\n",
    "\n",
    "- By definition we don't know which records are in M and which are in U\n",
    "- In some cases __m/u__ can be estimated, and then progressively refined.\n",
    "- Most general method is Expectation-Maximization algorithm"
   ]
  },
  {
   "cell_type": "markdown",
   "metadata": {},
   "source": [
    "- Assume distribution of patterns is a mixture of distributions, with parameters:\n",
    "\n",
    "$$\n",
    "\\Phi = ((m_{1}\\dots m_{k}), (u_{1}\\dots u_{k}), p)\n",
    "$$\n",
    "\n",
    "- Also assume there is a _latent variable_ __g__ that determines whether a record pair is in __M__ or __U__.  Then the likelihood function for the data we have is:\n",
    "\n",
    "\n",
    "$$\n",
    "f(g,\\gamma; \\Phi) = \\prod_{j=1}({pP(\\gamma_{j}|r_{j} \\in M))^g((1-p)P(\\gamma_{j}|r_{j} \\in U)})^{(1-g)}\n",
    "$$\n"
   ]
  },
  {
   "cell_type": "markdown",
   "metadata": {
    "slideshow": {
     "slide_type": "slide"
    }
   },
   "source": [
    "### Supervised Learning"
   ]
  },
  {
   "cell_type": "markdown",
   "metadata": {},
   "source": [
    "- Requires training data where matches/non-matches are already known\n",
    "- Always imbalanced since there are many more non-matches than matches"
   ]
  },
  {
   "cell_type": "code",
   "execution_count": 20,
   "metadata": {
    "collapsed": false
   },
   "outputs": [
    {
     "name": "stdout",
     "output_type": "stream",
     "text": [
      "0.998106060606\n"
     ]
    }
   ],
   "source": [
    "import numpy as np\n",
    "from sklearn.cross_validation import KFold\n",
    "from sklearn.ensemble import RandomForestClassifier\n",
    "\n",
    "df_matches = pd.read_csv('./data/matches.csv')\n",
    "\n",
    "df_matches['snum_dist'] = df_matches[['snum_x', 'snum_y']].apply(lambda s: levenshtein_distance(str(s[0]), str(s[1])),\n",
    "                                                                 axis=1)\n",
    "df_matches['city_sim'] = df_matches[['cty_nm', 'location_city']].apply(lambda c: jaccard( ngrams(c[0].lower(),2),\n",
    "                                                                                          ngrams(c[1].lower(),2)),\n",
    "                                                                      axis=1)\n",
    "df_matched = df_matches[df_matches.match==1]\n",
    "df_unmatched = df_matches[df_matches.match==0]\n",
    "df_bal = pd.concat( [df_matched, \n",
    "                     df_unmatched.sample(len(df_matched)) ] ).reset_index()\n",
    "\n",
    "y = df_bal.match\n",
    "X = df_bal[['jw', 'snum_dist', 'city_sim']].as_matrix()\n",
    "\n",
    "kf = KFold(len(y),n_folds=5,shuffle=True)\n",
    "y_pred = y.copy()\n",
    "\n",
    "clf = RandomForestClassifier()\n",
    "\n",
    "# Iterate through folds\n",
    "for train_index, test_index in kf:\n",
    "    X_train, X_test = X[train_index], X[test_index]\n",
    "    y_train = y[train_index]\n",
    "    # Initialize a classifier with key word arguments\n",
    "\n",
    "    clf.fit(X_train,y_train)\n",
    "    y_pred[test_index] = clf.predict(X_test)\n",
    "\n",
    "print(np.mean(y == y_pred))"
   ]
  },
  {
   "cell_type": "code",
   "execution_count": null,
   "metadata": {
    "collapsed": true
   },
   "outputs": [],
   "source": []
  }
 ],
 "metadata": {
  "celltoolbar": "Slideshow",
  "kernelspec": {
   "display_name": "Python 3",
   "language": "python",
   "name": "python3"
  },
  "language_info": {
   "codemirror_mode": {
    "name": "ipython",
    "version": 3
   },
   "file_extension": ".py",
   "mimetype": "text/x-python",
   "name": "python",
   "nbconvert_exporter": "python",
   "pygments_lexer": "ipython3",
   "version": "3.4.2"
  }
 },
 "nbformat": 4,
 "nbformat_minor": 0
}
