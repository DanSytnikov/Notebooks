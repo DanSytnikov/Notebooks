{
 "metadata": {
  "name": "",
  "signature": "sha256:a0a2d5f4a26a35d34f554a1d131112f16c1be85626c6f16ac1efdc1ca6603fbc"
 },
 "nbformat": 3,
 "nbformat_minor": 0,
 "worksheets": [
  {
   "cells": [
    {
     "cell_type": "heading",
     "level": 1,
     "metadata": {},
     "source": [
      "Match _All_ The Things"
     ]
    },
    {
     "cell_type": "markdown",
     "metadata": {},
     "source": [
      "If you work in the data business, you'll eventually find yourself trying to make an approximate match from one data source to another.  This comes in at least three flavors: _searching_, where a user-supplied name is matched against a database (for example, auto-complete); _joining_ or [_record linkage_](http://en.wikipedia.org/wiki/Record_linkage), where you're trying to join datasets like you would with a relational join except based on an approximate criteria; and _clustering_, where you're trying to group items based on similarity.\n",
      "\n",
      "Of course these tasks are often performed with a SQL database or some other information retrieval system (eg, Solr). But there are situations where we need something slightly different than the normal database management system, or we just want something simpler that doesn't require a separate deployment."
     ]
    },
    {
     "cell_type": "markdown",
     "metadata": {},
     "source": [
      "Table of Contents\n",
      "\n",
      "1. [Basic Python](#Basic-Python)\n",
      "2. String Similarity and Distance\n",
      "  1. Jaccard\n",
      "  2. TF/IDF\n",
      "3. [N-Grams/Shingling](#NGrams/Shingling)\n",
      "4. Minhash\n",
      "5. Locality-Sensitive Hashing\n",
      "6. Human Names\n",
      "6. Nearest-Neighbor\n",
      "  1. kd-Trees\n",
      "6. Pairwise alignmen/Needleman-Wunsch\n",
      "6. Entropy, Mutual Information, Kulbach-Liebler\n",
      "6. Gayle-Shapley\n",
      "6. Radix Tree/Patricia Trie\n",
      "6. Entity Recognition/CRF"
     ]
    },
    {
     "cell_type": "heading",
     "level": 2,
     "metadata": {},
     "source": [
      "Basic Python"
     ]
    },
    {
     "cell_type": "markdown",
     "metadata": {},
     "source": [
      "First, don't forget that you can do many string matching operations with basic Python functions."
     ]
    },
    {
     "cell_type": "code",
     "collapsed": false,
     "input": [
      "string1 = u'Acme Traffic Signal Company'\n",
      "string2 = u'Acme Traffic Signal Co.'\n",
      "string3 = u'ACME TRAFFIC SIGNAL COMPANY'\n",
      "string4 = u'Acme Rocket Powered Products'\n",
      "strings = [string1, string2, string3, string4]\n",
      "\n",
      "print(string1 == string2)\n",
      "print(string1[:20] == string2[:20])\n",
      "print(string1.lower() == string3.lower())\n",
      "print(string2.find('Signal'))\n",
      "print(string2.index('Signal'))\n",
      "print [s for s in strings if s.startswith('Acme')]\n",
      "print [s for s in strings if 'traffic' in s.lower()]"
     ],
     "language": "python",
     "metadata": {},
     "outputs": [
      {
       "output_type": "stream",
       "stream": "stdout",
       "text": [
        "False\n",
        "True\n",
        "True\n",
        "13\n",
        "13\n",
        "[u'Acme Traffic Signal Company', u'Acme Traffic Signal Co.', u'Acme Rocket Powered Products']\n",
        "[u'Acme Traffic Signal Company', u'Acme Traffic Signal Co.', u'ACME TRAFFIC SIGNAL COMPANY']\n"
       ]
      }
     ],
     "prompt_number": 33
    },
    {
     "cell_type": "markdown",
     "metadata": {},
     "source": [
      "You can also do \"wildcard\" matches using the Python regular expression module:"
     ]
    },
    {
     "cell_type": "code",
     "collapsed": false,
     "input": [
      "import re\n",
      "\n",
      "[s for s in strings if re.search('Acme.*Signal', s)]"
     ],
     "language": "python",
     "metadata": {},
     "outputs": [
      {
       "metadata": {},
       "output_type": "pyout",
       "prompt_number": 34,
       "text": [
        "[u'Acme Traffic Signal Company', u'Acme Traffic Signal Co.']"
       ]
      }
     ],
     "prompt_number": 34
    },
    {
     "cell_type": "heading",
     "level": 2,
     "metadata": {},
     "source": [
      "String Similarity and Distance"
     ]
    },
    {
     "cell_type": "markdown",
     "metadata": {},
     "source": [
      "Another under-appreciated Python module is difflib.  Although its primary use is generating diff-like comparisons of documents, it also has some useful and interesting matching functionality.  The _get_close_matches_ function is a quick way to find near matches:"
     ]
    },
    {
     "cell_type": "code",
     "collapsed": false,
     "input": [
      "import difflib\n",
      "\n",
      "print(difflib.get_close_matches('Acme Rocket-Powered Inc.', strings))"
     ],
     "language": "python",
     "metadata": {},
     "outputs": [
      {
       "output_type": "stream",
       "stream": "stdout",
       "text": [
        "[u'Acme Rocket Powered Products']\n"
       ]
      }
     ],
     "prompt_number": 35
    },
    {
     "cell_type": "markdown",
     "metadata": {},
     "source": [
      "And the difflib SequenceMatcher can generate a score that indicates how well two sequences match (note that the sequences don't necessarily have to be strings).  "
     ]
    },
    {
     "cell_type": "code",
     "collapsed": false,
     "input": [
      "sm = difflib.SequenceMatcher()\n",
      "sm.set_seq1('Acme Rocket-Powered Inc.')\n",
      "for s in strings:\n",
      "    sm.set_seq2(s)\n",
      "    print(s, sm.ratio())"
     ],
     "language": "python",
     "metadata": {},
     "outputs": [
      {
       "output_type": "stream",
       "stream": "stdout",
       "text": [
        "(u'Acme Traffic Signal Company', 0.27450980392156865)\n",
        "(u'Acme Traffic Signal Co.', 0.2978723404255319)\n",
        "(u'ACME TRAFFIC SIGNAL COMPANY', 0.1568627450980392)\n",
        "(u'Acme Rocket Powered Products', 0.7692307692307693)\n"
       ]
      }
     ],
     "prompt_number": 36
    },
    {
     "cell_type": "markdown",
     "metadata": {},
     "source": [
      "There are in fact a huge number of different metrics for measuring the similarity of, or distance between, two text strings.  This [Wikipedia article](http://en.wikipedia.org/wiki/String_metric) lists no fewer than 18.  Probably the best know is the Levenshtein distance, sometimes just called the edit distance, which is simply a count of the 1-character edits you'd have to make to turn one string into another.\n",
      "\n",
      "Finding similarity between strings is a subset of the field of natural language processing, so not surprisingly there are many string metrics in the well-known Python [Natural Language Toolkit (NLTK)](http://www.nltk.org/_modules/nltk/metrics/distance.html).  The jellyfish package in another Python library that has numerous string metrics.  Here we will focus on two metrics, the Levenshtein distance and the Jaro distance :"
     ]
    },
    {
     "cell_type": "code",
     "collapsed": false,
     "input": [
      "import jellyfish\n",
      "\n",
      "print jellyfish.levenshtein_distance(string1, string2)\n",
      "print jellyfish.jaro_distance(string1, string2)"
     ],
     "language": "python",
     "metadata": {},
     "outputs": [
      {
       "output_type": "stream",
       "stream": "stdout",
       "text": [
        "5\n",
        "0.923778851315\n"
       ]
      }
     ],
     "prompt_number": 37
    },
    {
     "cell_type": "markdown",
     "metadata": {},
     "source": [
      "The term _distance_ or _metric_ is sometimes used informally for any value that measures the similarity of strings, but there's formal definition for a distance metric\n",
      "\n",
      "- d(a, a) = 0\n",
      "- d(a, b) \u2265 0\n",
      "- d(a, b) = d(b, a)\n",
      "- d(a, c) \u2264 d(a, b) + d(b, c)  #  The \"triangle inequality\n",
      "\n",
      "The Levenshtein distance does follow these rules:"
     ]
    },
    {
     "cell_type": "code",
     "collapsed": false,
     "input": [
      "d = jellyfish.levenshtein_distance\n",
      "print d(string1, string1) == 0\n",
      "print d(string1, string2) >= 0\n",
      "print d(string1, string2) == d(string2, string1)\n",
      "print d(string1, string2) <= d(string1,  u'Signal Co.') + d(string2, u'Signal Co.')"
     ],
     "language": "python",
     "metadata": {},
     "outputs": [
      {
       "output_type": "stream",
       "stream": "stdout",
       "text": [
        "True\n",
        "True\n",
        "True\n",
        "True\n"
       ]
      }
     ],
     "prompt_number": 74
    },
    {
     "cell_type": "markdown",
     "metadata": {},
     "source": [
      "However, the Jaro distance doesn't, mainly because the Jaro distance as implemented here is actually a similarity metric, that is, two identical strings have the maximum score (here 1.0) rather than 0.0."
     ]
    },
    {
     "cell_type": "code",
     "collapsed": false,
     "input": [
      "d = jellyfish.jaro_distance\n",
      "print d(string1, string1) == 0\n",
      "print d(string1, string2) >= 0\n",
      "print d(string1, string2) == d(string2, string1)\n",
      "print d(string1, string2) <= d(string1,  u'Signal Co.') + d(string2, u'Signal Co.')"
     ],
     "language": "python",
     "metadata": {},
     "outputs": [
      {
       "output_type": "stream",
       "stream": "stdout",
       "text": [
        "False\n",
        "True\n",
        "True\n",
        "False\n"
       ]
      }
     ],
     "prompt_number": 80
    },
    {
     "cell_type": "heading",
     "level": 3,
     "metadata": {},
     "source": [
      "Jaccard Similarity"
     ]
    },
    {
     "cell_type": "markdown",
     "metadata": {},
     "source": [
      "Jaccard similarity is simply defined as the length of the intersection of two sets divided by the length of the union of the two sets."
     ]
    },
    {
     "cell_type": "code",
     "collapsed": false,
     "input": [
      "from __future__ import division\n",
      "\n",
      "def jaccard_similarity(a, b):\n",
      "    x = set(a)\n",
      "    y = set(b)\n",
      "    return len(x & y) / len(x | y)\n",
      "\n",
      "jaccard_similarity(string1, string2)"
     ],
     "language": "python",
     "metadata": {},
     "outputs": [
      {
       "metadata": {},
       "output_type": "pyout",
       "prompt_number": 40,
       "text": [
        "0.8421052631578947"
       ]
      }
     ],
     "prompt_number": 40
    },
    {
     "cell_type": "markdown",
     "metadata": {},
     "source": [
      "The definition of the Jaccard similarity gives it interesting properties that aren't necessarily true of the string similarity measures we seen so far.  First, the _order_ of the characters in the two strings does not matter since they are treated as sets, and second extra copies of the same elements in one of the sets have no effect:"
     ]
    },
    {
     "cell_type": "code",
     "collapsed": false,
     "input": [
      "print(jaccard_similarity('abcdef', 'abcdef'), \n",
      "      jaccard_similarity('abcdef', 'cbfaed'), \n",
      "      jaccard_similarity('abcdef', 'cbfaedcbfaed') )\n",
      "print(jellyfish.jaro_distance(u'abcdef', u'abcdef'), \n",
      "      jellyfish.jaro_distance(u'abcdef', u'cbfaed'), \n",
      "      jellyfish.jaro_distance(u'abcdef', u'cbfaedcbfaed') )"
     ],
     "language": "python",
     "metadata": {},
     "outputs": [
      {
       "output_type": "stream",
       "stream": "stdout",
       "text": [
        "(1.0, 1.0, 1.0)\n",
        "(1.0, 0.611111111111111, 0.7222222222222222)\n"
       ]
      }
     ],
     "prompt_number": 77
    },
    {
     "cell_type": "markdown",
     "metadata": {},
     "source": [
      "Third, Jaccard similarity can be easily applied to non-text data since it operates on sets.  This will turn out to be handy later:"
     ]
    },
    {
     "cell_type": "code",
     "collapsed": false,
     "input": [
      "print(jaccard_similarity([2,3,4,5], [3,5]))\n",
      "print(jaccard_similarity([\"bag\",\"of\",\"words\"], [\"words\",\"bag\"]))"
     ],
     "language": "python",
     "metadata": {},
     "outputs": [
      {
       "output_type": "stream",
       "stream": "stdout",
       "text": [
        "0.5\n",
        "0.666666666667\n"
       ]
      }
     ],
     "prompt_number": 152
    },
    {
     "cell_type": "markdown",
     "metadata": {},
     "source": [
      "Jaccard similarity can also be turned into a proper distance metric just by subtracting it from 1:"
     ]
    },
    {
     "cell_type": "code",
     "collapsed": false,
     "input": [
      "def jaccard_distance(a, b): return 1 - jaccard_similarity(a, b)\n",
      "print(jaccard_distance(string1, string2))\n",
      "print(jaccard_distance('abcdef', 'cbfaed'))"
     ],
     "language": "python",
     "metadata": {},
     "outputs": [
      {
       "output_type": "stream",
       "stream": "stdout",
       "text": [
        "0.157894736842\n",
        "0.0\n"
       ]
      }
     ],
     "prompt_number": 43
    },
    {
     "cell_type": "markdown",
     "metadata": {},
     "source": [
      "The best metric to use depends on the application.  Many of the string similarity metrics are based on the idea that small differences are introduced into entity names, probably because of human error.  These metrics are good at finding similar strings with transpositions, misspellings, added or deleted characters, or abbreviations.  On the other hand, something like Jaccard similarity would be better where the sequence is less important than the content or topic.   "
     ]
    },
    {
     "cell_type": "code",
     "collapsed": false,
     "input": [
      "names = [u'FRANKLIN LTD DURATION INCOME TRUST',\n",
      "         u'FRANKLIN TEMPLETON LIMITED DURATION INCOME TRUST',\n",
      "         u'FRANKLIN TEMPLETON LTD DURATION INCOME TRUST',\n",
      "         u'FRANKLIN TEMPLETON STRATEGIC INCOME TRUST ']\n",
      "\n",
      "similarities = [(n1,n2, jellyfish.levenshtein_distance(n1,n2), jellyfish.jaro_distance(n1,n2), jaccard_similarity(n1,n2))\n",
      "              for n1 in names for n2 in names]\n",
      "        \n",
      "import pandas as pd\n",
      "df = pd.DataFrame(similarities)\n",
      "df.columns = ['n1', 'n2', 'Levenshtein', 'Jaro', 'Jaccard']\n",
      "df"
     ],
     "language": "python",
     "metadata": {},
     "outputs": [
      {
       "html": [
        "<div style=\"max-height:1000px;max-width:1500px;overflow:auto;\">\n",
        "<table border=\"1\" class=\"dataframe\">\n",
        "  <thead>\n",
        "    <tr style=\"text-align: right;\">\n",
        "      <th></th>\n",
        "      <th>n1</th>\n",
        "      <th>n2</th>\n",
        "      <th>Levenshtein</th>\n",
        "      <th>Jaro</th>\n",
        "      <th>Jaccard</th>\n",
        "    </tr>\n",
        "  </thead>\n",
        "  <tbody>\n",
        "    <tr>\n",
        "      <th>0 </th>\n",
        "      <td>               FRANKLIN LTD DURATION INCOME TRUST</td>\n",
        "      <td>               FRANKLIN LTD DURATION INCOME TRUST</td>\n",
        "      <td>  0</td>\n",
        "      <td> 1.000000</td>\n",
        "      <td> 1.000000</td>\n",
        "    </tr>\n",
        "    <tr>\n",
        "      <th>1 </th>\n",
        "      <td>               FRANKLIN LTD DURATION INCOME TRUST</td>\n",
        "      <td> FRANKLIN TEMPLETON LIMITED DURATION INCOME TRUST</td>\n",
        "      <td> 14</td>\n",
        "      <td> 0.794935</td>\n",
        "      <td> 0.941176</td>\n",
        "    </tr>\n",
        "    <tr>\n",
        "      <th>2 </th>\n",
        "      <td>               FRANKLIN LTD DURATION INCOME TRUST</td>\n",
        "      <td>     FRANKLIN TEMPLETON LTD DURATION INCOME TRUST</td>\n",
        "      <td> 10</td>\n",
        "      <td> 0.816399</td>\n",
        "      <td> 0.941176</td>\n",
        "    </tr>\n",
        "    <tr>\n",
        "      <th>3 </th>\n",
        "      <td>               FRANKLIN LTD DURATION INCOME TRUST</td>\n",
        "      <td>       FRANKLIN TEMPLETON STRATEGIC INCOME TRUST </td>\n",
        "      <td> 14</td>\n",
        "      <td> 0.765007</td>\n",
        "      <td> 0.833333</td>\n",
        "    </tr>\n",
        "    <tr>\n",
        "      <th>4 </th>\n",
        "      <td> FRANKLIN TEMPLETON LIMITED DURATION INCOME TRUST</td>\n",
        "      <td>               FRANKLIN LTD DURATION INCOME TRUST</td>\n",
        "      <td> 14</td>\n",
        "      <td> 0.794935</td>\n",
        "      <td> 0.941176</td>\n",
        "    </tr>\n",
        "    <tr>\n",
        "      <th>5 </th>\n",
        "      <td> FRANKLIN TEMPLETON LIMITED DURATION INCOME TRUST</td>\n",
        "      <td> FRANKLIN TEMPLETON LIMITED DURATION INCOME TRUST</td>\n",
        "      <td>  0</td>\n",
        "      <td> 1.000000</td>\n",
        "      <td> 1.000000</td>\n",
        "    </tr>\n",
        "    <tr>\n",
        "      <th>6 </th>\n",
        "      <td> FRANKLIN TEMPLETON LIMITED DURATION INCOME TRUST</td>\n",
        "      <td>     FRANKLIN TEMPLETON LTD DURATION INCOME TRUST</td>\n",
        "      <td>  4</td>\n",
        "      <td> 0.911616</td>\n",
        "      <td> 1.000000</td>\n",
        "    </tr>\n",
        "    <tr>\n",
        "      <th>7 </th>\n",
        "      <td> FRANKLIN TEMPLETON LIMITED DURATION INCOME TRUST</td>\n",
        "      <td>       FRANKLIN TEMPLETON STRATEGIC INCOME TRUST </td>\n",
        "      <td> 14</td>\n",
        "      <td> 0.845314</td>\n",
        "      <td> 0.888889</td>\n",
        "    </tr>\n",
        "    <tr>\n",
        "      <th>8 </th>\n",
        "      <td>     FRANKLIN TEMPLETON LTD DURATION INCOME TRUST</td>\n",
        "      <td>               FRANKLIN LTD DURATION INCOME TRUST</td>\n",
        "      <td> 10</td>\n",
        "      <td> 0.816399</td>\n",
        "      <td> 0.941176</td>\n",
        "    </tr>\n",
        "    <tr>\n",
        "      <th>9 </th>\n",
        "      <td>     FRANKLIN TEMPLETON LTD DURATION INCOME TRUST</td>\n",
        "      <td> FRANKLIN TEMPLETON LIMITED DURATION INCOME TRUST</td>\n",
        "      <td>  4</td>\n",
        "      <td> 0.911616</td>\n",
        "      <td> 1.000000</td>\n",
        "    </tr>\n",
        "    <tr>\n",
        "      <th>10</th>\n",
        "      <td>     FRANKLIN TEMPLETON LTD DURATION INCOME TRUST</td>\n",
        "      <td>     FRANKLIN TEMPLETON LTD DURATION INCOME TRUST</td>\n",
        "      <td>  0</td>\n",
        "      <td> 1.000000</td>\n",
        "      <td> 1.000000</td>\n",
        "    </tr>\n",
        "    <tr>\n",
        "      <th>11</th>\n",
        "      <td>     FRANKLIN TEMPLETON LTD DURATION INCOME TRUST</td>\n",
        "      <td>       FRANKLIN TEMPLETON STRATEGIC INCOME TRUST </td>\n",
        "      <td> 10</td>\n",
        "      <td> 0.843852</td>\n",
        "      <td> 0.888889</td>\n",
        "    </tr>\n",
        "    <tr>\n",
        "      <th>12</th>\n",
        "      <td>       FRANKLIN TEMPLETON STRATEGIC INCOME TRUST </td>\n",
        "      <td>               FRANKLIN LTD DURATION INCOME TRUST</td>\n",
        "      <td> 14</td>\n",
        "      <td> 0.765007</td>\n",
        "      <td> 0.833333</td>\n",
        "    </tr>\n",
        "    <tr>\n",
        "      <th>13</th>\n",
        "      <td>       FRANKLIN TEMPLETON STRATEGIC INCOME TRUST </td>\n",
        "      <td> FRANKLIN TEMPLETON LIMITED DURATION INCOME TRUST</td>\n",
        "      <td> 14</td>\n",
        "      <td> 0.845314</td>\n",
        "      <td> 0.888889</td>\n",
        "    </tr>\n",
        "    <tr>\n",
        "      <th>14</th>\n",
        "      <td>       FRANKLIN TEMPLETON STRATEGIC INCOME TRUST </td>\n",
        "      <td>     FRANKLIN TEMPLETON LTD DURATION INCOME TRUST</td>\n",
        "      <td> 10</td>\n",
        "      <td> 0.843852</td>\n",
        "      <td> 0.888889</td>\n",
        "    </tr>\n",
        "    <tr>\n",
        "      <th>15</th>\n",
        "      <td>       FRANKLIN TEMPLETON STRATEGIC INCOME TRUST </td>\n",
        "      <td>       FRANKLIN TEMPLETON STRATEGIC INCOME TRUST </td>\n",
        "      <td>  0</td>\n",
        "      <td> 1.000000</td>\n",
        "      <td> 1.000000</td>\n",
        "    </tr>\n",
        "  </tbody>\n",
        "</table>\n",
        "</div>"
       ],
       "metadata": {},
       "output_type": "pyout",
       "prompt_number": 78,
       "text": [
        "                                                  n1  \\\n",
        "0                 FRANKLIN LTD DURATION INCOME TRUST   \n",
        "1                 FRANKLIN LTD DURATION INCOME TRUST   \n",
        "2                 FRANKLIN LTD DURATION INCOME TRUST   \n",
        "3                 FRANKLIN LTD DURATION INCOME TRUST   \n",
        "4   FRANKLIN TEMPLETON LIMITED DURATION INCOME TRUST   \n",
        "5   FRANKLIN TEMPLETON LIMITED DURATION INCOME TRUST   \n",
        "6   FRANKLIN TEMPLETON LIMITED DURATION INCOME TRUST   \n",
        "7   FRANKLIN TEMPLETON LIMITED DURATION INCOME TRUST   \n",
        "8       FRANKLIN TEMPLETON LTD DURATION INCOME TRUST   \n",
        "9       FRANKLIN TEMPLETON LTD DURATION INCOME TRUST   \n",
        "10      FRANKLIN TEMPLETON LTD DURATION INCOME TRUST   \n",
        "11      FRANKLIN TEMPLETON LTD DURATION INCOME TRUST   \n",
        "12        FRANKLIN TEMPLETON STRATEGIC INCOME TRUST    \n",
        "13        FRANKLIN TEMPLETON STRATEGIC INCOME TRUST    \n",
        "14        FRANKLIN TEMPLETON STRATEGIC INCOME TRUST    \n",
        "15        FRANKLIN TEMPLETON STRATEGIC INCOME TRUST    \n",
        "\n",
        "                                                  n2  Levenshtein      Jaro  \\\n",
        "0                 FRANKLIN LTD DURATION INCOME TRUST            0  1.000000   \n",
        "1   FRANKLIN TEMPLETON LIMITED DURATION INCOME TRUST           14  0.794935   \n",
        "2       FRANKLIN TEMPLETON LTD DURATION INCOME TRUST           10  0.816399   \n",
        "3         FRANKLIN TEMPLETON STRATEGIC INCOME TRUST            14  0.765007   \n",
        "4                 FRANKLIN LTD DURATION INCOME TRUST           14  0.794935   \n",
        "5   FRANKLIN TEMPLETON LIMITED DURATION INCOME TRUST            0  1.000000   \n",
        "6       FRANKLIN TEMPLETON LTD DURATION INCOME TRUST            4  0.911616   \n",
        "7         FRANKLIN TEMPLETON STRATEGIC INCOME TRUST            14  0.845314   \n",
        "8                 FRANKLIN LTD DURATION INCOME TRUST           10  0.816399   \n",
        "9   FRANKLIN TEMPLETON LIMITED DURATION INCOME TRUST            4  0.911616   \n",
        "10      FRANKLIN TEMPLETON LTD DURATION INCOME TRUST            0  1.000000   \n",
        "11        FRANKLIN TEMPLETON STRATEGIC INCOME TRUST            10  0.843852   \n",
        "12                FRANKLIN LTD DURATION INCOME TRUST           14  0.765007   \n",
        "13  FRANKLIN TEMPLETON LIMITED DURATION INCOME TRUST           14  0.845314   \n",
        "14      FRANKLIN TEMPLETON LTD DURATION INCOME TRUST           10  0.843852   \n",
        "15        FRANKLIN TEMPLETON STRATEGIC INCOME TRUST             0  1.000000   \n",
        "\n",
        "     Jaccard  \n",
        "0   1.000000  \n",
        "1   0.941176  \n",
        "2   0.941176  \n",
        "3   0.833333  \n",
        "4   0.941176  \n",
        "5   1.000000  \n",
        "6   1.000000  \n",
        "7   0.888889  \n",
        "8   0.941176  \n",
        "9   1.000000  \n",
        "10  1.000000  \n",
        "11  0.888889  \n",
        "12  0.833333  \n",
        "13  0.888889  \n",
        "14  0.888889  \n",
        "15  1.000000  "
       ]
      }
     ],
     "prompt_number": 78
    },
    {
     "cell_type": "heading",
     "level": 2,
     "metadata": {},
     "source": [
      "N-Grams/Shingling"
     ]
    },
    {
     "cell_type": "code",
     "collapsed": false,
     "input": [
      "\n",
      "def ngrams(seq, n):\n",
      "    \"List all the (overlapping) ngrams in a sequence.\"\n",
      "    return [seq[i:i+n] for i in range(1+len(seq)-n)]\n",
      "\n",
      "print(ngrams(names[0], 2))\n",
      "print(ngrams(names[1], 2))\n",
      "print(jaccard_similarity(ngrams(names[0], 2), ngrams(names[1], 2)))"
     ],
     "language": "python",
     "metadata": {},
     "outputs": [
      {
       "output_type": "stream",
       "stream": "stdout",
       "text": [
        "[u'FR', u'RA', u'AN', u'NK', u'KL', u'LI', u'IN', u'N ', u' L', u'LT', u'TD', u'D ', u' D', u'DU', u'UR', u'RA', u'AT', u'TI', u'IO', u'ON', u'N ', u' I', u'IN', u'NC', u'CO', u'OM', u'ME', u'E ', u' T', u'TR', u'RU', u'US', u'ST']\n",
        "[u'FR', u'RA', u'AN', u'NK', u'KL', u'LI', u'IN', u'N ', u' T', u'TE', u'EM', u'MP', u'PL', u'LE', u'ET', u'TO', u'ON', u'N ', u' L', u'LI', u'IM', u'MI', u'IT', u'TE', u'ED', u'D ', u' D', u'DU', u'UR', u'RA', u'AT', u'TI', u'IO', u'ON', u'N ', u' I', u'IN', u'NC', u'CO', u'OM', u'ME', u'E ', u' T', u'TR', u'RU', u'US', u'ST']\n",
        "0.682926829268\n"
       ]
      }
     ],
     "prompt_number": 137
    },
    {
     "cell_type": "code",
     "collapsed": false,
     "input": [
      "print(ngrams(names[0].split(), 2))\n",
      "print(ngrams(names[1].split(), 2))\n",
      "print(jaccard_similarity((tuple(x) for x in ngrams(names[0].split(), 2)), \n",
      "                         (tuple(x) for x in ngrams(names[2].split(), 2))))"
     ],
     "language": "python",
     "metadata": {},
     "outputs": [
      {
       "output_type": "stream",
       "stream": "stdout",
       "text": [
        "[[u'FRANKLIN', u'LTD'], [u'LTD', u'DURATION'], [u'DURATION', u'INCOME'], [u'INCOME', u'TRUST']]\n",
        "[[u'FRANKLIN', u'TEMPLETON'], [u'TEMPLETON', u'LIMITED'], [u'LIMITED', u'DURATION'], [u'DURATION', u'INCOME'], [u'INCOME', u'TRUST']]\n",
        "0.5\n"
       ]
      }
     ],
     "prompt_number": 151
    },
    {
     "cell_type": "code",
     "collapsed": false,
     "input": [],
     "language": "python",
     "metadata": {},
     "outputs": []
    }
   ],
   "metadata": {}
  }
 ]
}